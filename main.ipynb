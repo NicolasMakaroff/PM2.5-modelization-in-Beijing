{
 "cells": [
  {
   "cell_type": "code",
   "execution_count": 1,
   "metadata": {
    "slideshow": {
     "slide_type": "slide"
    }
   },
   "outputs": [],
   "source": [
    "# Import relevant items\n",
    "import pandas as pd\n",
    "import numpy as np\n",
    "\n",
    "import seaborn as sns\n",
    "%matplotlib inline"
   ]
  },
  {
   "cell_type": "code",
   "execution_count": 2,
   "metadata": {
    "slideshow": {
     "slide_type": "slide"
    }
   },
   "outputs": [],
   "source": [
    "# Let's first load the data and take a look at what we have.\n",
    "df = pd.read_csv('PRSA_Data_20130301-20170228/PRSA_Data_Aotizhongxin_20130301-20170228.csv')\n",
    "df1 = pd.read_csv('PRSA_Data_20130301-20170228/PRSA_Data_Changping_20130301-20170228.csv')\n",
    "df2 = pd.read_csv('PRSA_Data_20130301-20170228/PRSA_Data_Dingling_20130301-20170228.csv')\n",
    "df3 = pd.read_csv('PRSA_Data_20130301-20170228/PRSA_Data_Dongsi_20130301-20170228.csv')\n",
    "df4 = pd.read_csv('PRSA_Data_20130301-20170228/PRSA_Data_Guanyuan_20130301-20170228.csv')\n",
    "df5 = pd.read_csv('PRSA_Data_20130301-20170228/PRSA_Data_Gucheng_20130301-20170228.csv')\n",
    "df6 = pd.read_csv('PRSA_Data_20130301-20170228/PRSA_Data_Huairou_20130301-20170228.csv')\n",
    "df7 = pd.read_csv('PRSA_Data_20130301-20170228/PRSA_Data_Nongzhanguan_20130301-20170228.csv')\n",
    "df8 = pd.read_csv('PRSA_Data_20130301-20170228/PRSA_Data_Shunyi_20130301-20170228.csv')\n",
    "df9 = pd.read_csv('PRSA_Data_20130301-20170228/PRSA_Data_Tiantan_20130301-20170228.csv')\n",
    "df10 = pd.read_csv('PRSA_Data_20130301-20170228/PRSA_Data_Wanliu_20130301-20170228.csv')\n",
    "df11 = pd.read_csv('PRSA_Data_20130301-20170228/PRSA_Data_Wanshouxigong_20130301-20170228.csv')"
   ]
  },
  {
   "cell_type": "code",
   "execution_count": 3,
   "metadata": {
    "slideshow": {
     "slide_type": "slide"
    }
   },
   "outputs": [
    {
     "name": "stdout",
     "output_type": "stream",
     "text": [
      "   No  year  month  day  hour  PM2.5  PM10   SO2   NO2     CO    O3  TEMP  \\\n",
      "0   1  2013      3    1     0    4.0   4.0   4.0   7.0  300.0  77.0  -0.7   \n",
      "1   2  2013      3    1     1    8.0   8.0   4.0   7.0  300.0  77.0  -1.1   \n",
      "2   3  2013      3    1     2    7.0   7.0   5.0  10.0  300.0  73.0  -1.1   \n",
      "3   4  2013      3    1     3    6.0   6.0  11.0  11.0  300.0  72.0  -1.4   \n",
      "4   5  2013      3    1     4    3.0   3.0  12.0  12.0  300.0  72.0  -2.0   \n",
      "\n",
      "     PRES  DEWP  RAIN   wd  WSPM       station  \n",
      "0  1023.0 -18.8   0.0  NNW   4.4  Aotizhongxin  \n",
      "1  1023.2 -18.2   0.0    N   4.7  Aotizhongxin  \n",
      "2  1023.5 -18.2   0.0  NNW   5.6  Aotizhongxin  \n",
      "3  1024.5 -19.4   0.0   NW   3.1  Aotizhongxin  \n",
      "4  1025.2 -19.5   0.0    N   2.0  Aotizhongxin  \n",
      "Index(['No', 'year', 'month', 'day', 'hour', 'PM2.5', 'PM10', 'SO2', 'NO2',\n",
      "       'CO', 'O3', 'TEMP', 'PRES', 'DEWP', 'RAIN', 'wd', 'WSPM', 'station'],\n",
      "      dtype='object')\n"
     ]
    }
   ],
   "source": [
    "print(df.head())\n",
    "print(df.columns)"
   ]
  },
  {
   "cell_type": "code",
   "execution_count": 4,
   "metadata": {
    "slideshow": {
     "slide_type": "slide"
    }
   },
   "outputs": [
    {
     "data": {
      "text/html": [
       "<div>\n",
       "<style scoped>\n",
       "    .dataframe tbody tr th:only-of-type {\n",
       "        vertical-align: middle;\n",
       "    }\n",
       "\n",
       "    .dataframe tbody tr th {\n",
       "        vertical-align: top;\n",
       "    }\n",
       "\n",
       "    .dataframe thead th {\n",
       "        text-align: right;\n",
       "    }\n",
       "</style>\n",
       "<table border=\"1\" class=\"dataframe\">\n",
       "  <thead>\n",
       "    <tr style=\"text-align: right;\">\n",
       "      <th></th>\n",
       "      <th>No</th>\n",
       "      <th>year</th>\n",
       "      <th>month</th>\n",
       "      <th>day</th>\n",
       "      <th>hour</th>\n",
       "      <th>PM2.5</th>\n",
       "      <th>PM10</th>\n",
       "      <th>SO2</th>\n",
       "      <th>NO2</th>\n",
       "      <th>CO</th>\n",
       "      <th>O3</th>\n",
       "      <th>TEMP</th>\n",
       "      <th>PRES</th>\n",
       "      <th>DEWP</th>\n",
       "      <th>RAIN</th>\n",
       "      <th>WSPM</th>\n",
       "    </tr>\n",
       "  </thead>\n",
       "  <tbody>\n",
       "    <tr>\n",
       "      <th>count</th>\n",
       "      <td>35064.000000</td>\n",
       "      <td>35064.000000</td>\n",
       "      <td>35064.000000</td>\n",
       "      <td>35064.000000</td>\n",
       "      <td>35064.000000</td>\n",
       "      <td>34139.000000</td>\n",
       "      <td>34346.000000</td>\n",
       "      <td>34129.000000</td>\n",
       "      <td>34041.000000</td>\n",
       "      <td>33288.000000</td>\n",
       "      <td>33345.000000</td>\n",
       "      <td>35044.000000</td>\n",
       "      <td>35044.000000</td>\n",
       "      <td>35044.000000</td>\n",
       "      <td>35044.000000</td>\n",
       "      <td>35050.000000</td>\n",
       "    </tr>\n",
       "    <tr>\n",
       "      <th>mean</th>\n",
       "      <td>17532.500000</td>\n",
       "      <td>2014.662560</td>\n",
       "      <td>6.522930</td>\n",
       "      <td>15.729637</td>\n",
       "      <td>11.500000</td>\n",
       "      <td>82.773611</td>\n",
       "      <td>110.060391</td>\n",
       "      <td>17.375901</td>\n",
       "      <td>59.305833</td>\n",
       "      <td>1262.945145</td>\n",
       "      <td>56.353358</td>\n",
       "      <td>13.584607</td>\n",
       "      <td>1011.846920</td>\n",
       "      <td>3.123062</td>\n",
       "      <td>0.067421</td>\n",
       "      <td>1.708496</td>\n",
       "    </tr>\n",
       "    <tr>\n",
       "      <th>std</th>\n",
       "      <td>10122.249256</td>\n",
       "      <td>1.177213</td>\n",
       "      <td>3.448752</td>\n",
       "      <td>8.800218</td>\n",
       "      <td>6.922285</td>\n",
       "      <td>82.135694</td>\n",
       "      <td>95.223005</td>\n",
       "      <td>22.823017</td>\n",
       "      <td>37.116200</td>\n",
       "      <td>1221.436236</td>\n",
       "      <td>57.916327</td>\n",
       "      <td>11.399097</td>\n",
       "      <td>10.404047</td>\n",
       "      <td>13.688896</td>\n",
       "      <td>0.910056</td>\n",
       "      <td>1.204071</td>\n",
       "    </tr>\n",
       "    <tr>\n",
       "      <th>min</th>\n",
       "      <td>1.000000</td>\n",
       "      <td>2013.000000</td>\n",
       "      <td>1.000000</td>\n",
       "      <td>1.000000</td>\n",
       "      <td>0.000000</td>\n",
       "      <td>3.000000</td>\n",
       "      <td>2.000000</td>\n",
       "      <td>0.285600</td>\n",
       "      <td>2.000000</td>\n",
       "      <td>100.000000</td>\n",
       "      <td>0.214200</td>\n",
       "      <td>-16.800000</td>\n",
       "      <td>985.900000</td>\n",
       "      <td>-35.300000</td>\n",
       "      <td>0.000000</td>\n",
       "      <td>0.000000</td>\n",
       "    </tr>\n",
       "    <tr>\n",
       "      <th>25%</th>\n",
       "      <td>8766.750000</td>\n",
       "      <td>2014.000000</td>\n",
       "      <td>4.000000</td>\n",
       "      <td>8.000000</td>\n",
       "      <td>5.750000</td>\n",
       "      <td>22.000000</td>\n",
       "      <td>38.000000</td>\n",
       "      <td>3.000000</td>\n",
       "      <td>30.000000</td>\n",
       "      <td>500.000000</td>\n",
       "      <td>8.000000</td>\n",
       "      <td>3.100000</td>\n",
       "      <td>1003.300000</td>\n",
       "      <td>-8.100000</td>\n",
       "      <td>0.000000</td>\n",
       "      <td>0.900000</td>\n",
       "    </tr>\n",
       "    <tr>\n",
       "      <th>50%</th>\n",
       "      <td>17532.500000</td>\n",
       "      <td>2015.000000</td>\n",
       "      <td>7.000000</td>\n",
       "      <td>16.000000</td>\n",
       "      <td>11.500000</td>\n",
       "      <td>58.000000</td>\n",
       "      <td>87.000000</td>\n",
       "      <td>9.000000</td>\n",
       "      <td>53.000000</td>\n",
       "      <td>900.000000</td>\n",
       "      <td>42.000000</td>\n",
       "      <td>14.500000</td>\n",
       "      <td>1011.400000</td>\n",
       "      <td>3.800000</td>\n",
       "      <td>0.000000</td>\n",
       "      <td>1.400000</td>\n",
       "    </tr>\n",
       "    <tr>\n",
       "      <th>75%</th>\n",
       "      <td>26298.250000</td>\n",
       "      <td>2016.000000</td>\n",
       "      <td>10.000000</td>\n",
       "      <td>23.000000</td>\n",
       "      <td>17.250000</td>\n",
       "      <td>114.000000</td>\n",
       "      <td>155.000000</td>\n",
       "      <td>21.000000</td>\n",
       "      <td>82.000000</td>\n",
       "      <td>1500.000000</td>\n",
       "      <td>82.000000</td>\n",
       "      <td>23.300000</td>\n",
       "      <td>1020.100000</td>\n",
       "      <td>15.600000</td>\n",
       "      <td>0.000000</td>\n",
       "      <td>2.200000</td>\n",
       "    </tr>\n",
       "    <tr>\n",
       "      <th>max</th>\n",
       "      <td>35064.000000</td>\n",
       "      <td>2017.000000</td>\n",
       "      <td>12.000000</td>\n",
       "      <td>31.000000</td>\n",
       "      <td>23.000000</td>\n",
       "      <td>898.000000</td>\n",
       "      <td>984.000000</td>\n",
       "      <td>341.000000</td>\n",
       "      <td>290.000000</td>\n",
       "      <td>10000.000000</td>\n",
       "      <td>423.000000</td>\n",
       "      <td>40.500000</td>\n",
       "      <td>1042.000000</td>\n",
       "      <td>28.500000</td>\n",
       "      <td>72.500000</td>\n",
       "      <td>11.200000</td>\n",
       "    </tr>\n",
       "  </tbody>\n",
       "</table>\n",
       "</div>"
      ],
      "text/plain": [
       "                 No          year         month           day          hour  \\\n",
       "count  35064.000000  35064.000000  35064.000000  35064.000000  35064.000000   \n",
       "mean   17532.500000   2014.662560      6.522930     15.729637     11.500000   \n",
       "std    10122.249256      1.177213      3.448752      8.800218      6.922285   \n",
       "min        1.000000   2013.000000      1.000000      1.000000      0.000000   \n",
       "25%     8766.750000   2014.000000      4.000000      8.000000      5.750000   \n",
       "50%    17532.500000   2015.000000      7.000000     16.000000     11.500000   \n",
       "75%    26298.250000   2016.000000     10.000000     23.000000     17.250000   \n",
       "max    35064.000000   2017.000000     12.000000     31.000000     23.000000   \n",
       "\n",
       "              PM2.5          PM10           SO2           NO2            CO  \\\n",
       "count  34139.000000  34346.000000  34129.000000  34041.000000  33288.000000   \n",
       "mean      82.773611    110.060391     17.375901     59.305833   1262.945145   \n",
       "std       82.135694     95.223005     22.823017     37.116200   1221.436236   \n",
       "min        3.000000      2.000000      0.285600      2.000000    100.000000   \n",
       "25%       22.000000     38.000000      3.000000     30.000000    500.000000   \n",
       "50%       58.000000     87.000000      9.000000     53.000000    900.000000   \n",
       "75%      114.000000    155.000000     21.000000     82.000000   1500.000000   \n",
       "max      898.000000    984.000000    341.000000    290.000000  10000.000000   \n",
       "\n",
       "                 O3          TEMP          PRES          DEWP          RAIN  \\\n",
       "count  33345.000000  35044.000000  35044.000000  35044.000000  35044.000000   \n",
       "mean      56.353358     13.584607   1011.846920      3.123062      0.067421   \n",
       "std       57.916327     11.399097     10.404047     13.688896      0.910056   \n",
       "min        0.214200    -16.800000    985.900000    -35.300000      0.000000   \n",
       "25%        8.000000      3.100000   1003.300000     -8.100000      0.000000   \n",
       "50%       42.000000     14.500000   1011.400000      3.800000      0.000000   \n",
       "75%       82.000000     23.300000   1020.100000     15.600000      0.000000   \n",
       "max      423.000000     40.500000   1042.000000     28.500000     72.500000   \n",
       "\n",
       "               WSPM  \n",
       "count  35050.000000  \n",
       "mean       1.708496  \n",
       "std        1.204071  \n",
       "min        0.000000  \n",
       "25%        0.900000  \n",
       "50%        1.400000  \n",
       "75%        2.200000  \n",
       "max       11.200000  "
      ]
     },
     "execution_count": 4,
     "metadata": {},
     "output_type": "execute_result"
    }
   ],
   "source": [
    "df.dtypes\n",
    "df.describe()"
   ]
  },
  {
   "cell_type": "code",
   "execution_count": 5,
   "metadata": {
    "slideshow": {
     "slide_type": "slide"
    }
   },
   "outputs": [],
   "source": [
    "import matplotlib.pyplot as plt\n",
    "plt.style.use('ggplot')\n",
    "plt.rcParams[\"figure.figsize\"] = [16,9]"
   ]
  },
  {
   "cell_type": "code",
   "execution_count": 6,
   "metadata": {
    "slideshow": {
     "slide_type": "slide"
    }
   },
   "outputs": [
    {
     "data": {
      "text/plain": [
       "Index(['year', 'month', 'day', 'hour', 'PM2.5', 'TEMP', 'PRES', 'DEWP', 'wd',\n",
       "       'WSPM'],\n",
       "      dtype='object')"
      ]
     },
     "execution_count": 6,
     "metadata": {},
     "output_type": "execute_result"
    }
   ],
   "source": [
    "PM25 = df.drop('PM2.5', axis=1)\n",
    "#drop unneeded features\n",
    "df = df.drop(['RAIN','station','SO2','NO2','O3','PM10','CO','No'], axis=1)\n",
    "\n",
    "df.columns"
   ]
  },
  {
   "cell_type": "code",
   "execution_count": 7,
   "metadata": {},
   "outputs": [
    {
     "data": {
      "text/plain": [
       "Index(['year', 'month', 'day', 'hour', 'PM2.5', 'TEMP', 'PRES', 'DEWP', 'wd',\n",
       "       'WSPM'],\n",
       "      dtype='object')"
      ]
     },
     "execution_count": 7,
     "metadata": {},
     "output_type": "execute_result"
    }
   ],
   "source": [
    "PM25 = df1.drop('PM2.5',axis=1)\n",
    "df1 = df1.drop(['RAIN','station','SO2','NO2','O3','PM10','CO','No'], axis=1)\n",
    "df1.columns"
   ]
  },
  {
   "cell_type": "code",
   "execution_count": 8,
   "metadata": {},
   "outputs": [
    {
     "data": {
      "text/plain": [
       "Index(['year', 'month', 'day', 'hour', 'PM2.5', 'TEMP', 'PRES', 'DEWP', 'wd',\n",
       "       'WSPM'],\n",
       "      dtype='object')"
      ]
     },
     "execution_count": 8,
     "metadata": {},
     "output_type": "execute_result"
    }
   ],
   "source": [
    "PM25 = df2.drop('PM2.5',axis=1)\n",
    "df2 = df2.drop(['RAIN','station','SO2','NO2','O3','PM10','CO','No'], axis=1)\n",
    "df2.columns"
   ]
  },
  {
   "cell_type": "code",
   "execution_count": 9,
   "metadata": {},
   "outputs": [
    {
     "data": {
      "text/plain": [
       "Index(['year', 'month', 'day', 'hour', 'PM2.5', 'TEMP', 'PRES', 'DEWP', 'wd',\n",
       "       'WSPM'],\n",
       "      dtype='object')"
      ]
     },
     "execution_count": 9,
     "metadata": {},
     "output_type": "execute_result"
    }
   ],
   "source": [
    "PM25 = df3.drop('PM2.5',axis=1)\n",
    "df3 = df3.drop(['RAIN','station','SO2','NO2','O3','PM10','CO','No'], axis=1)\n",
    "df3.columns\n",
    "\n",
    "PM25 = df4.drop('PM2.5',axis=1)\n",
    "df4 = df4.drop(['RAIN','station','SO2','NO2','O3','PM10','CO','No'], axis=1)\n",
    "df1.columns\n",
    "\n",
    "PM25 = df5.drop('PM2.5',axis=1)\n",
    "df5 = df5.drop(['RAIN','station','SO2','NO2','O3','PM10','CO','No'], axis=1)\n",
    "df5.columns\n",
    "\n",
    "PM25 = df6.drop('PM2.5',axis=1)\n",
    "df6 = df6.drop(['RAIN','station','SO2','NO2','O3','PM10','CO','No'], axis=1)\n",
    "df6.columns\n",
    "\n",
    "PM25 = df7.drop('PM2.5',axis=1)\n",
    "df7 = df7.drop(['RAIN','station','SO2','NO2','O3','PM10','CO','No'], axis=1)\n",
    "df7.columns\n",
    "\n",
    "PM25 = df8.drop('PM2.5',axis=1)\n",
    "df8 = df8.drop(['RAIN','station','SO2','NO2','O3','PM10','CO','No'], axis=1)\n",
    "df8.columns\n",
    "\n",
    "PM25 = df9.drop('PM2.5',axis=1)\n",
    "df9 = df9.drop(['RAIN','station','SO2','NO2','O3','PM10','CO','No'], axis=1)\n",
    "df9.columns\n",
    "\n",
    "PM25 = df10.drop('PM2.5',axis=1)\n",
    "df10 = df10.drop(['RAIN','station','SO2','NO2','O3','PM10','CO','No'], axis=1)\n",
    "df10.columns\n",
    "\n",
    "PM25 = df11.drop('PM2.5',axis=1)\n",
    "df11 = df11.drop(['RAIN','station','SO2','NO2','O3','PM10','CO','No'], axis=1)\n",
    "df11.columns"
   ]
  },
  {
   "cell_type": "code",
   "execution_count": 10,
   "metadata": {
    "slideshow": {
     "slide_type": "slide"
    }
   },
   "outputs": [],
   "source": [
    "df_time = pd.to_datetime(df[['year', 'month', 'day']])"
   ]
  },
  {
   "cell_type": "code",
   "execution_count": 11,
   "metadata": {
    "slideshow": {
     "slide_type": "slide"
    }
   },
   "outputs": [],
   "source": [
    "df.insert(0, \"Date (LST)\", df_time, True) \n",
    "df1.insert(0, \"Date (LST)\", df_time, True) \n",
    "df2.insert(0, \"Date (LST)\", df_time, True) \n",
    "df3.insert(0, \"Date (LST)\", df_time, True) \n",
    "df4.insert(0, \"Date (LST)\", df_time, True) \n",
    "df5.insert(0, \"Date (LST)\", df_time, True) \n",
    "df6.insert(0, \"Date (LST)\", df_time, True) \n",
    "df7.insert(0, \"Date (LST)\", df_time, True) \n",
    "df8.insert(0, \"Date (LST)\", df_time, True) \n",
    "df9.insert(0, \"Date (LST)\", df_time, True) \n",
    "df10.insert(0, \"Date (LST)\", df_time, True) \n",
    "df11.insert(0, \"Date (LST)\", df_time, True) "
   ]
  },
  {
   "cell_type": "code",
   "execution_count": 12,
   "metadata": {
    "slideshow": {
     "slide_type": "slide"
    }
   },
   "outputs": [
    {
     "data": {
      "text/plain": [
       "Index(['Date (LST)', 'year', 'month', 'day', 'hour', 'PM2.5', 'TEMP', 'PRES',\n",
       "       'DEWP', 'wd', 'WSPM'],\n",
       "      dtype='object')"
      ]
     },
     "execution_count": 12,
     "metadata": {},
     "output_type": "execute_result"
    }
   ],
   "source": [
    "df.columns"
   ]
  },
  {
   "cell_type": "markdown",
   "metadata": {
    "slideshow": {
     "slide_type": "slide"
    }
   },
   "source": [
    "Index(['Date (LST)', 'Month', 'Hour', 'Value', 'DIR', 'SPD', 'TEMP', 'DEWP'], dtype='object')"
   ]
  },
  {
   "cell_type": "code",
   "execution_count": 13,
   "metadata": {
    "slideshow": {
     "slide_type": "slide"
    }
   },
   "outputs": [],
   "source": [
    "df['Date (LST)'] = pd.to_datetime(df['Date (LST)'])\n",
    "df = df.rename(columns={\"Date (LST)\": \"Date\"})\n",
    "df1['Date (LST)'] = pd.to_datetime(df1['Date (LST)'])\n",
    "df1 = df1.rename(columns={\"Date (LST)\": \"Date\"})\n",
    "df2['Date (LST)'] = pd.to_datetime(df2['Date (LST)'])\n",
    "df2 = df2.rename(columns={\"Date (LST)\": \"Date\"})\n",
    "df3['Date (LST)'] = pd.to_datetime(df3['Date (LST)'])\n",
    "df3 = df3.rename(columns={\"Date (LST)\": \"Date\"})\n",
    "df4['Date (LST)'] = pd.to_datetime(df4['Date (LST)'])\n",
    "df4 = df4.rename(columns={\"Date (LST)\": \"Date\"})\n",
    "df5['Date (LST)'] = pd.to_datetime(df5['Date (LST)'])\n",
    "df5 = df5.rename(columns={\"Date (LST)\": \"Date\"})\n",
    "df6['Date (LST)'] = pd.to_datetime(df6['Date (LST)'])\n",
    "df6 = df6.rename(columns={\"Date (LST)\": \"Date\"})\n",
    "df7['Date (LST)'] = pd.to_datetime(df7['Date (LST)'])\n",
    "df7 = df7.rename(columns={\"Date (LST)\": \"Date\"})\n",
    "df8['Date (LST)'] = pd.to_datetime(df8['Date (LST)'])\n",
    "df8 = df8.rename(columns={\"Date (LST)\": \"Date\"})\n",
    "df9['Date (LST)'] = pd.to_datetime(df9['Date (LST)'])\n",
    "df9 = df9.rename(columns={\"Date (LST)\": \"Date\"})\n",
    "df10['Date (LST)'] = pd.to_datetime(df10['Date (LST)'])\n",
    "df10 = df10.rename(columns={\"Date (LST)\": \"Date\"})\n",
    "df11['Date (LST)'] = pd.to_datetime(df11['Date (LST)'])\n",
    "df11 = df11.rename(columns={\"Date (LST)\": \"Date\"})"
   ]
  },
  {
   "cell_type": "code",
   "execution_count": 14,
   "metadata": {
    "slideshow": {
     "slide_type": "slide"
    }
   },
   "outputs": [
    {
     "data": {
      "text/plain": [
       "Index(['Date', 'month', 'day', 'hour', 'PM2.5', 'TEMP', 'PRES', 'DEWP', 'wd',\n",
       "       'WSPM'],\n",
       "      dtype='object')"
      ]
     },
     "execution_count": 14,
     "metadata": {},
     "output_type": "execute_result"
    }
   ],
   "source": [
    "df = df.drop(['year'], axis=1)\n",
    "df1 = df1.drop(['year'], axis=1)\n",
    "df2 = df2.drop(['year'], axis=1)\n",
    "df3 = df3.drop(['year'], axis=1)\n",
    "df4 = df4.drop(['year'], axis=1)\n",
    "df5 = df5.drop(['year'], axis=1)\n",
    "df6 = df6.drop(['year'], axis=1)\n",
    "df7 = df7.drop(['year'], axis=1)\n",
    "df8 = df8.drop(['year'], axis=1)\n",
    "df9 = df9.drop(['year'], axis=1)\n",
    "df10 = df10.drop(['year'], axis=1)\n",
    "df11 = df11.drop(['year'], axis=1)\n",
    "df.columns"
   ]
  },
  {
   "cell_type": "code",
   "execution_count": 15,
   "metadata": {
    "slideshow": {
     "slide_type": "slide"
    }
   },
   "outputs": [],
   "source": [
    "cleanup_nums = {\"wd\":     {\"E\": 0, \"ENE\": 22.5,\"NE\": 45,\"NNE\": 77.5, \"N\":90, \"NNW\": 112.5, \"NW\" : 135,\n",
    "                           \"WNW\": 157.5, \"W\":180, \"WSW\":202.5, \"SW\":225, \"SSW\":247.5, \"S\": 270, \n",
    "                           \"SSE\": 292.5, \"SE\": 315, \"ESE\":337.5}\n",
    "                }\n",
    "df.replace(cleanup_nums, inplace=True)\n",
    "df1.replace(cleanup_nums, inplace=True)\n",
    "df2.replace(cleanup_nums, inplace=True)\n",
    "df3.replace(cleanup_nums, inplace=True)\n",
    "df4.replace(cleanup_nums, inplace=True)\n",
    "df5.replace(cleanup_nums, inplace=True)\n",
    "df6.replace(cleanup_nums, inplace=True)\n",
    "df7.replace(cleanup_nums, inplace=True)\n",
    "df8.replace(cleanup_nums, inplace=True)\n",
    "df9.replace(cleanup_nums, inplace=True)\n",
    "df10.replace(cleanup_nums, inplace=True)\n",
    "df11.replace(cleanup_nums, inplace=True)"
   ]
  },
  {
   "cell_type": "code",
   "execution_count": 16,
   "metadata": {
    "slideshow": {
     "slide_type": "slide"
    }
   },
   "outputs": [
    {
     "data": {
      "image/png": "[encoded data removed]",
      "text/plain": [
       "<Figure size 1152x648 with 1 Axes>"
      ]
     },
     "metadata": {},
     "output_type": "display_data"
    }
   ],
   "source": [
    "x = df5['month']\n",
    "y = df5['PM2.5']\n",
    "plt.scatter(x,y)\n",
    "plt.xlabel('Month')\n",
    "plt.ylabel('PM2.5 Level')\n",
    "plt.title('PM2.5 by Month')\n",
    "plt.show()"
   ]
  },
  {
   "cell_type": "code",
   "execution_count": 17,
   "metadata": {
    "slideshow": {
     "slide_type": "slide"
    }
   },
   "outputs": [
    {
     "data": {
      "image/png": "[encoded data removed]",
      "text/plain": [
       "<Figure size 1152x648 with 1 Axes>"
      ]
     },
     "metadata": {},
     "output_type": "display_data"
    }
   ],
   "source": [
    "x = df5['hour']\n",
    "y = df5['PM2.5']\n",
    "plt.scatter(x,y)\n",
    "plt.xlabel('Hour')\n",
    "plt.ylabel('PM2.5 Level')\n",
    "plt.title('PM2.5 by Hour')\n",
    "plt.show()"
   ]
  },
  {
   "cell_type": "code",
   "execution_count": 18,
   "metadata": {
    "slideshow": {
     "slide_type": "slide"
    }
   },
   "outputs": [
    {
     "data": {
      "image/png": "[encoded data removed]",
      "text/plain": [
       "<Figure size 1152x648 with 1 Axes>"
      ]
     },
     "metadata": {},
     "output_type": "display_data"
    }
   ],
   "source": [
    "x = df5['WSPM']\n",
    "y = df5['PM2.5']\n",
    "plt.scatter(x,y)\n",
    "plt.xlabel('WSPM')\n",
    "plt.ylabel('PM2.5 Level')\n",
    "plt.title('PM2.5 by Windspeed')\n",
    "plt.show()"
   ]
  },
  {
   "cell_type": "code",
   "execution_count": 19,
   "metadata": {
    "slideshow": {
     "slide_type": "slide"
    }
   },
   "outputs": [],
   "source": [
    "def time_series(start, end):\n",
    "    time_series_df = df5[['Date', 'PM2.5']][(df5['Date'] >= start) & (df5['Date'] <= end)]\n",
    "    x = time_series_df.Date\n",
    "    y = time_series_df['PM2.5']\n",
    "    plt.plot(x,y)\n",
    "    plt.xlabel('Time')\n",
    "    plt.ylabel('PM2.5 Value')\n",
    "    plt.title('PM2.5 Time Series')\n",
    "    return plt.show();"
   ]
  },
  {
   "cell_type": "code",
   "execution_count": 20,
   "metadata": {
    "slideshow": {
     "slide_type": "slide"
    }
   },
   "outputs": [
    {
     "name": "stderr",
     "output_type": "stream",
     "text": [
      "/Users/nicolasmakaroff/anaconda3/lib/python3.7/site-packages/pandas/plotting/_converter.py:129: FutureWarning: Using an implicitly registered datetime converter for a matplotlib plotting method. The converter was registered by pandas on import. Future versions of pandas will require you to explicitly register matplotlib converters.\n",
      "\n",
      "To register the converters:\n",
      "\t>>> from pandas.plotting import register_matplotlib_converters\n",
      "\t>>> register_matplotlib_converters()\n",
      "  warnings.warn(msg, FutureWarning)\n"
     ]
    },
    {
     "data": {
      "image/png": "[encoded data removed]",
      "text/plain": [
       "<Figure size 1152x648 with 1 Axes>"
      ]
     },
     "metadata": {},
     "output_type": "display_data"
    }
   ],
   "source": [
    "time_series('2013','2016')"
   ]
  },
  {
   "cell_type": "code",
   "execution_count": 21,
   "metadata": {
    "slideshow": {
     "slide_type": "slide"
    }
   },
   "outputs": [],
   "source": [
    "def shift_timeline(tab):  \n",
    "    tab['PM2.5_1'] = tab['PM2.5'].shift(periods=1)\n",
    "    tab['TEMP_1'] = tab.TEMP.shift(periods=1)\n",
    "    tab['SPD_1'] = tab.WSPM.shift(periods=1)\n",
    "    tab['DEWP_1'] = tab.DEWP.shift(periods=1)\n",
    "    tab['WD_1'] = tab.wd.shift(periods=1)\n",
    "    tab['PM2.5_2'] = tab['PM2.5'].shift(periods=2)\n",
    "    tab['TEMP_2'] = tab.TEMP.shift(periods=2)\n",
    "    tab['SPD_2'] = tab.WSPM.shift(periods=2)\n",
    "    tab['DEWP_2'] = tab.DEWP.shift(periods=2)\n",
    "    tab['WD_2'] = tab.wd.shift(periods=2)\n",
    "    tab['PM2.5_3'] = tab['PM2.5'].shift(periods=3)\n",
    "    tab['TEMP_3'] = tab.TEMP.shift(periods=3)\n",
    "    tab['SPD_3'] = tab.WSPM.shift(periods=3)\n",
    "    tab['DEWP_3'] = tab.DEWP.shift(periods=3)\n",
    "    tab['WD_3'] = tab.wd.shift(periods=3)\n",
    "    tab['PM2.5_4'] = tab['PM2.5'].shift(periods=4)\n",
    "    tab['TEMP_4'] = tab.TEMP.shift(periods=4)\n",
    "    tab['SPD_4'] = tab.WSPM.shift(periods=4)\n",
    "    tab['DEWP_4'] = tab.DEWP.shift(periods=4)\n",
    "    tab['WD_4'] = tab.wd.shift(periods=4)\n",
    "    tab['PM2.5_5'] = tab['PM2.5'].shift(periods=5)\n",
    "    tab['TEMP_5'] = tab.TEMP.shift(periods=5)\n",
    "    tab['SPD_5'] = tab.WSPM.shift(periods=5)\n",
    "    tab['DEWP_5'] = tab.DEWP.shift(periods=5)\n",
    "    tab['WD_5'] = tab.wd.shift(periods=5)"
   ]
  },
  {
   "cell_type": "code",
   "execution_count": 22,
   "metadata": {},
   "outputs": [],
   "source": [
    "shift_timeline(df)\n",
    "shift_timeline(df1)\n",
    "shift_timeline(df2)\n",
    "shift_timeline(df3)\n",
    "shift_timeline(df4)\n",
    "shift_timeline(df5)\n",
    "shift_timeline(df6)\n",
    "shift_timeline(df7)\n",
    "shift_timeline(df8)\n",
    "shift_timeline(df9)\n",
    "shift_timeline(df10)\n",
    "shift_timeline(df11)"
   ]
  },
  {
   "cell_type": "code",
   "execution_count": 23,
   "metadata": {
    "slideshow": {
     "slide_type": "slide"
    }
   },
   "outputs": [
    {
     "data": {
      "text/html": [
       "<div>\n",
       "<style scoped>\n",
       "    .dataframe tbody tr th:only-of-type {\n",
       "        vertical-align: middle;\n",
       "    }\n",
       "\n",
       "    .dataframe tbody tr th {\n",
       "        vertical-align: top;\n",
       "    }\n",
       "\n",
       "    .dataframe thead th {\n",
       "        text-align: right;\n",
       "    }\n",
       "</style>\n",
       "<table border=\"1\" class=\"dataframe\">\n",
       "  <thead>\n",
       "    <tr style=\"text-align: right;\">\n",
       "      <th></th>\n",
       "      <th>Date</th>\n",
       "      <th>month</th>\n",
       "      <th>day</th>\n",
       "      <th>hour</th>\n",
       "      <th>PM2.5</th>\n",
       "      <th>TEMP</th>\n",
       "      <th>PRES</th>\n",
       "      <th>DEWP</th>\n",
       "      <th>wd</th>\n",
       "      <th>WSPM</th>\n",
       "      <th>...</th>\n",
       "      <th>PM2.5_4</th>\n",
       "      <th>TEMP_4</th>\n",
       "      <th>SPD_4</th>\n",
       "      <th>DEWP_4</th>\n",
       "      <th>WD_4</th>\n",
       "      <th>PM2.5_5</th>\n",
       "      <th>TEMP_5</th>\n",
       "      <th>SPD_5</th>\n",
       "      <th>DEWP_5</th>\n",
       "      <th>WD_5</th>\n",
       "    </tr>\n",
       "  </thead>\n",
       "  <tbody>\n",
       "    <tr>\n",
       "      <th>0</th>\n",
       "      <td>2013-03-01</td>\n",
       "      <td>3</td>\n",
       "      <td>1</td>\n",
       "      <td>0</td>\n",
       "      <td>6.0</td>\n",
       "      <td>0.1</td>\n",
       "      <td>1021.1</td>\n",
       "      <td>-18.6</td>\n",
       "      <td>135.0</td>\n",
       "      <td>4.4</td>\n",
       "      <td>...</td>\n",
       "      <td>NaN</td>\n",
       "      <td>NaN</td>\n",
       "      <td>NaN</td>\n",
       "      <td>NaN</td>\n",
       "      <td>NaN</td>\n",
       "      <td>NaN</td>\n",
       "      <td>NaN</td>\n",
       "      <td>NaN</td>\n",
       "      <td>NaN</td>\n",
       "      <td>NaN</td>\n",
       "    </tr>\n",
       "    <tr>\n",
       "      <th>1</th>\n",
       "      <td>2013-03-01</td>\n",
       "      <td>3</td>\n",
       "      <td>1</td>\n",
       "      <td>1</td>\n",
       "      <td>6.0</td>\n",
       "      <td>-0.3</td>\n",
       "      <td>1021.5</td>\n",
       "      <td>-19.0</td>\n",
       "      <td>135.0</td>\n",
       "      <td>4.0</td>\n",
       "      <td>...</td>\n",
       "      <td>NaN</td>\n",
       "      <td>NaN</td>\n",
       "      <td>NaN</td>\n",
       "      <td>NaN</td>\n",
       "      <td>NaN</td>\n",
       "      <td>NaN</td>\n",
       "      <td>NaN</td>\n",
       "      <td>NaN</td>\n",
       "      <td>NaN</td>\n",
       "      <td>NaN</td>\n",
       "    </tr>\n",
       "    <tr>\n",
       "      <th>2</th>\n",
       "      <td>2013-03-01</td>\n",
       "      <td>3</td>\n",
       "      <td>1</td>\n",
       "      <td>2</td>\n",
       "      <td>5.0</td>\n",
       "      <td>-0.7</td>\n",
       "      <td>1021.5</td>\n",
       "      <td>-19.8</td>\n",
       "      <td>157.5</td>\n",
       "      <td>4.6</td>\n",
       "      <td>...</td>\n",
       "      <td>NaN</td>\n",
       "      <td>NaN</td>\n",
       "      <td>NaN</td>\n",
       "      <td>NaN</td>\n",
       "      <td>NaN</td>\n",
       "      <td>NaN</td>\n",
       "      <td>NaN</td>\n",
       "      <td>NaN</td>\n",
       "      <td>NaN</td>\n",
       "      <td>NaN</td>\n",
       "    </tr>\n",
       "    <tr>\n",
       "      <th>3</th>\n",
       "      <td>2013-03-01</td>\n",
       "      <td>3</td>\n",
       "      <td>1</td>\n",
       "      <td>3</td>\n",
       "      <td>6.0</td>\n",
       "      <td>-1.0</td>\n",
       "      <td>1022.7</td>\n",
       "      <td>-21.2</td>\n",
       "      <td>180.0</td>\n",
       "      <td>2.8</td>\n",
       "      <td>...</td>\n",
       "      <td>NaN</td>\n",
       "      <td>NaN</td>\n",
       "      <td>NaN</td>\n",
       "      <td>NaN</td>\n",
       "      <td>NaN</td>\n",
       "      <td>NaN</td>\n",
       "      <td>NaN</td>\n",
       "      <td>NaN</td>\n",
       "      <td>NaN</td>\n",
       "      <td>NaN</td>\n",
       "    </tr>\n",
       "    <tr>\n",
       "      <th>4</th>\n",
       "      <td>2013-03-01</td>\n",
       "      <td>3</td>\n",
       "      <td>1</td>\n",
       "      <td>4</td>\n",
       "      <td>5.0</td>\n",
       "      <td>-1.3</td>\n",
       "      <td>1023.0</td>\n",
       "      <td>-21.4</td>\n",
       "      <td>157.5</td>\n",
       "      <td>3.6</td>\n",
       "      <td>...</td>\n",
       "      <td>6.0</td>\n",
       "      <td>0.1</td>\n",
       "      <td>4.4</td>\n",
       "      <td>-18.6</td>\n",
       "      <td>135.0</td>\n",
       "      <td>NaN</td>\n",
       "      <td>NaN</td>\n",
       "      <td>NaN</td>\n",
       "      <td>NaN</td>\n",
       "      <td>NaN</td>\n",
       "    </tr>\n",
       "    <tr>\n",
       "      <th>5</th>\n",
       "      <td>2013-03-01</td>\n",
       "      <td>3</td>\n",
       "      <td>1</td>\n",
       "      <td>5</td>\n",
       "      <td>4.0</td>\n",
       "      <td>-1.8</td>\n",
       "      <td>1023.6</td>\n",
       "      <td>-21.9</td>\n",
       "      <td>0.0</td>\n",
       "      <td>1.2</td>\n",
       "      <td>...</td>\n",
       "      <td>6.0</td>\n",
       "      <td>-0.3</td>\n",
       "      <td>4.0</td>\n",
       "      <td>-19.0</td>\n",
       "      <td>135.0</td>\n",
       "      <td>6.0</td>\n",
       "      <td>0.1</td>\n",
       "      <td>4.4</td>\n",
       "      <td>-18.6</td>\n",
       "      <td>135.0</td>\n",
       "    </tr>\n",
       "    <tr>\n",
       "      <th>6</th>\n",
       "      <td>2013-03-01</td>\n",
       "      <td>3</td>\n",
       "      <td>1</td>\n",
       "      <td>6</td>\n",
       "      <td>3.0</td>\n",
       "      <td>-2.6</td>\n",
       "      <td>1024.3</td>\n",
       "      <td>-20.4</td>\n",
       "      <td>22.5</td>\n",
       "      <td>1.2</td>\n",
       "      <td>...</td>\n",
       "      <td>5.0</td>\n",
       "      <td>-0.7</td>\n",
       "      <td>4.6</td>\n",
       "      <td>-19.8</td>\n",
       "      <td>157.5</td>\n",
       "      <td>6.0</td>\n",
       "      <td>-0.3</td>\n",
       "      <td>4.0</td>\n",
       "      <td>-19.0</td>\n",
       "      <td>135.0</td>\n",
       "    </tr>\n",
       "    <tr>\n",
       "      <th>7</th>\n",
       "      <td>2013-03-01</td>\n",
       "      <td>3</td>\n",
       "      <td>1</td>\n",
       "      <td>7</td>\n",
       "      <td>5.0</td>\n",
       "      <td>-0.9</td>\n",
       "      <td>1025.6</td>\n",
       "      <td>-20.5</td>\n",
       "      <td>22.5</td>\n",
       "      <td>1.1</td>\n",
       "      <td>...</td>\n",
       "      <td>6.0</td>\n",
       "      <td>-1.0</td>\n",
       "      <td>2.8</td>\n",
       "      <td>-21.2</td>\n",
       "      <td>180.0</td>\n",
       "      <td>5.0</td>\n",
       "      <td>-0.7</td>\n",
       "      <td>4.6</td>\n",
       "      <td>-19.8</td>\n",
       "      <td>157.5</td>\n",
       "    </tr>\n",
       "    <tr>\n",
       "      <th>8</th>\n",
       "      <td>2013-03-01</td>\n",
       "      <td>3</td>\n",
       "      <td>1</td>\n",
       "      <td>8</td>\n",
       "      <td>5.0</td>\n",
       "      <td>0.1</td>\n",
       "      <td>1026.1</td>\n",
       "      <td>-20.3</td>\n",
       "      <td>22.5</td>\n",
       "      <td>3.0</td>\n",
       "      <td>...</td>\n",
       "      <td>5.0</td>\n",
       "      <td>-1.3</td>\n",
       "      <td>3.6</td>\n",
       "      <td>-21.4</td>\n",
       "      <td>157.5</td>\n",
       "      <td>6.0</td>\n",
       "      <td>-1.0</td>\n",
       "      <td>2.8</td>\n",
       "      <td>-21.2</td>\n",
       "      <td>180.0</td>\n",
       "    </tr>\n",
       "    <tr>\n",
       "      <th>9</th>\n",
       "      <td>2013-03-01</td>\n",
       "      <td>3</td>\n",
       "      <td>1</td>\n",
       "      <td>9</td>\n",
       "      <td>4.0</td>\n",
       "      <td>1.1</td>\n",
       "      <td>1026.1</td>\n",
       "      <td>-20.6</td>\n",
       "      <td>45.0</td>\n",
       "      <td>2.8</td>\n",
       "      <td>...</td>\n",
       "      <td>4.0</td>\n",
       "      <td>-1.8</td>\n",
       "      <td>1.2</td>\n",
       "      <td>-21.9</td>\n",
       "      <td>0.0</td>\n",
       "      <td>5.0</td>\n",
       "      <td>-1.3</td>\n",
       "      <td>3.6</td>\n",
       "      <td>-21.4</td>\n",
       "      <td>157.5</td>\n",
       "    </tr>\n",
       "  </tbody>\n",
       "</table>\n",
       "<p>10 rows × 35 columns</p>\n",
       "</div>"
      ],
      "text/plain": [
       "        Date  month  day  hour  PM2.5  TEMP    PRES  DEWP     wd  WSPM  ...  \\\n",
       "0 2013-03-01      3    1     0    6.0   0.1  1021.1 -18.6  135.0   4.4  ...   \n",
       "1 2013-03-01      3    1     1    6.0  -0.3  1021.5 -19.0  135.0   4.0  ...   \n",
       "2 2013-03-01      3    1     2    5.0  -0.7  1021.5 -19.8  157.5   4.6  ...   \n",
       "3 2013-03-01      3    1     3    6.0  -1.0  1022.7 -21.2  180.0   2.8  ...   \n",
       "4 2013-03-01      3    1     4    5.0  -1.3  1023.0 -21.4  157.5   3.6  ...   \n",
       "5 2013-03-01      3    1     5    4.0  -1.8  1023.6 -21.9    0.0   1.2  ...   \n",
       "6 2013-03-01      3    1     6    3.0  -2.6  1024.3 -20.4   22.5   1.2  ...   \n",
       "7 2013-03-01      3    1     7    5.0  -0.9  1025.6 -20.5   22.5   1.1  ...   \n",
       "8 2013-03-01      3    1     8    5.0   0.1  1026.1 -20.3   22.5   3.0  ...   \n",
       "9 2013-03-01      3    1     9    4.0   1.1  1026.1 -20.6   45.0   2.8  ...   \n",
       "\n",
       "   PM2.5_4  TEMP_4  SPD_4  DEWP_4   WD_4  PM2.5_5  TEMP_5  SPD_5  DEWP_5  \\\n",
       "0      NaN     NaN    NaN     NaN    NaN      NaN     NaN    NaN     NaN   \n",
       "1      NaN     NaN    NaN     NaN    NaN      NaN     NaN    NaN     NaN   \n",
       "2      NaN     NaN    NaN     NaN    NaN      NaN     NaN    NaN     NaN   \n",
       "3      NaN     NaN    NaN     NaN    NaN      NaN     NaN    NaN     NaN   \n",
       "4      6.0     0.1    4.4   -18.6  135.0      NaN     NaN    NaN     NaN   \n",
       "5      6.0    -0.3    4.0   -19.0  135.0      6.0     0.1    4.4   -18.6   \n",
       "6      5.0    -0.7    4.6   -19.8  157.5      6.0    -0.3    4.0   -19.0   \n",
       "7      6.0    -1.0    2.8   -21.2  180.0      5.0    -0.7    4.6   -19.8   \n",
       "8      5.0    -1.3    3.6   -21.4  157.5      6.0    -1.0    2.8   -21.2   \n",
       "9      4.0    -1.8    1.2   -21.9    0.0      5.0    -1.3    3.6   -21.4   \n",
       "\n",
       "    WD_5  \n",
       "0    NaN  \n",
       "1    NaN  \n",
       "2    NaN  \n",
       "3    NaN  \n",
       "4    NaN  \n",
       "5  135.0  \n",
       "6  135.0  \n",
       "7  157.5  \n",
       "8  180.0  \n",
       "9  157.5  \n",
       "\n",
       "[10 rows x 35 columns]"
      ]
     },
     "execution_count": 23,
     "metadata": {},
     "output_type": "execute_result"
    }
   ],
   "source": [
    "df5.head(10)"
   ]
  },
  {
   "cell_type": "code",
   "execution_count": 24,
   "metadata": {
    "slideshow": {
     "slide_type": "slide"
    }
   },
   "outputs": [
    {
     "data": {
      "text/html": [
       "<div>\n",
       "<style scoped>\n",
       "    .dataframe tbody tr th:only-of-type {\n",
       "        vertical-align: middle;\n",
       "    }\n",
       "\n",
       "    .dataframe tbody tr th {\n",
       "        vertical-align: top;\n",
       "    }\n",
       "\n",
       "    .dataframe thead th {\n",
       "        text-align: right;\n",
       "    }\n",
       "</style>\n",
       "<table border=\"1\" class=\"dataframe\">\n",
       "  <thead>\n",
       "    <tr style=\"text-align: right;\">\n",
       "      <th></th>\n",
       "      <th>Date</th>\n",
       "      <th>PM2.5</th>\n",
       "    </tr>\n",
       "  </thead>\n",
       "  <tbody>\n",
       "    <tr>\n",
       "      <th>30840</th>\n",
       "      <td>2016-09-06</td>\n",
       "      <td>41.0</td>\n",
       "    </tr>\n",
       "    <tr>\n",
       "      <th>30841</th>\n",
       "      <td>2016-09-06</td>\n",
       "      <td>48.0</td>\n",
       "    </tr>\n",
       "    <tr>\n",
       "      <th>30842</th>\n",
       "      <td>2016-09-06</td>\n",
       "      <td>28.0</td>\n",
       "    </tr>\n",
       "    <tr>\n",
       "      <th>30843</th>\n",
       "      <td>2016-09-06</td>\n",
       "      <td>22.0</td>\n",
       "    </tr>\n",
       "    <tr>\n",
       "      <th>30844</th>\n",
       "      <td>2016-09-06</td>\n",
       "      <td>15.0</td>\n",
       "    </tr>\n",
       "    <tr>\n",
       "      <th>30845</th>\n",
       "      <td>2016-09-06</td>\n",
       "      <td>16.0</td>\n",
       "    </tr>\n",
       "    <tr>\n",
       "      <th>30846</th>\n",
       "      <td>2016-09-06</td>\n",
       "      <td>15.0</td>\n",
       "    </tr>\n",
       "    <tr>\n",
       "      <th>30847</th>\n",
       "      <td>2016-09-06</td>\n",
       "      <td>18.0</td>\n",
       "    </tr>\n",
       "    <tr>\n",
       "      <th>30848</th>\n",
       "      <td>2016-09-06</td>\n",
       "      <td>18.0</td>\n",
       "    </tr>\n",
       "    <tr>\n",
       "      <th>30849</th>\n",
       "      <td>2016-09-06</td>\n",
       "      <td>22.0</td>\n",
       "    </tr>\n",
       "    <tr>\n",
       "      <th>30850</th>\n",
       "      <td>2016-09-06</td>\n",
       "      <td>23.0</td>\n",
       "    </tr>\n",
       "    <tr>\n",
       "      <th>30851</th>\n",
       "      <td>2016-09-06</td>\n",
       "      <td>23.0</td>\n",
       "    </tr>\n",
       "    <tr>\n",
       "      <th>30852</th>\n",
       "      <td>2016-09-06</td>\n",
       "      <td>13.0</td>\n",
       "    </tr>\n",
       "    <tr>\n",
       "      <th>30853</th>\n",
       "      <td>2016-09-06</td>\n",
       "      <td>13.0</td>\n",
       "    </tr>\n",
       "    <tr>\n",
       "      <th>30854</th>\n",
       "      <td>2016-09-06</td>\n",
       "      <td>35.0</td>\n",
       "    </tr>\n",
       "    <tr>\n",
       "      <th>30855</th>\n",
       "      <td>2016-09-06</td>\n",
       "      <td>3.0</td>\n",
       "    </tr>\n",
       "    <tr>\n",
       "      <th>30856</th>\n",
       "      <td>2016-09-06</td>\n",
       "      <td>3.0</td>\n",
       "    </tr>\n",
       "    <tr>\n",
       "      <th>30857</th>\n",
       "      <td>2016-09-06</td>\n",
       "      <td>16.0</td>\n",
       "    </tr>\n",
       "    <tr>\n",
       "      <th>30858</th>\n",
       "      <td>2016-09-06</td>\n",
       "      <td>NaN</td>\n",
       "    </tr>\n",
       "    <tr>\n",
       "      <th>30859</th>\n",
       "      <td>2016-09-06</td>\n",
       "      <td>NaN</td>\n",
       "    </tr>\n",
       "    <tr>\n",
       "      <th>30860</th>\n",
       "      <td>2016-09-06</td>\n",
       "      <td>NaN</td>\n",
       "    </tr>\n",
       "    <tr>\n",
       "      <th>30861</th>\n",
       "      <td>2016-09-06</td>\n",
       "      <td>NaN</td>\n",
       "    </tr>\n",
       "    <tr>\n",
       "      <th>30862</th>\n",
       "      <td>2016-09-06</td>\n",
       "      <td>NaN</td>\n",
       "    </tr>\n",
       "    <tr>\n",
       "      <th>30863</th>\n",
       "      <td>2016-09-06</td>\n",
       "      <td>NaN</td>\n",
       "    </tr>\n",
       "  </tbody>\n",
       "</table>\n",
       "</div>"
      ],
      "text/plain": [
       "            Date  PM2.5\n",
       "30840 2016-09-06   41.0\n",
       "30841 2016-09-06   48.0\n",
       "30842 2016-09-06   28.0\n",
       "30843 2016-09-06   22.0\n",
       "30844 2016-09-06   15.0\n",
       "30845 2016-09-06   16.0\n",
       "30846 2016-09-06   15.0\n",
       "30847 2016-09-06   18.0\n",
       "30848 2016-09-06   18.0\n",
       "30849 2016-09-06   22.0\n",
       "30850 2016-09-06   23.0\n",
       "30851 2016-09-06   23.0\n",
       "30852 2016-09-06   13.0\n",
       "30853 2016-09-06   13.0\n",
       "30854 2016-09-06   35.0\n",
       "30855 2016-09-06    3.0\n",
       "30856 2016-09-06    3.0\n",
       "30857 2016-09-06   16.0\n",
       "30858 2016-09-06    NaN\n",
       "30859 2016-09-06    NaN\n",
       "30860 2016-09-06    NaN\n",
       "30861 2016-09-06    NaN\n",
       "30862 2016-09-06    NaN\n",
       "30863 2016-09-06    NaN"
      ]
     },
     "execution_count": 24,
     "metadata": {},
     "output_type": "execute_result"
    }
   ],
   "source": [
    "df[['Date', 'PM2.5']][(df['Date'] >= '2016-09-05 01') & (df['Date'] <= '2016-09-06 04')]"
   ]
  },
  {
   "cell_type": "code",
   "execution_count": 25,
   "metadata": {
    "slideshow": {
     "slide_type": "slide"
    }
   },
   "outputs": [
    {
     "data": {
      "image/png": "[encoded data removed]",
      "text/plain": [
       "<Figure size 1152x648 with 1 Axes>"
      ]
     },
     "metadata": {},
     "output_type": "display_data"
    }
   ],
   "source": [
    "time_series('2013','2016')"
   ]
  },
  {
   "cell_type": "code",
   "execution_count": 26,
   "metadata": {
    "slideshow": {
     "slide_type": "slide"
    }
   },
   "outputs": [
    {
     "data": {
      "text/plain": [
       "True"
      ]
     },
     "execution_count": 26,
     "metadata": {},
     "output_type": "execute_result"
    }
   ],
   "source": [
    "df.isnull().values.any()"
   ]
  },
  {
   "cell_type": "code",
   "execution_count": 27,
   "metadata": {
    "slideshow": {
     "slide_type": "slide"
    }
   },
   "outputs": [
    {
     "data": {
      "text/html": [
       "<div>\n",
       "<style scoped>\n",
       "    .dataframe tbody tr th:only-of-type {\n",
       "        vertical-align: middle;\n",
       "    }\n",
       "\n",
       "    .dataframe tbody tr th {\n",
       "        vertical-align: top;\n",
       "    }\n",
       "\n",
       "    .dataframe thead th {\n",
       "        text-align: right;\n",
       "    }\n",
       "</style>\n",
       "<table border=\"1\" class=\"dataframe\">\n",
       "  <thead>\n",
       "    <tr style=\"text-align: right;\">\n",
       "      <th></th>\n",
       "      <th>month</th>\n",
       "      <th>day</th>\n",
       "      <th>hour</th>\n",
       "      <th>PM2.5</th>\n",
       "      <th>TEMP</th>\n",
       "      <th>PRES</th>\n",
       "      <th>DEWP</th>\n",
       "      <th>wd</th>\n",
       "      <th>WSPM</th>\n",
       "      <th>PM2.5_1</th>\n",
       "      <th>...</th>\n",
       "      <th>PM2.5_4</th>\n",
       "      <th>TEMP_4</th>\n",
       "      <th>SPD_4</th>\n",
       "      <th>DEWP_4</th>\n",
       "      <th>WD_4</th>\n",
       "      <th>PM2.5_5</th>\n",
       "      <th>TEMP_5</th>\n",
       "      <th>SPD_5</th>\n",
       "      <th>DEWP_5</th>\n",
       "      <th>WD_5</th>\n",
       "    </tr>\n",
       "  </thead>\n",
       "  <tbody>\n",
       "    <tr>\n",
       "      <th>count</th>\n",
       "      <td>35064.000000</td>\n",
       "      <td>35064.000000</td>\n",
       "      <td>35064.000000</td>\n",
       "      <td>34418.000000</td>\n",
       "      <td>35013.000000</td>\n",
       "      <td>35014.000000</td>\n",
       "      <td>35013.000000</td>\n",
       "      <td>34905.000000</td>\n",
       "      <td>35022.000000</td>\n",
       "      <td>34417.000000</td>\n",
       "      <td>...</td>\n",
       "      <td>34414.000000</td>\n",
       "      <td>35009.000000</td>\n",
       "      <td>35018.000000</td>\n",
       "      <td>35009.000000</td>\n",
       "      <td>34901.000000</td>\n",
       "      <td>34413.000000</td>\n",
       "      <td>35008.000000</td>\n",
       "      <td>35017.000000</td>\n",
       "      <td>35008.000000</td>\n",
       "      <td>34900.000000</td>\n",
       "    </tr>\n",
       "    <tr>\n",
       "      <th>mean</th>\n",
       "      <td>6.522930</td>\n",
       "      <td>15.729637</td>\n",
       "      <td>11.500000</td>\n",
       "      <td>83.852089</td>\n",
       "      <td>13.864524</td>\n",
       "      <td>1008.829592</td>\n",
       "      <td>2.610442</td>\n",
       "      <td>156.605572</td>\n",
       "      <td>1.343310</td>\n",
       "      <td>83.854177</td>\n",
       "      <td>...</td>\n",
       "      <td>83.859801</td>\n",
       "      <td>13.865060</td>\n",
       "      <td>1.343278</td>\n",
       "      <td>2.612445</td>\n",
       "      <td>156.613564</td>\n",
       "      <td>83.861831</td>\n",
       "      <td>13.865091</td>\n",
       "      <td>1.343228</td>\n",
       "      <td>2.613006</td>\n",
       "      <td>156.614828</td>\n",
       "    </tr>\n",
       "    <tr>\n",
       "      <th>std</th>\n",
       "      <td>3.448752</td>\n",
       "      <td>8.800218</td>\n",
       "      <td>6.922285</td>\n",
       "      <td>82.796445</td>\n",
       "      <td>11.292857</td>\n",
       "      <td>10.103256</td>\n",
       "      <td>13.782991</td>\n",
       "      <td>96.342451</td>\n",
       "      <td>1.151064</td>\n",
       "      <td>82.796742</td>\n",
       "      <td>...</td>\n",
       "      <td>82.798128</td>\n",
       "      <td>11.293373</td>\n",
       "      <td>1.151109</td>\n",
       "      <td>13.782500</td>\n",
       "      <td>96.344459</td>\n",
       "      <td>82.798475</td>\n",
       "      <td>11.293533</td>\n",
       "      <td>1.151087</td>\n",
       "      <td>13.782298</td>\n",
       "      <td>96.345550</td>\n",
       "    </tr>\n",
       "    <tr>\n",
       "      <th>min</th>\n",
       "      <td>1.000000</td>\n",
       "      <td>1.000000</td>\n",
       "      <td>0.000000</td>\n",
       "      <td>2.000000</td>\n",
       "      <td>-15.600000</td>\n",
       "      <td>984.000000</td>\n",
       "      <td>-34.600000</td>\n",
       "      <td>0.000000</td>\n",
       "      <td>0.000000</td>\n",
       "      <td>2.000000</td>\n",
       "      <td>...</td>\n",
       "      <td>2.000000</td>\n",
       "      <td>-15.600000</td>\n",
       "      <td>0.000000</td>\n",
       "      <td>-34.600000</td>\n",
       "      <td>0.000000</td>\n",
       "      <td>2.000000</td>\n",
       "      <td>-15.600000</td>\n",
       "      <td>0.000000</td>\n",
       "      <td>-34.600000</td>\n",
       "      <td>0.000000</td>\n",
       "    </tr>\n",
       "    <tr>\n",
       "      <th>25%</th>\n",
       "      <td>4.000000</td>\n",
       "      <td>8.000000</td>\n",
       "      <td>5.750000</td>\n",
       "      <td>24.000000</td>\n",
       "      <td>3.600000</td>\n",
       "      <td>1000.500000</td>\n",
       "      <td>-8.900000</td>\n",
       "      <td>77.500000</td>\n",
       "      <td>0.600000</td>\n",
       "      <td>24.000000</td>\n",
       "      <td>...</td>\n",
       "      <td>24.000000</td>\n",
       "      <td>3.600000</td>\n",
       "      <td>0.600000</td>\n",
       "      <td>-8.900000</td>\n",
       "      <td>77.500000</td>\n",
       "      <td>24.000000</td>\n",
       "      <td>3.600000</td>\n",
       "      <td>0.600000</td>\n",
       "      <td>-8.900000</td>\n",
       "      <td>77.500000</td>\n",
       "    </tr>\n",
       "    <tr>\n",
       "      <th>50%</th>\n",
       "      <td>7.000000</td>\n",
       "      <td>16.000000</td>\n",
       "      <td>11.500000</td>\n",
       "      <td>60.000000</td>\n",
       "      <td>14.800000</td>\n",
       "      <td>1008.500000</td>\n",
       "      <td>3.000000</td>\n",
       "      <td>135.000000</td>\n",
       "      <td>1.000000</td>\n",
       "      <td>60.000000</td>\n",
       "      <td>...</td>\n",
       "      <td>60.000000</td>\n",
       "      <td>14.800000</td>\n",
       "      <td>1.000000</td>\n",
       "      <td>3.000000</td>\n",
       "      <td>135.000000</td>\n",
       "      <td>60.000000</td>\n",
       "      <td>14.800000</td>\n",
       "      <td>1.000000</td>\n",
       "      <td>3.000000</td>\n",
       "      <td>135.000000</td>\n",
       "    </tr>\n",
       "    <tr>\n",
       "      <th>75%</th>\n",
       "      <td>10.000000</td>\n",
       "      <td>23.000000</td>\n",
       "      <td>17.250000</td>\n",
       "      <td>115.750000</td>\n",
       "      <td>23.500000</td>\n",
       "      <td>1017.000000</td>\n",
       "      <td>15.300000</td>\n",
       "      <td>247.500000</td>\n",
       "      <td>1.800000</td>\n",
       "      <td>116.000000</td>\n",
       "      <td>...</td>\n",
       "      <td>116.000000</td>\n",
       "      <td>23.500000</td>\n",
       "      <td>1.800000</td>\n",
       "      <td>15.300000</td>\n",
       "      <td>247.500000</td>\n",
       "      <td>116.000000</td>\n",
       "      <td>23.500000</td>\n",
       "      <td>1.800000</td>\n",
       "      <td>15.300000</td>\n",
       "      <td>247.500000</td>\n",
       "    </tr>\n",
       "    <tr>\n",
       "      <th>max</th>\n",
       "      <td>12.000000</td>\n",
       "      <td>31.000000</td>\n",
       "      <td>23.000000</td>\n",
       "      <td>770.000000</td>\n",
       "      <td>41.600000</td>\n",
       "      <td>1038.100000</td>\n",
       "      <td>27.400000</td>\n",
       "      <td>337.500000</td>\n",
       "      <td>12.000000</td>\n",
       "      <td>770.000000</td>\n",
       "      <td>...</td>\n",
       "      <td>770.000000</td>\n",
       "      <td>41.600000</td>\n",
       "      <td>12.000000</td>\n",
       "      <td>27.400000</td>\n",
       "      <td>337.500000</td>\n",
       "      <td>770.000000</td>\n",
       "      <td>41.600000</td>\n",
       "      <td>12.000000</td>\n",
       "      <td>27.400000</td>\n",
       "      <td>337.500000</td>\n",
       "    </tr>\n",
       "  </tbody>\n",
       "</table>\n",
       "<p>8 rows × 34 columns</p>\n",
       "</div>"
      ],
      "text/plain": [
       "              month           day          hour         PM2.5          TEMP  \\\n",
       "count  35064.000000  35064.000000  35064.000000  34418.000000  35013.000000   \n",
       "mean       6.522930     15.729637     11.500000     83.852089     13.864524   \n",
       "std        3.448752      8.800218      6.922285     82.796445     11.292857   \n",
       "min        1.000000      1.000000      0.000000      2.000000    -15.600000   \n",
       "25%        4.000000      8.000000      5.750000     24.000000      3.600000   \n",
       "50%        7.000000     16.000000     11.500000     60.000000     14.800000   \n",
       "75%       10.000000     23.000000     17.250000    115.750000     23.500000   \n",
       "max       12.000000     31.000000     23.000000    770.000000     41.600000   \n",
       "\n",
       "               PRES          DEWP            wd          WSPM       PM2.5_1  \\\n",
       "count  35014.000000  35013.000000  34905.000000  35022.000000  34417.000000   \n",
       "mean    1008.829592      2.610442    156.605572      1.343310     83.854177   \n",
       "std       10.103256     13.782991     96.342451      1.151064     82.796742   \n",
       "min      984.000000    -34.600000      0.000000      0.000000      2.000000   \n",
       "25%     1000.500000     -8.900000     77.500000      0.600000     24.000000   \n",
       "50%     1008.500000      3.000000    135.000000      1.000000     60.000000   \n",
       "75%     1017.000000     15.300000    247.500000      1.800000    116.000000   \n",
       "max     1038.100000     27.400000    337.500000     12.000000    770.000000   \n",
       "\n",
       "       ...       PM2.5_4        TEMP_4         SPD_4        DEWP_4  \\\n",
       "count  ...  34414.000000  35009.000000  35018.000000  35009.000000   \n",
       "mean   ...     83.859801     13.865060      1.343278      2.612445   \n",
       "std    ...     82.798128     11.293373      1.151109     13.782500   \n",
       "min    ...      2.000000    -15.600000      0.000000    -34.600000   \n",
       "25%    ...     24.000000      3.600000      0.600000     -8.900000   \n",
       "50%    ...     60.000000     14.800000      1.000000      3.000000   \n",
       "75%    ...    116.000000     23.500000      1.800000     15.300000   \n",
       "max    ...    770.000000     41.600000     12.000000     27.400000   \n",
       "\n",
       "               WD_4       PM2.5_5        TEMP_5         SPD_5        DEWP_5  \\\n",
       "count  34901.000000  34413.000000  35008.000000  35017.000000  35008.000000   \n",
       "mean     156.613564     83.861831     13.865091      1.343228      2.613006   \n",
       "std       96.344459     82.798475     11.293533      1.151087     13.782298   \n",
       "min        0.000000      2.000000    -15.600000      0.000000    -34.600000   \n",
       "25%       77.500000     24.000000      3.600000      0.600000     -8.900000   \n",
       "50%      135.000000     60.000000     14.800000      1.000000      3.000000   \n",
       "75%      247.500000    116.000000     23.500000      1.800000     15.300000   \n",
       "max      337.500000    770.000000     41.600000     12.000000     27.400000   \n",
       "\n",
       "               WD_5  \n",
       "count  34900.000000  \n",
       "mean     156.614828  \n",
       "std       96.345550  \n",
       "min        0.000000  \n",
       "25%       77.500000  \n",
       "50%      135.000000  \n",
       "75%      247.500000  \n",
       "max      337.500000  \n",
       "\n",
       "[8 rows x 34 columns]"
      ]
     },
     "execution_count": 27,
     "metadata": {},
     "output_type": "execute_result"
    }
   ],
   "source": [
    "df5.describe()"
   ]
  },
  {
   "cell_type": "code",
   "execution_count": 28,
   "metadata": {
    "slideshow": {
     "slide_type": "slide"
    }
   },
   "outputs": [
    {
     "data": {
      "text/plain": [
       "(2304, 35)"
      ]
     },
     "execution_count": 28,
     "metadata": {},
     "output_type": "execute_result"
    }
   ],
   "source": [
    "df5[df.isnull().any(axis=1)].shape"
   ]
  },
  {
   "cell_type": "code",
   "execution_count": 29,
   "metadata": {
    "slideshow": {
     "slide_type": "slide"
    }
   },
   "outputs": [
    {
     "name": "stdout",
     "output_type": "stream",
     "text": [
      "Date contains nulls: False\n",
      "Month contains nulls: False\n",
      "Hour contains nulls: False\n"
     ]
    }
   ],
   "source": [
    "print(\"Date contains nulls:\", df.Date.isnull().values.any())\n",
    "print(\"Month contains nulls:\", df.month.isnull().values.any())\n",
    "print(\"Hour contains nulls:\", df.hour.isnull().values.any())"
   ]
  },
  {
   "cell_type": "code",
   "execution_count": 30,
   "metadata": {
    "slideshow": {
     "slide_type": "slide"
    }
   },
   "outputs": [
    {
     "data": {
      "text/plain": [
       "(35064, 35)"
      ]
     },
     "execution_count": 30,
     "metadata": {},
     "output_type": "execute_result"
    }
   ],
   "source": [
    "df.shape"
   ]
  },
  {
   "cell_type": "code",
   "execution_count": 31,
   "metadata": {
    "slideshow": {
     "slide_type": "slide"
    }
   },
   "outputs": [
    {
     "data": {
      "text/html": [
       "<div>\n",
       "<style scoped>\n",
       "    .dataframe tbody tr th:only-of-type {\n",
       "        vertical-align: middle;\n",
       "    }\n",
       "\n",
       "    .dataframe tbody tr th {\n",
       "        vertical-align: top;\n",
       "    }\n",
       "\n",
       "    .dataframe thead th {\n",
       "        text-align: right;\n",
       "    }\n",
       "</style>\n",
       "<table border=\"1\" class=\"dataframe\">\n",
       "  <thead>\n",
       "    <tr style=\"text-align: right;\">\n",
       "      <th></th>\n",
       "      <th>Date</th>\n",
       "      <th>month</th>\n",
       "      <th>day</th>\n",
       "      <th>hour</th>\n",
       "      <th>PM2.5</th>\n",
       "      <th>TEMP</th>\n",
       "      <th>PRES</th>\n",
       "      <th>DEWP</th>\n",
       "      <th>wd</th>\n",
       "      <th>WSPM</th>\n",
       "      <th>...</th>\n",
       "      <th>PM2.5_4</th>\n",
       "      <th>TEMP_4</th>\n",
       "      <th>SPD_4</th>\n",
       "      <th>DEWP_4</th>\n",
       "      <th>WD_4</th>\n",
       "      <th>PM2.5_5</th>\n",
       "      <th>TEMP_5</th>\n",
       "      <th>SPD_5</th>\n",
       "      <th>DEWP_5</th>\n",
       "      <th>WD_5</th>\n",
       "    </tr>\n",
       "  </thead>\n",
       "  <tbody>\n",
       "    <tr>\n",
       "      <th>1509</th>\n",
       "      <td>2013-05-02</td>\n",
       "      <td>5</td>\n",
       "      <td>2</td>\n",
       "      <td>21</td>\n",
       "      <td>NaN</td>\n",
       "      <td>18.500</td>\n",
       "      <td>1006.1</td>\n",
       "      <td>6.0</td>\n",
       "      <td>315.0</td>\n",
       "      <td>2.8</td>\n",
       "      <td>...</td>\n",
       "      <td>105.0</td>\n",
       "      <td>22.900000</td>\n",
       "      <td>1.7</td>\n",
       "      <td>6.2</td>\n",
       "      <td>292.5</td>\n",
       "      <td>96.0</td>\n",
       "      <td>23.600000</td>\n",
       "      <td>2.1</td>\n",
       "      <td>6.8</td>\n",
       "      <td>337.5</td>\n",
       "    </tr>\n",
       "    <tr>\n",
       "      <th>1837</th>\n",
       "      <td>2013-05-16</td>\n",
       "      <td>5</td>\n",
       "      <td>16</td>\n",
       "      <td>13</td>\n",
       "      <td>NaN</td>\n",
       "      <td>26.100</td>\n",
       "      <td>1009.9</td>\n",
       "      <td>10.7</td>\n",
       "      <td>225.0</td>\n",
       "      <td>2.7</td>\n",
       "      <td>...</td>\n",
       "      <td>135.0</td>\n",
       "      <td>23.000000</td>\n",
       "      <td>1.6</td>\n",
       "      <td>9.4</td>\n",
       "      <td>292.5</td>\n",
       "      <td>79.0</td>\n",
       "      <td>20.500000</td>\n",
       "      <td>1.1</td>\n",
       "      <td>10.6</td>\n",
       "      <td>225.0</td>\n",
       "    </tr>\n",
       "    <tr>\n",
       "      <th>2368</th>\n",
       "      <td>2013-06-07</td>\n",
       "      <td>6</td>\n",
       "      <td>7</td>\n",
       "      <td>16</td>\n",
       "      <td>NaN</td>\n",
       "      <td>20.700</td>\n",
       "      <td>1002.4</td>\n",
       "      <td>19.4</td>\n",
       "      <td>77.5</td>\n",
       "      <td>0.8</td>\n",
       "      <td>...</td>\n",
       "      <td>95.0</td>\n",
       "      <td>20.200000</td>\n",
       "      <td>1.1</td>\n",
       "      <td>19.9</td>\n",
       "      <td>202.5</td>\n",
       "      <td>74.0</td>\n",
       "      <td>19.800000</td>\n",
       "      <td>0.7</td>\n",
       "      <td>19.5</td>\n",
       "      <td>202.5</td>\n",
       "    </tr>\n",
       "    <tr>\n",
       "      <th>2785</th>\n",
       "      <td>2013-06-25</td>\n",
       "      <td>6</td>\n",
       "      <td>25</td>\n",
       "      <td>1</td>\n",
       "      <td>NaN</td>\n",
       "      <td>20.800</td>\n",
       "      <td>996.5</td>\n",
       "      <td>20.5</td>\n",
       "      <td>45.0</td>\n",
       "      <td>0.2</td>\n",
       "      <td>...</td>\n",
       "      <td>36.0</td>\n",
       "      <td>20.800000</td>\n",
       "      <td>0.9</td>\n",
       "      <td>20.3</td>\n",
       "      <td>180.0</td>\n",
       "      <td>120.0</td>\n",
       "      <td>21.100000</td>\n",
       "      <td>1.7</td>\n",
       "      <td>20.3</td>\n",
       "      <td>315.0</td>\n",
       "    </tr>\n",
       "    <tr>\n",
       "      <th>2808</th>\n",
       "      <td>2013-06-26</td>\n",
       "      <td>6</td>\n",
       "      <td>26</td>\n",
       "      <td>0</td>\n",
       "      <td>NaN</td>\n",
       "      <td>21.700</td>\n",
       "      <td>993.0</td>\n",
       "      <td>21.2</td>\n",
       "      <td>112.5</td>\n",
       "      <td>0.4</td>\n",
       "      <td>...</td>\n",
       "      <td>172.0</td>\n",
       "      <td>21.700000</td>\n",
       "      <td>1.5</td>\n",
       "      <td>21.4</td>\n",
       "      <td>202.5</td>\n",
       "      <td>177.0</td>\n",
       "      <td>21.800000</td>\n",
       "      <td>0.6</td>\n",
       "      <td>21.1</td>\n",
       "      <td>0.0</td>\n",
       "    </tr>\n",
       "    <tr>\n",
       "      <th>4187</th>\n",
       "      <td>2013-08-22</td>\n",
       "      <td>8</td>\n",
       "      <td>22</td>\n",
       "      <td>11</td>\n",
       "      <td>NaN</td>\n",
       "      <td>24.300</td>\n",
       "      <td>1003.7</td>\n",
       "      <td>21.6</td>\n",
       "      <td>22.5</td>\n",
       "      <td>1.1</td>\n",
       "      <td>...</td>\n",
       "      <td>133.0</td>\n",
       "      <td>23.800000</td>\n",
       "      <td>1.1</td>\n",
       "      <td>21.5</td>\n",
       "      <td>45.0</td>\n",
       "      <td>117.0</td>\n",
       "      <td>22.600000</td>\n",
       "      <td>1.0</td>\n",
       "      <td>21.1</td>\n",
       "      <td>22.5</td>\n",
       "    </tr>\n",
       "    <tr>\n",
       "      <th>5103</th>\n",
       "      <td>2013-09-29</td>\n",
       "      <td>9</td>\n",
       "      <td>29</td>\n",
       "      <td>15</td>\n",
       "      <td>NaN</td>\n",
       "      <td>19.300</td>\n",
       "      <td>1012.6</td>\n",
       "      <td>14.8</td>\n",
       "      <td>77.5</td>\n",
       "      <td>2.0</td>\n",
       "      <td>...</td>\n",
       "      <td>214.0</td>\n",
       "      <td>17.500000</td>\n",
       "      <td>1.4</td>\n",
       "      <td>14.9</td>\n",
       "      <td>45.0</td>\n",
       "      <td>176.0</td>\n",
       "      <td>17.000000</td>\n",
       "      <td>1.4</td>\n",
       "      <td>14.6</td>\n",
       "      <td>77.5</td>\n",
       "    </tr>\n",
       "    <tr>\n",
       "      <th>5652</th>\n",
       "      <td>2013-10-22</td>\n",
       "      <td>10</td>\n",
       "      <td>22</td>\n",
       "      <td>12</td>\n",
       "      <td>NaN</td>\n",
       "      <td>16.400</td>\n",
       "      <td>1014.8</td>\n",
       "      <td>6.5</td>\n",
       "      <td>270.0</td>\n",
       "      <td>2.0</td>\n",
       "      <td>...</td>\n",
       "      <td>150.0</td>\n",
       "      <td>9.300000</td>\n",
       "      <td>1.2</td>\n",
       "      <td>6.0</td>\n",
       "      <td>45.0</td>\n",
       "      <td>164.0</td>\n",
       "      <td>7.100000</td>\n",
       "      <td>1.1</td>\n",
       "      <td>5.9</td>\n",
       "      <td>90.0</td>\n",
       "    </tr>\n",
       "    <tr>\n",
       "      <th>6039</th>\n",
       "      <td>2013-11-07</td>\n",
       "      <td>11</td>\n",
       "      <td>7</td>\n",
       "      <td>15</td>\n",
       "      <td>NaN</td>\n",
       "      <td>13.300</td>\n",
       "      <td>1012.8</td>\n",
       "      <td>-5.3</td>\n",
       "      <td>225.0</td>\n",
       "      <td>2.5</td>\n",
       "      <td>...</td>\n",
       "      <td>14.0</td>\n",
       "      <td>12.700000</td>\n",
       "      <td>3.2</td>\n",
       "      <td>-6.3</td>\n",
       "      <td>202.5</td>\n",
       "      <td>13.0</td>\n",
       "      <td>11.700000</td>\n",
       "      <td>3.1</td>\n",
       "      <td>-7.7</td>\n",
       "      <td>202.5</td>\n",
       "    </tr>\n",
       "    <tr>\n",
       "      <th>6304</th>\n",
       "      <td>2013-11-18</td>\n",
       "      <td>11</td>\n",
       "      <td>18</td>\n",
       "      <td>16</td>\n",
       "      <td>NaN</td>\n",
       "      <td>6.400</td>\n",
       "      <td>1019.4</td>\n",
       "      <td>-13.3</td>\n",
       "      <td>77.5</td>\n",
       "      <td>2.0</td>\n",
       "      <td>...</td>\n",
       "      <td>8.0</td>\n",
       "      <td>8.500000</td>\n",
       "      <td>4.8</td>\n",
       "      <td>-13.2</td>\n",
       "      <td>90.0</td>\n",
       "      <td>7.0</td>\n",
       "      <td>8.000000</td>\n",
       "      <td>3.2</td>\n",
       "      <td>-12.5</td>\n",
       "      <td>112.5</td>\n",
       "    </tr>\n",
       "    <tr>\n",
       "      <th>7024</th>\n",
       "      <td>2013-12-18</td>\n",
       "      <td>12</td>\n",
       "      <td>18</td>\n",
       "      <td>16</td>\n",
       "      <td>NaN</td>\n",
       "      <td>-2.200</td>\n",
       "      <td>1022.5</td>\n",
       "      <td>-13.1</td>\n",
       "      <td>202.5</td>\n",
       "      <td>2.3</td>\n",
       "      <td>...</td>\n",
       "      <td>12.0</td>\n",
       "      <td>0.400000</td>\n",
       "      <td>1.0</td>\n",
       "      <td>-17.4</td>\n",
       "      <td>292.5</td>\n",
       "      <td>17.0</td>\n",
       "      <td>-1.400000</td>\n",
       "      <td>1.7</td>\n",
       "      <td>-18.0</td>\n",
       "      <td>225.0</td>\n",
       "    </tr>\n",
       "    <tr>\n",
       "      <th>7882</th>\n",
       "      <td>2014-01-23</td>\n",
       "      <td>1</td>\n",
       "      <td>23</td>\n",
       "      <td>10</td>\n",
       "      <td>NaN</td>\n",
       "      <td>0.700</td>\n",
       "      <td>1011.9</td>\n",
       "      <td>-12.7</td>\n",
       "      <td>45.0</td>\n",
       "      <td>1.9</td>\n",
       "      <td>...</td>\n",
       "      <td>191.0</td>\n",
       "      <td>-4.300000</td>\n",
       "      <td>1.4</td>\n",
       "      <td>-13.7</td>\n",
       "      <td>45.0</td>\n",
       "      <td>217.0</td>\n",
       "      <td>-4.900000</td>\n",
       "      <td>1.3</td>\n",
       "      <td>-14.0</td>\n",
       "      <td>22.5</td>\n",
       "    </tr>\n",
       "    <tr>\n",
       "      <th>7939</th>\n",
       "      <td>2014-01-25</td>\n",
       "      <td>1</td>\n",
       "      <td>25</td>\n",
       "      <td>19</td>\n",
       "      <td>NaN</td>\n",
       "      <td>2.500</td>\n",
       "      <td>1025.1</td>\n",
       "      <td>-19.5</td>\n",
       "      <td>77.5</td>\n",
       "      <td>1.4</td>\n",
       "      <td>...</td>\n",
       "      <td>9.0</td>\n",
       "      <td>6.200000</td>\n",
       "      <td>2.0</td>\n",
       "      <td>-17.1</td>\n",
       "      <td>22.5</td>\n",
       "      <td>9.0</td>\n",
       "      <td>6.800000</td>\n",
       "      <td>1.9</td>\n",
       "      <td>-16.6</td>\n",
       "      <td>22.5</td>\n",
       "    </tr>\n",
       "    <tr>\n",
       "      <th>7940</th>\n",
       "      <td>2014-01-25</td>\n",
       "      <td>1</td>\n",
       "      <td>25</td>\n",
       "      <td>20</td>\n",
       "      <td>NaN</td>\n",
       "      <td>1.900</td>\n",
       "      <td>1026.0</td>\n",
       "      <td>-20.6</td>\n",
       "      <td>45.0</td>\n",
       "      <td>1.9</td>\n",
       "      <td>...</td>\n",
       "      <td>9.0</td>\n",
       "      <td>5.000000</td>\n",
       "      <td>1.8</td>\n",
       "      <td>-17.4</td>\n",
       "      <td>22.5</td>\n",
       "      <td>9.0</td>\n",
       "      <td>6.200000</td>\n",
       "      <td>2.0</td>\n",
       "      <td>-17.1</td>\n",
       "      <td>22.5</td>\n",
       "    </tr>\n",
       "    <tr>\n",
       "      <th>7941</th>\n",
       "      <td>2014-01-25</td>\n",
       "      <td>1</td>\n",
       "      <td>25</td>\n",
       "      <td>21</td>\n",
       "      <td>NaN</td>\n",
       "      <td>1.500</td>\n",
       "      <td>1026.7</td>\n",
       "      <td>-21.0</td>\n",
       "      <td>45.0</td>\n",
       "      <td>1.8</td>\n",
       "      <td>...</td>\n",
       "      <td>11.0</td>\n",
       "      <td>4.100000</td>\n",
       "      <td>2.2</td>\n",
       "      <td>-17.5</td>\n",
       "      <td>22.5</td>\n",
       "      <td>9.0</td>\n",
       "      <td>5.000000</td>\n",
       "      <td>1.8</td>\n",
       "      <td>-17.4</td>\n",
       "      <td>22.5</td>\n",
       "    </tr>\n",
       "    <tr>\n",
       "      <th>7942</th>\n",
       "      <td>2014-01-25</td>\n",
       "      <td>1</td>\n",
       "      <td>25</td>\n",
       "      <td>22</td>\n",
       "      <td>NaN</td>\n",
       "      <td>0.200</td>\n",
       "      <td>1027.3</td>\n",
       "      <td>-5.0</td>\n",
       "      <td>225.0</td>\n",
       "      <td>3.4</td>\n",
       "      <td>...</td>\n",
       "      <td>11.0</td>\n",
       "      <td>3.400000</td>\n",
       "      <td>1.1</td>\n",
       "      <td>-18.1</td>\n",
       "      <td>90.0</td>\n",
       "      <td>11.0</td>\n",
       "      <td>4.100000</td>\n",
       "      <td>2.2</td>\n",
       "      <td>-17.5</td>\n",
       "      <td>22.5</td>\n",
       "    </tr>\n",
       "    <tr>\n",
       "      <th>7991</th>\n",
       "      <td>2014-01-27</td>\n",
       "      <td>1</td>\n",
       "      <td>27</td>\n",
       "      <td>23</td>\n",
       "      <td>NaN</td>\n",
       "      <td>0.500</td>\n",
       "      <td>1022.0</td>\n",
       "      <td>-18.3</td>\n",
       "      <td>77.5</td>\n",
       "      <td>1.9</td>\n",
       "      <td>...</td>\n",
       "      <td>15.0</td>\n",
       "      <td>6.000000</td>\n",
       "      <td>3.8</td>\n",
       "      <td>-18.8</td>\n",
       "      <td>45.0</td>\n",
       "      <td>15.0</td>\n",
       "      <td>6.700000</td>\n",
       "      <td>3.5</td>\n",
       "      <td>-18.2</td>\n",
       "      <td>22.5</td>\n",
       "    </tr>\n",
       "    <tr>\n",
       "      <th>8340</th>\n",
       "      <td>2014-02-11</td>\n",
       "      <td>2</td>\n",
       "      <td>11</td>\n",
       "      <td>12</td>\n",
       "      <td>NaN</td>\n",
       "      <td>-0.400</td>\n",
       "      <td>1020.5</td>\n",
       "      <td>-13.3</td>\n",
       "      <td>225.0</td>\n",
       "      <td>2.2</td>\n",
       "      <td>...</td>\n",
       "      <td>55.0</td>\n",
       "      <td>-7.100000</td>\n",
       "      <td>1.3</td>\n",
       "      <td>-13.6</td>\n",
       "      <td>45.0</td>\n",
       "      <td>58.0</td>\n",
       "      <td>-8.500000</td>\n",
       "      <td>1.3</td>\n",
       "      <td>-13.9</td>\n",
       "      <td>45.0</td>\n",
       "    </tr>\n",
       "    <tr>\n",
       "      <th>8415</th>\n",
       "      <td>2014-02-14</td>\n",
       "      <td>2</td>\n",
       "      <td>14</td>\n",
       "      <td>15</td>\n",
       "      <td>NaN</td>\n",
       "      <td>3.200</td>\n",
       "      <td>1017.5</td>\n",
       "      <td>-5.2</td>\n",
       "      <td>112.5</td>\n",
       "      <td>1.0</td>\n",
       "      <td>...</td>\n",
       "      <td>172.0</td>\n",
       "      <td>0.200000</td>\n",
       "      <td>1.2</td>\n",
       "      <td>-5.4</td>\n",
       "      <td>45.0</td>\n",
       "      <td>204.0</td>\n",
       "      <td>-1.300000</td>\n",
       "      <td>1.4</td>\n",
       "      <td>-5.7</td>\n",
       "      <td>45.0</td>\n",
       "    </tr>\n",
       "    <tr>\n",
       "      <th>8416</th>\n",
       "      <td>2014-02-14</td>\n",
       "      <td>2</td>\n",
       "      <td>14</td>\n",
       "      <td>16</td>\n",
       "      <td>NaN</td>\n",
       "      <td>2.100</td>\n",
       "      <td>1017.7</td>\n",
       "      <td>-5.1</td>\n",
       "      <td>45.0</td>\n",
       "      <td>1.5</td>\n",
       "      <td>...</td>\n",
       "      <td>184.0</td>\n",
       "      <td>1.100000</td>\n",
       "      <td>1.7</td>\n",
       "      <td>-5.4</td>\n",
       "      <td>22.5</td>\n",
       "      <td>172.0</td>\n",
       "      <td>0.200000</td>\n",
       "      <td>1.2</td>\n",
       "      <td>-5.4</td>\n",
       "      <td>45.0</td>\n",
       "    </tr>\n",
       "    <tr>\n",
       "      <th>8499</th>\n",
       "      <td>2014-02-18</td>\n",
       "      <td>2</td>\n",
       "      <td>18</td>\n",
       "      <td>3</td>\n",
       "      <td>NaN</td>\n",
       "      <td>-3.800</td>\n",
       "      <td>1028.2</td>\n",
       "      <td>-8.5</td>\n",
       "      <td>180.0</td>\n",
       "      <td>1.0</td>\n",
       "      <td>...</td>\n",
       "      <td>38.0</td>\n",
       "      <td>-1.000000</td>\n",
       "      <td>3.4</td>\n",
       "      <td>-10.4</td>\n",
       "      <td>225.0</td>\n",
       "      <td>59.0</td>\n",
       "      <td>-1.000000</td>\n",
       "      <td>2.5</td>\n",
       "      <td>-10.1</td>\n",
       "      <td>225.0</td>\n",
       "    </tr>\n",
       "    <tr>\n",
       "      <th>8651</th>\n",
       "      <td>2014-02-24</td>\n",
       "      <td>2</td>\n",
       "      <td>24</td>\n",
       "      <td>11</td>\n",
       "      <td>NaN</td>\n",
       "      <td>6.000</td>\n",
       "      <td>1021.8</td>\n",
       "      <td>-2.1</td>\n",
       "      <td>180.0</td>\n",
       "      <td>1.1</td>\n",
       "      <td>...</td>\n",
       "      <td>199.0</td>\n",
       "      <td>1.700000</td>\n",
       "      <td>0.8</td>\n",
       "      <td>-2.1</td>\n",
       "      <td>180.0</td>\n",
       "      <td>211.0</td>\n",
       "      <td>1.600000</td>\n",
       "      <td>0.1</td>\n",
       "      <td>-2.5</td>\n",
       "      <td>0.0</td>\n",
       "    </tr>\n",
       "    <tr>\n",
       "      <th>8662</th>\n",
       "      <td>2014-02-24</td>\n",
       "      <td>2</td>\n",
       "      <td>24</td>\n",
       "      <td>22</td>\n",
       "      <td>NaN</td>\n",
       "      <td>-0.600</td>\n",
       "      <td>1021.2</td>\n",
       "      <td>-2.7</td>\n",
       "      <td>157.5</td>\n",
       "      <td>0.5</td>\n",
       "      <td>...</td>\n",
       "      <td>358.0</td>\n",
       "      <td>3.800000</td>\n",
       "      <td>1.2</td>\n",
       "      <td>-1.8</td>\n",
       "      <td>225.0</td>\n",
       "      <td>323.0</td>\n",
       "      <td>5.000000</td>\n",
       "      <td>1.2</td>\n",
       "      <td>-1.7</td>\n",
       "      <td>202.5</td>\n",
       "    </tr>\n",
       "    <tr>\n",
       "      <th>8678</th>\n",
       "      <td>2014-02-25</td>\n",
       "      <td>2</td>\n",
       "      <td>25</td>\n",
       "      <td>14</td>\n",
       "      <td>NaN</td>\n",
       "      <td>8.600</td>\n",
       "      <td>1018.0</td>\n",
       "      <td>-1.0</td>\n",
       "      <td>77.5</td>\n",
       "      <td>1.3</td>\n",
       "      <td>...</td>\n",
       "      <td>299.0</td>\n",
       "      <td>5.200000</td>\n",
       "      <td>1.5</td>\n",
       "      <td>-1.3</td>\n",
       "      <td>22.5</td>\n",
       "      <td>346.0</td>\n",
       "      <td>4.000000</td>\n",
       "      <td>1.4</td>\n",
       "      <td>-1.6</td>\n",
       "      <td>77.5</td>\n",
       "    </tr>\n",
       "    <tr>\n",
       "      <th>8679</th>\n",
       "      <td>2014-02-25</td>\n",
       "      <td>2</td>\n",
       "      <td>25</td>\n",
       "      <td>15</td>\n",
       "      <td>NaN</td>\n",
       "      <td>8.600</td>\n",
       "      <td>1017.7</td>\n",
       "      <td>-0.7</td>\n",
       "      <td>45.0</td>\n",
       "      <td>1.5</td>\n",
       "      <td>...</td>\n",
       "      <td>293.0</td>\n",
       "      <td>6.300000</td>\n",
       "      <td>0.8</td>\n",
       "      <td>-0.9</td>\n",
       "      <td>22.5</td>\n",
       "      <td>299.0</td>\n",
       "      <td>5.200000</td>\n",
       "      <td>1.5</td>\n",
       "      <td>-1.3</td>\n",
       "      <td>22.5</td>\n",
       "    </tr>\n",
       "    <tr>\n",
       "      <th>8680</th>\n",
       "      <td>2014-02-25</td>\n",
       "      <td>2</td>\n",
       "      <td>25</td>\n",
       "      <td>16</td>\n",
       "      <td>NaN</td>\n",
       "      <td>8.000</td>\n",
       "      <td>1018.1</td>\n",
       "      <td>-0.8</td>\n",
       "      <td>45.0</td>\n",
       "      <td>1.7</td>\n",
       "      <td>...</td>\n",
       "      <td>308.0</td>\n",
       "      <td>7.700000</td>\n",
       "      <td>1.1</td>\n",
       "      <td>-1.0</td>\n",
       "      <td>77.5</td>\n",
       "      <td>293.0</td>\n",
       "      <td>6.300000</td>\n",
       "      <td>0.8</td>\n",
       "      <td>-0.9</td>\n",
       "      <td>22.5</td>\n",
       "    </tr>\n",
       "    <tr>\n",
       "      <th>8681</th>\n",
       "      <td>2014-02-25</td>\n",
       "      <td>2</td>\n",
       "      <td>25</td>\n",
       "      <td>17</td>\n",
       "      <td>NaN</td>\n",
       "      <td>6.800</td>\n",
       "      <td>1018.6</td>\n",
       "      <td>-0.7</td>\n",
       "      <td>112.5</td>\n",
       "      <td>0.5</td>\n",
       "      <td>...</td>\n",
       "      <td>314.0</td>\n",
       "      <td>8.200000</td>\n",
       "      <td>1.1</td>\n",
       "      <td>-1.1</td>\n",
       "      <td>45.0</td>\n",
       "      <td>308.0</td>\n",
       "      <td>7.700000</td>\n",
       "      <td>1.1</td>\n",
       "      <td>-1.0</td>\n",
       "      <td>77.5</td>\n",
       "    </tr>\n",
       "    <tr>\n",
       "      <th>8682</th>\n",
       "      <td>2014-02-25</td>\n",
       "      <td>2</td>\n",
       "      <td>25</td>\n",
       "      <td>18</td>\n",
       "      <td>NaN</td>\n",
       "      <td>4.600</td>\n",
       "      <td>1019.1</td>\n",
       "      <td>-1.0</td>\n",
       "      <td>45.0</td>\n",
       "      <td>1.0</td>\n",
       "      <td>...</td>\n",
       "      <td>NaN</td>\n",
       "      <td>8.600000</td>\n",
       "      <td>1.3</td>\n",
       "      <td>-1.0</td>\n",
       "      <td>77.5</td>\n",
       "      <td>314.0</td>\n",
       "      <td>8.200000</td>\n",
       "      <td>1.1</td>\n",
       "      <td>-1.1</td>\n",
       "      <td>45.0</td>\n",
       "    </tr>\n",
       "    <tr>\n",
       "      <th>8683</th>\n",
       "      <td>2014-02-25</td>\n",
       "      <td>2</td>\n",
       "      <td>25</td>\n",
       "      <td>19</td>\n",
       "      <td>NaN</td>\n",
       "      <td>3.400</td>\n",
       "      <td>1019.2</td>\n",
       "      <td>-1.0</td>\n",
       "      <td>77.5</td>\n",
       "      <td>0.7</td>\n",
       "      <td>...</td>\n",
       "      <td>NaN</td>\n",
       "      <td>8.600000</td>\n",
       "      <td>1.5</td>\n",
       "      <td>-0.7</td>\n",
       "      <td>45.0</td>\n",
       "      <td>NaN</td>\n",
       "      <td>8.600000</td>\n",
       "      <td>1.3</td>\n",
       "      <td>-1.0</td>\n",
       "      <td>77.5</td>\n",
       "    </tr>\n",
       "    <tr>\n",
       "      <th>8684</th>\n",
       "      <td>2014-02-25</td>\n",
       "      <td>2</td>\n",
       "      <td>25</td>\n",
       "      <td>20</td>\n",
       "      <td>NaN</td>\n",
       "      <td>2.800</td>\n",
       "      <td>1019.8</td>\n",
       "      <td>-0.8</td>\n",
       "      <td>45.0</td>\n",
       "      <td>1.2</td>\n",
       "      <td>...</td>\n",
       "      <td>NaN</td>\n",
       "      <td>8.000000</td>\n",
       "      <td>1.7</td>\n",
       "      <td>-0.8</td>\n",
       "      <td>45.0</td>\n",
       "      <td>NaN</td>\n",
       "      <td>8.600000</td>\n",
       "      <td>1.5</td>\n",
       "      <td>-0.7</td>\n",
       "      <td>45.0</td>\n",
       "    </tr>\n",
       "    <tr>\n",
       "      <th>...</th>\n",
       "      <td>...</td>\n",
       "      <td>...</td>\n",
       "      <td>...</td>\n",
       "      <td>...</td>\n",
       "      <td>...</td>\n",
       "      <td>...</td>\n",
       "      <td>...</td>\n",
       "      <td>...</td>\n",
       "      <td>...</td>\n",
       "      <td>...</td>\n",
       "      <td>...</td>\n",
       "      <td>...</td>\n",
       "      <td>...</td>\n",
       "      <td>...</td>\n",
       "      <td>...</td>\n",
       "      <td>...</td>\n",
       "      <td>...</td>\n",
       "      <td>...</td>\n",
       "      <td>...</td>\n",
       "      <td>...</td>\n",
       "      <td>...</td>\n",
       "    </tr>\n",
       "    <tr>\n",
       "      <th>31378</th>\n",
       "      <td>2016-09-28</td>\n",
       "      <td>9</td>\n",
       "      <td>28</td>\n",
       "      <td>10</td>\n",
       "      <td>NaN</td>\n",
       "      <td>16.100</td>\n",
       "      <td>1025.0</td>\n",
       "      <td>-1.5</td>\n",
       "      <td>45.0</td>\n",
       "      <td>4.5</td>\n",
       "      <td>...</td>\n",
       "      <td>11.0</td>\n",
       "      <td>12.000000</td>\n",
       "      <td>1.9</td>\n",
       "      <td>-0.3</td>\n",
       "      <td>45.0</td>\n",
       "      <td>15.0</td>\n",
       "      <td>13.000000</td>\n",
       "      <td>2.6</td>\n",
       "      <td>-0.3</td>\n",
       "      <td>45.0</td>\n",
       "    </tr>\n",
       "    <tr>\n",
       "      <th>31379</th>\n",
       "      <td>2016-09-28</td>\n",
       "      <td>9</td>\n",
       "      <td>28</td>\n",
       "      <td>11</td>\n",
       "      <td>NaN</td>\n",
       "      <td>16.975</td>\n",
       "      <td>1024.5</td>\n",
       "      <td>-1.2</td>\n",
       "      <td>45.0</td>\n",
       "      <td>3.4</td>\n",
       "      <td>...</td>\n",
       "      <td>11.0</td>\n",
       "      <td>12.125000</td>\n",
       "      <td>1.2</td>\n",
       "      <td>-0.8</td>\n",
       "      <td>45.0</td>\n",
       "      <td>11.0</td>\n",
       "      <td>12.000000</td>\n",
       "      <td>1.9</td>\n",
       "      <td>-0.3</td>\n",
       "      <td>45.0</td>\n",
       "    </tr>\n",
       "    <tr>\n",
       "      <th>31664</th>\n",
       "      <td>2016-10-10</td>\n",
       "      <td>10</td>\n",
       "      <td>10</td>\n",
       "      <td>8</td>\n",
       "      <td>NaN</td>\n",
       "      <td>9.000</td>\n",
       "      <td>1016.1</td>\n",
       "      <td>5.4</td>\n",
       "      <td>22.5</td>\n",
       "      <td>1.3</td>\n",
       "      <td>...</td>\n",
       "      <td>59.0</td>\n",
       "      <td>6.500000</td>\n",
       "      <td>0.8</td>\n",
       "      <td>5.3</td>\n",
       "      <td>45.0</td>\n",
       "      <td>57.0</td>\n",
       "      <td>6.600000</td>\n",
       "      <td>1.0</td>\n",
       "      <td>5.2</td>\n",
       "      <td>45.0</td>\n",
       "    </tr>\n",
       "    <tr>\n",
       "      <th>31665</th>\n",
       "      <td>2016-10-10</td>\n",
       "      <td>10</td>\n",
       "      <td>10</td>\n",
       "      <td>9</td>\n",
       "      <td>NaN</td>\n",
       "      <td>10.900</td>\n",
       "      <td>1016.1</td>\n",
       "      <td>5.8</td>\n",
       "      <td>22.5</td>\n",
       "      <td>1.3</td>\n",
       "      <td>...</td>\n",
       "      <td>52.0</td>\n",
       "      <td>6.100000</td>\n",
       "      <td>0.9</td>\n",
       "      <td>5.2</td>\n",
       "      <td>315.0</td>\n",
       "      <td>59.0</td>\n",
       "      <td>6.500000</td>\n",
       "      <td>0.8</td>\n",
       "      <td>5.3</td>\n",
       "      <td>45.0</td>\n",
       "    </tr>\n",
       "    <tr>\n",
       "      <th>31783</th>\n",
       "      <td>2016-10-15</td>\n",
       "      <td>10</td>\n",
       "      <td>15</td>\n",
       "      <td>7</td>\n",
       "      <td>NaN</td>\n",
       "      <td>11.100</td>\n",
       "      <td>1018.8</td>\n",
       "      <td>10.6</td>\n",
       "      <td>45.0</td>\n",
       "      <td>0.5</td>\n",
       "      <td>...</td>\n",
       "      <td>271.0</td>\n",
       "      <td>11.900000</td>\n",
       "      <td>0.6</td>\n",
       "      <td>11.3</td>\n",
       "      <td>90.0</td>\n",
       "      <td>281.0</td>\n",
       "      <td>12.100000</td>\n",
       "      <td>0.4</td>\n",
       "      <td>11.5</td>\n",
       "      <td>22.5</td>\n",
       "    </tr>\n",
       "    <tr>\n",
       "      <th>31789</th>\n",
       "      <td>2016-10-15</td>\n",
       "      <td>10</td>\n",
       "      <td>15</td>\n",
       "      <td>13</td>\n",
       "      <td>NaN</td>\n",
       "      <td>16.100</td>\n",
       "      <td>1018.0</td>\n",
       "      <td>12.1</td>\n",
       "      <td>0.0</td>\n",
       "      <td>0.7</td>\n",
       "      <td>...</td>\n",
       "      <td>159.0</td>\n",
       "      <td>13.500000</td>\n",
       "      <td>0.9</td>\n",
       "      <td>12.7</td>\n",
       "      <td>22.5</td>\n",
       "      <td>158.0</td>\n",
       "      <td>12.600000</td>\n",
       "      <td>0.8</td>\n",
       "      <td>12.1</td>\n",
       "      <td>45.0</td>\n",
       "    </tr>\n",
       "    <tr>\n",
       "      <th>31834</th>\n",
       "      <td>2016-10-17</td>\n",
       "      <td>10</td>\n",
       "      <td>17</td>\n",
       "      <td>10</td>\n",
       "      <td>NaN</td>\n",
       "      <td>18.100</td>\n",
       "      <td>1018.8</td>\n",
       "      <td>7.2</td>\n",
       "      <td>22.5</td>\n",
       "      <td>2.2</td>\n",
       "      <td>...</td>\n",
       "      <td>74.0</td>\n",
       "      <td>10.400000</td>\n",
       "      <td>0.9</td>\n",
       "      <td>9.5</td>\n",
       "      <td>22.5</td>\n",
       "      <td>67.0</td>\n",
       "      <td>11.200000</td>\n",
       "      <td>2.0</td>\n",
       "      <td>10.6</td>\n",
       "      <td>22.5</td>\n",
       "    </tr>\n",
       "    <tr>\n",
       "      <th>32225</th>\n",
       "      <td>2016-11-02</td>\n",
       "      <td>11</td>\n",
       "      <td>2</td>\n",
       "      <td>17</td>\n",
       "      <td>NaN</td>\n",
       "      <td>10.100</td>\n",
       "      <td>1019.2</td>\n",
       "      <td>-1.3</td>\n",
       "      <td>225.0</td>\n",
       "      <td>1.4</td>\n",
       "      <td>...</td>\n",
       "      <td>112.0</td>\n",
       "      <td>11.200000</td>\n",
       "      <td>1.8</td>\n",
       "      <td>-3.0</td>\n",
       "      <td>247.5</td>\n",
       "      <td>89.0</td>\n",
       "      <td>9.500000</td>\n",
       "      <td>1.9</td>\n",
       "      <td>-2.8</td>\n",
       "      <td>225.0</td>\n",
       "    </tr>\n",
       "    <tr>\n",
       "      <th>32226</th>\n",
       "      <td>2016-11-02</td>\n",
       "      <td>11</td>\n",
       "      <td>2</td>\n",
       "      <td>18</td>\n",
       "      <td>NaN</td>\n",
       "      <td>8.400</td>\n",
       "      <td>1019.5</td>\n",
       "      <td>-0.9</td>\n",
       "      <td>202.5</td>\n",
       "      <td>1.5</td>\n",
       "      <td>...</td>\n",
       "      <td>106.0</td>\n",
       "      <td>12.100000</td>\n",
       "      <td>2.5</td>\n",
       "      <td>-2.9</td>\n",
       "      <td>202.5</td>\n",
       "      <td>112.0</td>\n",
       "      <td>11.200000</td>\n",
       "      <td>1.8</td>\n",
       "      <td>-3.0</td>\n",
       "      <td>247.5</td>\n",
       "    </tr>\n",
       "    <tr>\n",
       "      <th>32393</th>\n",
       "      <td>2016-11-09</td>\n",
       "      <td>11</td>\n",
       "      <td>9</td>\n",
       "      <td>17</td>\n",
       "      <td>NaN</td>\n",
       "      <td>5.900</td>\n",
       "      <td>1021.7</td>\n",
       "      <td>1.4</td>\n",
       "      <td>22.5</td>\n",
       "      <td>0.8</td>\n",
       "      <td>...</td>\n",
       "      <td>202.0</td>\n",
       "      <td>5.800000</td>\n",
       "      <td>2.3</td>\n",
       "      <td>0.3</td>\n",
       "      <td>315.0</td>\n",
       "      <td>197.0</td>\n",
       "      <td>5.800000</td>\n",
       "      <td>1.6</td>\n",
       "      <td>0.1</td>\n",
       "      <td>337.5</td>\n",
       "    </tr>\n",
       "    <tr>\n",
       "      <th>32394</th>\n",
       "      <td>2016-11-09</td>\n",
       "      <td>11</td>\n",
       "      <td>9</td>\n",
       "      <td>18</td>\n",
       "      <td>NaN</td>\n",
       "      <td>4.800</td>\n",
       "      <td>1021.3</td>\n",
       "      <td>1.8</td>\n",
       "      <td>0.0</td>\n",
       "      <td>0.6</td>\n",
       "      <td>...</td>\n",
       "      <td>203.0</td>\n",
       "      <td>5.900000</td>\n",
       "      <td>1.2</td>\n",
       "      <td>0.6</td>\n",
       "      <td>0.0</td>\n",
       "      <td>202.0</td>\n",
       "      <td>5.800000</td>\n",
       "      <td>2.3</td>\n",
       "      <td>0.3</td>\n",
       "      <td>315.0</td>\n",
       "    </tr>\n",
       "    <tr>\n",
       "      <th>32750</th>\n",
       "      <td>2016-11-24</td>\n",
       "      <td>11</td>\n",
       "      <td>24</td>\n",
       "      <td>14</td>\n",
       "      <td>NaN</td>\n",
       "      <td>4.800</td>\n",
       "      <td>1022.8</td>\n",
       "      <td>-11.8</td>\n",
       "      <td>247.5</td>\n",
       "      <td>1.8</td>\n",
       "      <td>...</td>\n",
       "      <td>36.0</td>\n",
       "      <td>0.100000</td>\n",
       "      <td>1.3</td>\n",
       "      <td>-11.3</td>\n",
       "      <td>45.0</td>\n",
       "      <td>32.0</td>\n",
       "      <td>-1.300000</td>\n",
       "      <td>1.2</td>\n",
       "      <td>-11.7</td>\n",
       "      <td>22.5</td>\n",
       "    </tr>\n",
       "    <tr>\n",
       "      <th>32751</th>\n",
       "      <td>2016-11-24</td>\n",
       "      <td>11</td>\n",
       "      <td>24</td>\n",
       "      <td>15</td>\n",
       "      <td>NaN</td>\n",
       "      <td>4.600</td>\n",
       "      <td>1021.9</td>\n",
       "      <td>-11.5</td>\n",
       "      <td>247.5</td>\n",
       "      <td>2.3</td>\n",
       "      <td>...</td>\n",
       "      <td>46.0</td>\n",
       "      <td>2.200000</td>\n",
       "      <td>0.9</td>\n",
       "      <td>-10.7</td>\n",
       "      <td>292.5</td>\n",
       "      <td>36.0</td>\n",
       "      <td>0.100000</td>\n",
       "      <td>1.3</td>\n",
       "      <td>-11.3</td>\n",
       "      <td>45.0</td>\n",
       "    </tr>\n",
       "    <tr>\n",
       "      <th>33546</th>\n",
       "      <td>2016-12-27</td>\n",
       "      <td>12</td>\n",
       "      <td>27</td>\n",
       "      <td>18</td>\n",
       "      <td>NaN</td>\n",
       "      <td>1.100</td>\n",
       "      <td>1028.4</td>\n",
       "      <td>-12.7</td>\n",
       "      <td>225.0</td>\n",
       "      <td>3.2</td>\n",
       "      <td>...</td>\n",
       "      <td>17.0</td>\n",
       "      <td>2.900000</td>\n",
       "      <td>2.3</td>\n",
       "      <td>-16.8</td>\n",
       "      <td>157.5</td>\n",
       "      <td>9.0</td>\n",
       "      <td>2.100000</td>\n",
       "      <td>3.3</td>\n",
       "      <td>-16.4</td>\n",
       "      <td>112.5</td>\n",
       "    </tr>\n",
       "    <tr>\n",
       "      <th>34238</th>\n",
       "      <td>2017-01-25</td>\n",
       "      <td>1</td>\n",
       "      <td>25</td>\n",
       "      <td>14</td>\n",
       "      <td>NaN</td>\n",
       "      <td>1.900</td>\n",
       "      <td>1027.0</td>\n",
       "      <td>-10.4</td>\n",
       "      <td>315.0</td>\n",
       "      <td>1.2</td>\n",
       "      <td>...</td>\n",
       "      <td>164.0</td>\n",
       "      <td>-3.666667</td>\n",
       "      <td>1.7</td>\n",
       "      <td>-10.7</td>\n",
       "      <td>45.0</td>\n",
       "      <td>154.0</td>\n",
       "      <td>-5.333333</td>\n",
       "      <td>1.6</td>\n",
       "      <td>-10.6</td>\n",
       "      <td>45.0</td>\n",
       "    </tr>\n",
       "    <tr>\n",
       "      <th>34587</th>\n",
       "      <td>2017-02-09</td>\n",
       "      <td>2</td>\n",
       "      <td>9</td>\n",
       "      <td>3</td>\n",
       "      <td>NaN</td>\n",
       "      <td>-3.300</td>\n",
       "      <td>1026.3</td>\n",
       "      <td>-20.6</td>\n",
       "      <td>135.0</td>\n",
       "      <td>4.6</td>\n",
       "      <td>...</td>\n",
       "      <td>8.0</td>\n",
       "      <td>-3.100000</td>\n",
       "      <td>2.5</td>\n",
       "      <td>-21.4</td>\n",
       "      <td>112.5</td>\n",
       "      <td>9.0</td>\n",
       "      <td>-2.800000</td>\n",
       "      <td>2.4</td>\n",
       "      <td>-21.6</td>\n",
       "      <td>112.5</td>\n",
       "    </tr>\n",
       "    <tr>\n",
       "      <th>34860</th>\n",
       "      <td>2017-02-20</td>\n",
       "      <td>2</td>\n",
       "      <td>20</td>\n",
       "      <td>12</td>\n",
       "      <td>NaN</td>\n",
       "      <td>0.700</td>\n",
       "      <td>1029.5</td>\n",
       "      <td>-23.1</td>\n",
       "      <td>112.5</td>\n",
       "      <td>3.0</td>\n",
       "      <td>...</td>\n",
       "      <td>5.0</td>\n",
       "      <td>-2.400000</td>\n",
       "      <td>2.2</td>\n",
       "      <td>-20.8</td>\n",
       "      <td>45.0</td>\n",
       "      <td>3.0</td>\n",
       "      <td>-2.200000</td>\n",
       "      <td>3.4</td>\n",
       "      <td>-21.6</td>\n",
       "      <td>77.5</td>\n",
       "    </tr>\n",
       "    <tr>\n",
       "      <th>34863</th>\n",
       "      <td>2017-02-20</td>\n",
       "      <td>2</td>\n",
       "      <td>20</td>\n",
       "      <td>15</td>\n",
       "      <td>NaN</td>\n",
       "      <td>3.700</td>\n",
       "      <td>1027.5</td>\n",
       "      <td>-23.2</td>\n",
       "      <td>112.5</td>\n",
       "      <td>1.6</td>\n",
       "      <td>...</td>\n",
       "      <td>9.0</td>\n",
       "      <td>0.300000</td>\n",
       "      <td>3.9</td>\n",
       "      <td>-22.0</td>\n",
       "      <td>90.0</td>\n",
       "      <td>8.0</td>\n",
       "      <td>-0.900000</td>\n",
       "      <td>3.6</td>\n",
       "      <td>-23.0</td>\n",
       "      <td>90.0</td>\n",
       "    </tr>\n",
       "    <tr>\n",
       "      <th>34864</th>\n",
       "      <td>2017-02-20</td>\n",
       "      <td>2</td>\n",
       "      <td>20</td>\n",
       "      <td>16</td>\n",
       "      <td>NaN</td>\n",
       "      <td>4.000</td>\n",
       "      <td>1027.6</td>\n",
       "      <td>-22.9</td>\n",
       "      <td>112.5</td>\n",
       "      <td>2.4</td>\n",
       "      <td>...</td>\n",
       "      <td>NaN</td>\n",
       "      <td>0.700000</td>\n",
       "      <td>3.0</td>\n",
       "      <td>-23.1</td>\n",
       "      <td>112.5</td>\n",
       "      <td>9.0</td>\n",
       "      <td>0.300000</td>\n",
       "      <td>3.9</td>\n",
       "      <td>-22.0</td>\n",
       "      <td>90.0</td>\n",
       "    </tr>\n",
       "    <tr>\n",
       "      <th>34866</th>\n",
       "      <td>2017-02-20</td>\n",
       "      <td>2</td>\n",
       "      <td>20</td>\n",
       "      <td>18</td>\n",
       "      <td>NaN</td>\n",
       "      <td>3.400</td>\n",
       "      <td>1027.7</td>\n",
       "      <td>-21.7</td>\n",
       "      <td>337.5</td>\n",
       "      <td>0.9</td>\n",
       "      <td>...</td>\n",
       "      <td>12.0</td>\n",
       "      <td>3.200000</td>\n",
       "      <td>1.6</td>\n",
       "      <td>-23.6</td>\n",
       "      <td>112.5</td>\n",
       "      <td>7.0</td>\n",
       "      <td>1.900000</td>\n",
       "      <td>2.7</td>\n",
       "      <td>-22.9</td>\n",
       "      <td>90.0</td>\n",
       "    </tr>\n",
       "    <tr>\n",
       "      <th>34872</th>\n",
       "      <td>2017-02-21</td>\n",
       "      <td>2</td>\n",
       "      <td>21</td>\n",
       "      <td>0</td>\n",
       "      <td>NaN</td>\n",
       "      <td>-0.300</td>\n",
       "      <td>1029.9</td>\n",
       "      <td>-20.6</td>\n",
       "      <td>225.0</td>\n",
       "      <td>0.9</td>\n",
       "      <td>...</td>\n",
       "      <td>16.0</td>\n",
       "      <td>1.400000</td>\n",
       "      <td>1.4</td>\n",
       "      <td>-20.4</td>\n",
       "      <td>247.5</td>\n",
       "      <td>15.0</td>\n",
       "      <td>0.300000</td>\n",
       "      <td>0.5</td>\n",
       "      <td>-20.1</td>\n",
       "      <td>247.5</td>\n",
       "    </tr>\n",
       "    <tr>\n",
       "      <th>34873</th>\n",
       "      <td>2017-02-21</td>\n",
       "      <td>2</td>\n",
       "      <td>21</td>\n",
       "      <td>1</td>\n",
       "      <td>NaN</td>\n",
       "      <td>0.000</td>\n",
       "      <td>1029.8</td>\n",
       "      <td>-20.3</td>\n",
       "      <td>202.5</td>\n",
       "      <td>0.8</td>\n",
       "      <td>...</td>\n",
       "      <td>20.0</td>\n",
       "      <td>-0.100000</td>\n",
       "      <td>0.9</td>\n",
       "      <td>-19.9</td>\n",
       "      <td>225.0</td>\n",
       "      <td>16.0</td>\n",
       "      <td>1.400000</td>\n",
       "      <td>1.4</td>\n",
       "      <td>-20.4</td>\n",
       "      <td>247.5</td>\n",
       "    </tr>\n",
       "    <tr>\n",
       "      <th>34876</th>\n",
       "      <td>2017-02-21</td>\n",
       "      <td>2</td>\n",
       "      <td>21</td>\n",
       "      <td>4</td>\n",
       "      <td>NaN</td>\n",
       "      <td>-1.200</td>\n",
       "      <td>1029.4</td>\n",
       "      <td>-18.3</td>\n",
       "      <td>225.0</td>\n",
       "      <td>0.1</td>\n",
       "      <td>...</td>\n",
       "      <td>NaN</td>\n",
       "      <td>-0.300000</td>\n",
       "      <td>0.9</td>\n",
       "      <td>-20.6</td>\n",
       "      <td>225.0</td>\n",
       "      <td>28.0</td>\n",
       "      <td>0.100000</td>\n",
       "      <td>1.5</td>\n",
       "      <td>-20.3</td>\n",
       "      <td>202.5</td>\n",
       "    </tr>\n",
       "    <tr>\n",
       "      <th>34877</th>\n",
       "      <td>2017-02-21</td>\n",
       "      <td>2</td>\n",
       "      <td>21</td>\n",
       "      <td>5</td>\n",
       "      <td>NaN</td>\n",
       "      <td>-1.900</td>\n",
       "      <td>1029.3</td>\n",
       "      <td>-18.0</td>\n",
       "      <td>270.0</td>\n",
       "      <td>1.1</td>\n",
       "      <td>...</td>\n",
       "      <td>NaN</td>\n",
       "      <td>0.000000</td>\n",
       "      <td>0.8</td>\n",
       "      <td>-20.3</td>\n",
       "      <td>202.5</td>\n",
       "      <td>NaN</td>\n",
       "      <td>-0.300000</td>\n",
       "      <td>0.9</td>\n",
       "      <td>-20.6</td>\n",
       "      <td>225.0</td>\n",
       "    </tr>\n",
       "    <tr>\n",
       "      <th>34879</th>\n",
       "      <td>2017-02-21</td>\n",
       "      <td>2</td>\n",
       "      <td>21</td>\n",
       "      <td>7</td>\n",
       "      <td>NaN</td>\n",
       "      <td>-1.500</td>\n",
       "      <td>1028.3</td>\n",
       "      <td>-15.7</td>\n",
       "      <td>0.0</td>\n",
       "      <td>1.1</td>\n",
       "      <td>...</td>\n",
       "      <td>50.0</td>\n",
       "      <td>-2.200000</td>\n",
       "      <td>0.4</td>\n",
       "      <td>-17.9</td>\n",
       "      <td>292.5</td>\n",
       "      <td>46.0</td>\n",
       "      <td>-1.800000</td>\n",
       "      <td>0.7</td>\n",
       "      <td>-18.8</td>\n",
       "      <td>337.5</td>\n",
       "    </tr>\n",
       "    <tr>\n",
       "      <th>34880</th>\n",
       "      <td>2017-02-21</td>\n",
       "      <td>2</td>\n",
       "      <td>21</td>\n",
       "      <td>8</td>\n",
       "      <td>NaN</td>\n",
       "      <td>-0.300</td>\n",
       "      <td>1028.8</td>\n",
       "      <td>-15.8</td>\n",
       "      <td>292.5</td>\n",
       "      <td>1.0</td>\n",
       "      <td>...</td>\n",
       "      <td>NaN</td>\n",
       "      <td>-1.200000</td>\n",
       "      <td>0.1</td>\n",
       "      <td>-18.3</td>\n",
       "      <td>225.0</td>\n",
       "      <td>50.0</td>\n",
       "      <td>-2.200000</td>\n",
       "      <td>0.4</td>\n",
       "      <td>-17.9</td>\n",
       "      <td>292.5</td>\n",
       "    </tr>\n",
       "    <tr>\n",
       "      <th>34883</th>\n",
       "      <td>2017-02-21</td>\n",
       "      <td>2</td>\n",
       "      <td>21</td>\n",
       "      <td>11</td>\n",
       "      <td>NaN</td>\n",
       "      <td>1.300</td>\n",
       "      <td>1028.0</td>\n",
       "      <td>-16.1</td>\n",
       "      <td>270.0</td>\n",
       "      <td>1.5</td>\n",
       "      <td>...</td>\n",
       "      <td>NaN</td>\n",
       "      <td>-1.500000</td>\n",
       "      <td>1.1</td>\n",
       "      <td>-15.7</td>\n",
       "      <td>0.0</td>\n",
       "      <td>90.0</td>\n",
       "      <td>-1.800000</td>\n",
       "      <td>0.6</td>\n",
       "      <td>-18.4</td>\n",
       "      <td>270.0</td>\n",
       "    </tr>\n",
       "    <tr>\n",
       "      <th>34885</th>\n",
       "      <td>2017-02-21</td>\n",
       "      <td>2</td>\n",
       "      <td>21</td>\n",
       "      <td>13</td>\n",
       "      <td>NaN</td>\n",
       "      <td>-2.100</td>\n",
       "      <td>1027.4</td>\n",
       "      <td>-4.1</td>\n",
       "      <td>202.5</td>\n",
       "      <td>3.2</td>\n",
       "      <td>...</td>\n",
       "      <td>74.0</td>\n",
       "      <td>0.100000</td>\n",
       "      <td>2.0</td>\n",
       "      <td>-15.1</td>\n",
       "      <td>337.5</td>\n",
       "      <td>NaN</td>\n",
       "      <td>-0.300000</td>\n",
       "      <td>1.0</td>\n",
       "      <td>-15.8</td>\n",
       "      <td>292.5</td>\n",
       "    </tr>\n",
       "    <tr>\n",
       "      <th>35028</th>\n",
       "      <td>2017-02-27</td>\n",
       "      <td>2</td>\n",
       "      <td>27</td>\n",
       "      <td>12</td>\n",
       "      <td>NaN</td>\n",
       "      <td>12.100</td>\n",
       "      <td>1017.3</td>\n",
       "      <td>-5.4</td>\n",
       "      <td>247.5</td>\n",
       "      <td>1.2</td>\n",
       "      <td>...</td>\n",
       "      <td>61.0</td>\n",
       "      <td>2.300000</td>\n",
       "      <td>0.8</td>\n",
       "      <td>-5.6</td>\n",
       "      <td>45.0</td>\n",
       "      <td>73.0</td>\n",
       "      <td>0.600000</td>\n",
       "      <td>0.7</td>\n",
       "      <td>-6.3</td>\n",
       "      <td>77.5</td>\n",
       "    </tr>\n",
       "    <tr>\n",
       "      <th>35029</th>\n",
       "      <td>2017-02-27</td>\n",
       "      <td>2</td>\n",
       "      <td>27</td>\n",
       "      <td>13</td>\n",
       "      <td>NaN</td>\n",
       "      <td>14.000</td>\n",
       "      <td>1015.8</td>\n",
       "      <td>-5.2</td>\n",
       "      <td>292.5</td>\n",
       "      <td>1.8</td>\n",
       "      <td>...</td>\n",
       "      <td>52.0</td>\n",
       "      <td>3.800000</td>\n",
       "      <td>1.3</td>\n",
       "      <td>-6.0</td>\n",
       "      <td>77.5</td>\n",
       "      <td>61.0</td>\n",
       "      <td>2.300000</td>\n",
       "      <td>0.8</td>\n",
       "      <td>-5.6</td>\n",
       "      <td>45.0</td>\n",
       "    </tr>\n",
       "  </tbody>\n",
       "</table>\n",
       "<p>925 rows × 35 columns</p>\n",
       "</div>"
      ],
      "text/plain": [
       "            Date  month  day  hour  PM2.5    TEMP    PRES  DEWP     wd  WSPM  \\\n",
       "1509  2013-05-02      5    2    21    NaN  18.500  1006.1   6.0  315.0   2.8   \n",
       "1837  2013-05-16      5   16    13    NaN  26.100  1009.9  10.7  225.0   2.7   \n",
       "2368  2013-06-07      6    7    16    NaN  20.700  1002.4  19.4   77.5   0.8   \n",
       "2785  2013-06-25      6   25     1    NaN  20.800   996.5  20.5   45.0   0.2   \n",
       "2808  2013-06-26      6   26     0    NaN  21.700   993.0  21.2  112.5   0.4   \n",
       "4187  2013-08-22      8   22    11    NaN  24.300  1003.7  21.6   22.5   1.1   \n",
       "5103  2013-09-29      9   29    15    NaN  19.300  1012.6  14.8   77.5   2.0   \n",
       "5652  2013-10-22     10   22    12    NaN  16.400  1014.8   6.5  270.0   2.0   \n",
       "6039  2013-11-07     11    7    15    NaN  13.300  1012.8  -5.3  225.0   2.5   \n",
       "6304  2013-11-18     11   18    16    NaN   6.400  1019.4 -13.3   77.5   2.0   \n",
       "7024  2013-12-18     12   18    16    NaN  -2.200  1022.5 -13.1  202.5   2.3   \n",
       "7882  2014-01-23      1   23    10    NaN   0.700  1011.9 -12.7   45.0   1.9   \n",
       "7939  2014-01-25      1   25    19    NaN   2.500  1025.1 -19.5   77.5   1.4   \n",
       "7940  2014-01-25      1   25    20    NaN   1.900  1026.0 -20.6   45.0   1.9   \n",
       "7941  2014-01-25      1   25    21    NaN   1.500  1026.7 -21.0   45.0   1.8   \n",
       "7942  2014-01-25      1   25    22    NaN   0.200  1027.3  -5.0  225.0   3.4   \n",
       "7991  2014-01-27      1   27    23    NaN   0.500  1022.0 -18.3   77.5   1.9   \n",
       "8340  2014-02-11      2   11    12    NaN  -0.400  1020.5 -13.3  225.0   2.2   \n",
       "8415  2014-02-14      2   14    15    NaN   3.200  1017.5  -5.2  112.5   1.0   \n",
       "8416  2014-02-14      2   14    16    NaN   2.100  1017.7  -5.1   45.0   1.5   \n",
       "8499  2014-02-18      2   18     3    NaN  -3.800  1028.2  -8.5  180.0   1.0   \n",
       "8651  2014-02-24      2   24    11    NaN   6.000  1021.8  -2.1  180.0   1.1   \n",
       "8662  2014-02-24      2   24    22    NaN  -0.600  1021.2  -2.7  157.5   0.5   \n",
       "8678  2014-02-25      2   25    14    NaN   8.600  1018.0  -1.0   77.5   1.3   \n",
       "8679  2014-02-25      2   25    15    NaN   8.600  1017.7  -0.7   45.0   1.5   \n",
       "8680  2014-02-25      2   25    16    NaN   8.000  1018.1  -0.8   45.0   1.7   \n",
       "8681  2014-02-25      2   25    17    NaN   6.800  1018.6  -0.7  112.5   0.5   \n",
       "8682  2014-02-25      2   25    18    NaN   4.600  1019.1  -1.0   45.0   1.0   \n",
       "8683  2014-02-25      2   25    19    NaN   3.400  1019.2  -1.0   77.5   0.7   \n",
       "8684  2014-02-25      2   25    20    NaN   2.800  1019.8  -0.8   45.0   1.2   \n",
       "...          ...    ...  ...   ...    ...     ...     ...   ...    ...   ...   \n",
       "31378 2016-09-28      9   28    10    NaN  16.100  1025.0  -1.5   45.0   4.5   \n",
       "31379 2016-09-28      9   28    11    NaN  16.975  1024.5  -1.2   45.0   3.4   \n",
       "31664 2016-10-10     10   10     8    NaN   9.000  1016.1   5.4   22.5   1.3   \n",
       "31665 2016-10-10     10   10     9    NaN  10.900  1016.1   5.8   22.5   1.3   \n",
       "31783 2016-10-15     10   15     7    NaN  11.100  1018.8  10.6   45.0   0.5   \n",
       "31789 2016-10-15     10   15    13    NaN  16.100  1018.0  12.1    0.0   0.7   \n",
       "31834 2016-10-17     10   17    10    NaN  18.100  1018.8   7.2   22.5   2.2   \n",
       "32225 2016-11-02     11    2    17    NaN  10.100  1019.2  -1.3  225.0   1.4   \n",
       "32226 2016-11-02     11    2    18    NaN   8.400  1019.5  -0.9  202.5   1.5   \n",
       "32393 2016-11-09     11    9    17    NaN   5.900  1021.7   1.4   22.5   0.8   \n",
       "32394 2016-11-09     11    9    18    NaN   4.800  1021.3   1.8    0.0   0.6   \n",
       "32750 2016-11-24     11   24    14    NaN   4.800  1022.8 -11.8  247.5   1.8   \n",
       "32751 2016-11-24     11   24    15    NaN   4.600  1021.9 -11.5  247.5   2.3   \n",
       "33546 2016-12-27     12   27    18    NaN   1.100  1028.4 -12.7  225.0   3.2   \n",
       "34238 2017-01-25      1   25    14    NaN   1.900  1027.0 -10.4  315.0   1.2   \n",
       "34587 2017-02-09      2    9     3    NaN  -3.300  1026.3 -20.6  135.0   4.6   \n",
       "34860 2017-02-20      2   20    12    NaN   0.700  1029.5 -23.1  112.5   3.0   \n",
       "34863 2017-02-20      2   20    15    NaN   3.700  1027.5 -23.2  112.5   1.6   \n",
       "34864 2017-02-20      2   20    16    NaN   4.000  1027.6 -22.9  112.5   2.4   \n",
       "34866 2017-02-20      2   20    18    NaN   3.400  1027.7 -21.7  337.5   0.9   \n",
       "34872 2017-02-21      2   21     0    NaN  -0.300  1029.9 -20.6  225.0   0.9   \n",
       "34873 2017-02-21      2   21     1    NaN   0.000  1029.8 -20.3  202.5   0.8   \n",
       "34876 2017-02-21      2   21     4    NaN  -1.200  1029.4 -18.3  225.0   0.1   \n",
       "34877 2017-02-21      2   21     5    NaN  -1.900  1029.3 -18.0  270.0   1.1   \n",
       "34879 2017-02-21      2   21     7    NaN  -1.500  1028.3 -15.7    0.0   1.1   \n",
       "34880 2017-02-21      2   21     8    NaN  -0.300  1028.8 -15.8  292.5   1.0   \n",
       "34883 2017-02-21      2   21    11    NaN   1.300  1028.0 -16.1  270.0   1.5   \n",
       "34885 2017-02-21      2   21    13    NaN  -2.100  1027.4  -4.1  202.5   3.2   \n",
       "35028 2017-02-27      2   27    12    NaN  12.100  1017.3  -5.4  247.5   1.2   \n",
       "35029 2017-02-27      2   27    13    NaN  14.000  1015.8  -5.2  292.5   1.8   \n",
       "\n",
       "       ...  PM2.5_4     TEMP_4  SPD_4  DEWP_4   WD_4  PM2.5_5     TEMP_5  \\\n",
       "1509   ...    105.0  22.900000    1.7     6.2  292.5     96.0  23.600000   \n",
       "1837   ...    135.0  23.000000    1.6     9.4  292.5     79.0  20.500000   \n",
       "2368   ...     95.0  20.200000    1.1    19.9  202.5     74.0  19.800000   \n",
       "2785   ...     36.0  20.800000    0.9    20.3  180.0    120.0  21.100000   \n",
       "2808   ...    172.0  21.700000    1.5    21.4  202.5    177.0  21.800000   \n",
       "4187   ...    133.0  23.800000    1.1    21.5   45.0    117.0  22.600000   \n",
       "5103   ...    214.0  17.500000    1.4    14.9   45.0    176.0  17.000000   \n",
       "5652   ...    150.0   9.300000    1.2     6.0   45.0    164.0   7.100000   \n",
       "6039   ...     14.0  12.700000    3.2    -6.3  202.5     13.0  11.700000   \n",
       "6304   ...      8.0   8.500000    4.8   -13.2   90.0      7.0   8.000000   \n",
       "7024   ...     12.0   0.400000    1.0   -17.4  292.5     17.0  -1.400000   \n",
       "7882   ...    191.0  -4.300000    1.4   -13.7   45.0    217.0  -4.900000   \n",
       "7939   ...      9.0   6.200000    2.0   -17.1   22.5      9.0   6.800000   \n",
       "7940   ...      9.0   5.000000    1.8   -17.4   22.5      9.0   6.200000   \n",
       "7941   ...     11.0   4.100000    2.2   -17.5   22.5      9.0   5.000000   \n",
       "7942   ...     11.0   3.400000    1.1   -18.1   90.0     11.0   4.100000   \n",
       "7991   ...     15.0   6.000000    3.8   -18.8   45.0     15.0   6.700000   \n",
       "8340   ...     55.0  -7.100000    1.3   -13.6   45.0     58.0  -8.500000   \n",
       "8415   ...    172.0   0.200000    1.2    -5.4   45.0    204.0  -1.300000   \n",
       "8416   ...    184.0   1.100000    1.7    -5.4   22.5    172.0   0.200000   \n",
       "8499   ...     38.0  -1.000000    3.4   -10.4  225.0     59.0  -1.000000   \n",
       "8651   ...    199.0   1.700000    0.8    -2.1  180.0    211.0   1.600000   \n",
       "8662   ...    358.0   3.800000    1.2    -1.8  225.0    323.0   5.000000   \n",
       "8678   ...    299.0   5.200000    1.5    -1.3   22.5    346.0   4.000000   \n",
       "8679   ...    293.0   6.300000    0.8    -0.9   22.5    299.0   5.200000   \n",
       "8680   ...    308.0   7.700000    1.1    -1.0   77.5    293.0   6.300000   \n",
       "8681   ...    314.0   8.200000    1.1    -1.1   45.0    308.0   7.700000   \n",
       "8682   ...      NaN   8.600000    1.3    -1.0   77.5    314.0   8.200000   \n",
       "8683   ...      NaN   8.600000    1.5    -0.7   45.0      NaN   8.600000   \n",
       "8684   ...      NaN   8.000000    1.7    -0.8   45.0      NaN   8.600000   \n",
       "...    ...      ...        ...    ...     ...    ...      ...        ...   \n",
       "31378  ...     11.0  12.000000    1.9    -0.3   45.0     15.0  13.000000   \n",
       "31379  ...     11.0  12.125000    1.2    -0.8   45.0     11.0  12.000000   \n",
       "31664  ...     59.0   6.500000    0.8     5.3   45.0     57.0   6.600000   \n",
       "31665  ...     52.0   6.100000    0.9     5.2  315.0     59.0   6.500000   \n",
       "31783  ...    271.0  11.900000    0.6    11.3   90.0    281.0  12.100000   \n",
       "31789  ...    159.0  13.500000    0.9    12.7   22.5    158.0  12.600000   \n",
       "31834  ...     74.0  10.400000    0.9     9.5   22.5     67.0  11.200000   \n",
       "32225  ...    112.0  11.200000    1.8    -3.0  247.5     89.0   9.500000   \n",
       "32226  ...    106.0  12.100000    2.5    -2.9  202.5    112.0  11.200000   \n",
       "32393  ...    202.0   5.800000    2.3     0.3  315.0    197.0   5.800000   \n",
       "32394  ...    203.0   5.900000    1.2     0.6    0.0    202.0   5.800000   \n",
       "32750  ...     36.0   0.100000    1.3   -11.3   45.0     32.0  -1.300000   \n",
       "32751  ...     46.0   2.200000    0.9   -10.7  292.5     36.0   0.100000   \n",
       "33546  ...     17.0   2.900000    2.3   -16.8  157.5      9.0   2.100000   \n",
       "34238  ...    164.0  -3.666667    1.7   -10.7   45.0    154.0  -5.333333   \n",
       "34587  ...      8.0  -3.100000    2.5   -21.4  112.5      9.0  -2.800000   \n",
       "34860  ...      5.0  -2.400000    2.2   -20.8   45.0      3.0  -2.200000   \n",
       "34863  ...      9.0   0.300000    3.9   -22.0   90.0      8.0  -0.900000   \n",
       "34864  ...      NaN   0.700000    3.0   -23.1  112.5      9.0   0.300000   \n",
       "34866  ...     12.0   3.200000    1.6   -23.6  112.5      7.0   1.900000   \n",
       "34872  ...     16.0   1.400000    1.4   -20.4  247.5     15.0   0.300000   \n",
       "34873  ...     20.0  -0.100000    0.9   -19.9  225.0     16.0   1.400000   \n",
       "34876  ...      NaN  -0.300000    0.9   -20.6  225.0     28.0   0.100000   \n",
       "34877  ...      NaN   0.000000    0.8   -20.3  202.5      NaN  -0.300000   \n",
       "34879  ...     50.0  -2.200000    0.4   -17.9  292.5     46.0  -1.800000   \n",
       "34880  ...      NaN  -1.200000    0.1   -18.3  225.0     50.0  -2.200000   \n",
       "34883  ...      NaN  -1.500000    1.1   -15.7    0.0     90.0  -1.800000   \n",
       "34885  ...     74.0   0.100000    2.0   -15.1  337.5      NaN  -0.300000   \n",
       "35028  ...     61.0   2.300000    0.8    -5.6   45.0     73.0   0.600000   \n",
       "35029  ...     52.0   3.800000    1.3    -6.0   77.5     61.0   2.300000   \n",
       "\n",
       "       SPD_5  DEWP_5   WD_5  \n",
       "1509     2.1     6.8  337.5  \n",
       "1837     1.1    10.6  225.0  \n",
       "2368     0.7    19.5  202.5  \n",
       "2785     1.7    20.3  315.0  \n",
       "2808     0.6    21.1    0.0  \n",
       "4187     1.0    21.1   22.5  \n",
       "5103     1.4    14.6   77.5  \n",
       "5652     1.1     5.9   90.0  \n",
       "6039     3.1    -7.7  202.5  \n",
       "6304     3.2   -12.5  112.5  \n",
       "7024     1.7   -18.0  225.0  \n",
       "7882     1.3   -14.0   22.5  \n",
       "7939     1.9   -16.6   22.5  \n",
       "7940     2.0   -17.1   22.5  \n",
       "7941     1.8   -17.4   22.5  \n",
       "7942     2.2   -17.5   22.5  \n",
       "7991     3.5   -18.2   22.5  \n",
       "8340     1.3   -13.9   45.0  \n",
       "8415     1.4    -5.7   45.0  \n",
       "8416     1.2    -5.4   45.0  \n",
       "8499     2.5   -10.1  225.0  \n",
       "8651     0.1    -2.5    0.0  \n",
       "8662     1.2    -1.7  202.5  \n",
       "8678     1.4    -1.6   77.5  \n",
       "8679     1.5    -1.3   22.5  \n",
       "8680     0.8    -0.9   22.5  \n",
       "8681     1.1    -1.0   77.5  \n",
       "8682     1.1    -1.1   45.0  \n",
       "8683     1.3    -1.0   77.5  \n",
       "8684     1.5    -0.7   45.0  \n",
       "...      ...     ...    ...  \n",
       "31378    2.6    -0.3   45.0  \n",
       "31379    1.9    -0.3   45.0  \n",
       "31664    1.0     5.2   45.0  \n",
       "31665    0.8     5.3   45.0  \n",
       "31783    0.4    11.5   22.5  \n",
       "31789    0.8    12.1   45.0  \n",
       "31834    2.0    10.6   22.5  \n",
       "32225    1.9    -2.8  225.0  \n",
       "32226    1.8    -3.0  247.5  \n",
       "32393    1.6     0.1  337.5  \n",
       "32394    2.3     0.3  315.0  \n",
       "32750    1.2   -11.7   22.5  \n",
       "32751    1.3   -11.3   45.0  \n",
       "33546    3.3   -16.4  112.5  \n",
       "34238    1.6   -10.6   45.0  \n",
       "34587    2.4   -21.6  112.5  \n",
       "34860    3.4   -21.6   77.5  \n",
       "34863    3.6   -23.0   90.0  \n",
       "34864    3.9   -22.0   90.0  \n",
       "34866    2.7   -22.9   90.0  \n",
       "34872    0.5   -20.1  247.5  \n",
       "34873    1.4   -20.4  247.5  \n",
       "34876    1.5   -20.3  202.5  \n",
       "34877    0.9   -20.6  225.0  \n",
       "34879    0.7   -18.8  337.5  \n",
       "34880    0.4   -17.9  292.5  \n",
       "34883    0.6   -18.4  270.0  \n",
       "34885    1.0   -15.8  292.5  \n",
       "35028    0.7    -6.3   77.5  \n",
       "35029    0.8    -5.6   45.0  \n",
       "\n",
       "[925 rows x 35 columns]"
      ]
     },
     "execution_count": 31,
     "metadata": {},
     "output_type": "execute_result"
    }
   ],
   "source": [
    "df[df['PM2.5'].isnull()]"
   ]
  },
  {
   "cell_type": "code",
   "execution_count": 32,
   "metadata": {
    "slideshow": {
     "slide_type": "slide"
    }
   },
   "outputs": [
    {
     "data": {
      "text/plain": [
       "\"df = df.dropna(axis=0,subset=['PM2.5'])\\ndf.shape\""
      ]
     },
     "execution_count": 32,
     "metadata": {},
     "output_type": "execute_result"
    }
   ],
   "source": [
    "\"\"\"df = df.dropna(axis=0,subset=['PM2.5'])\n",
    "df.shape\"\"\""
   ]
  },
  {
   "cell_type": "code",
   "execution_count": 33,
   "metadata": {
    "slideshow": {
     "slide_type": "slide"
    }
   },
   "outputs": [
    {
     "data": {
      "text/plain": [
       "(20, 35)"
      ]
     },
     "execution_count": 33,
     "metadata": {},
     "output_type": "execute_result"
    }
   ],
   "source": [
    "df[df['wd'].isnull()].shape\n",
    "df[df['WSPM'].isnull()].shape\n",
    "df[df['TEMP'].isnull()].shape\n",
    "df[df['DEWP'].isnull()].shape"
   ]
  },
  {
   "cell_type": "code",
   "execution_count": 34,
   "metadata": {
    "slideshow": {
     "slide_type": "slide"
    }
   },
   "outputs": [
    {
     "data": {
      "text/plain": [
       "\"df = df.dropna(axis=0,subset=['DEWP', 'TEMP'])\\ndf.shape\""
      ]
     },
     "execution_count": 34,
     "metadata": {},
     "output_type": "execute_result"
    }
   ],
   "source": [
    "\"\"\"df = df.dropna(axis=0,subset=['DEWP', 'TEMP'])\n",
    "df.shape\"\"\""
   ]
  },
  {
   "cell_type": "code",
   "execution_count": 35,
   "metadata": {
    "slideshow": {
     "slide_type": "slide"
    }
   },
   "outputs": [
    {
     "data": {
      "text/plain": [
       "'df = df.dropna(axis=0)\\ndf1 = df1.dropna(axis=0)\\ndf2 = df2.dropna(axis=0)\\ndf3 = df3.dropna(axis=0)\\ndf4 = df4.dropna(axis=0)\\ndf5 = df5.dropna(axis=0)\\ndf6 = df6.dropna(axis=0)\\ndf7 = df7.dropna(axis=0)\\ndf8 = df8.dropna(axis=0)\\ndf9 = df9.dropna(axis=0)\\ndf10 = df10.dropna(axis=0)\\ndf11 = df11.dropna(axis=0)'"
      ]
     },
     "execution_count": 35,
     "metadata": {},
     "output_type": "execute_result"
    }
   ],
   "source": [
    "\"\"\"df = df.dropna(axis=0)\n",
    "df1 = df1.dropna(axis=0)\n",
    "df2 = df2.dropna(axis=0)\n",
    "df3 = df3.dropna(axis=0)\n",
    "df4 = df4.dropna(axis=0)\n",
    "df5 = df5.dropna(axis=0)\n",
    "df6 = df6.dropna(axis=0)\n",
    "df7 = df7.dropna(axis=0)\n",
    "df8 = df8.dropna(axis=0)\n",
    "df9 = df9.dropna(axis=0)\n",
    "df10 = df10.dropna(axis=0)\n",
    "df11 = df11.dropna(axis=0)\"\"\""
   ]
  },
  {
   "cell_type": "code",
   "execution_count": 36,
   "metadata": {
    "slideshow": {
     "slide_type": "slide"
    }
   },
   "outputs": [
    {
     "name": "stdout",
     "output_type": "stream",
     "text": [
      "(35064, 35)\n",
      "(35064, 35)\n",
      "(35064, 35)\n",
      "(35064, 35)\n",
      "(35064, 35)\n",
      "(35064, 35)\n",
      "(35064, 35)\n",
      "(35064, 35)\n",
      "(35064, 35)\n",
      "(35064, 35)\n",
      "(35064, 35)\n",
      "(35064, 35)\n"
     ]
    }
   ],
   "source": [
    "print(df.shape)\n",
    "print(df1.shape)\n",
    "print(df2.shape)\n",
    "print(df3.shape)\n",
    "print(df4.shape)\n",
    "print(df5.shape)\n",
    "print(df6.shape)\n",
    "print(df7.shape)\n",
    "print(df8.shape)\n",
    "print(df9.shape)\n",
    "print(df10.shape)\n",
    "print(df11.shape)"
   ]
  },
  {
   "cell_type": "code",
   "execution_count": 37,
   "metadata": {
    "slideshow": {
     "slide_type": "slide"
    }
   },
   "outputs": [],
   "source": [
    "df = df.reset_index(drop=True)"
   ]
  },
  {
   "cell_type": "code",
   "execution_count": 38,
   "metadata": {
    "slideshow": {
     "slide_type": "slide"
    }
   },
   "outputs": [
    {
     "data": {
      "text/plain": [
       "Date       datetime64[ns]\n",
       "month               int64\n",
       "day                 int64\n",
       "hour                int64\n",
       "PM2.5             float64\n",
       "TEMP              float64\n",
       "PRES              float64\n",
       "DEWP              float64\n",
       "wd                float64\n",
       "WSPM              float64\n",
       "PM2.5_1           float64\n",
       "TEMP_1            float64\n",
       "SPD_1             float64\n",
       "DEWP_1            float64\n",
       "WD_1              float64\n",
       "PM2.5_2           float64\n",
       "TEMP_2            float64\n",
       "SPD_2             float64\n",
       "DEWP_2            float64\n",
       "WD_2              float64\n",
       "PM2.5_3           float64\n",
       "TEMP_3            float64\n",
       "SPD_3             float64\n",
       "DEWP_3            float64\n",
       "WD_3              float64\n",
       "PM2.5_4           float64\n",
       "TEMP_4            float64\n",
       "SPD_4             float64\n",
       "DEWP_4            float64\n",
       "WD_4              float64\n",
       "PM2.5_5           float64\n",
       "TEMP_5            float64\n",
       "SPD_5             float64\n",
       "DEWP_5            float64\n",
       "WD_5              float64\n",
       "dtype: object"
      ]
     },
     "execution_count": 38,
     "metadata": {},
     "output_type": "execute_result"
    }
   ],
   "source": [
    "df1.dtypes"
   ]
  },
  {
   "cell_type": "code",
   "execution_count": 39,
   "metadata": {
    "slideshow": {
     "slide_type": "slide"
    }
   },
   "outputs": [
    {
     "data": {
      "image/png": "[encoded data removed]",
      "text/plain": [
       "<Figure size 1152x648 with 1 Axes>"
      ]
     },
     "metadata": {},
     "output_type": "display_data"
    }
   ],
   "source": [
    "x = df.wd\n",
    "y = df['PM2.5']\n",
    "plt.scatter(x,y)\n",
    "plt.xlabel('Wind Direction')\n",
    "plt.ylabel('PM2.5')\n",
    "plt.title('PM2.5 and DIR')\n",
    "plt.xlim(0, 20)\n",
    "plt.show()"
   ]
  },
  {
   "cell_type": "code",
   "execution_count": 40,
   "metadata": {
    "slideshow": {
     "slide_type": "slide"
    }
   },
   "outputs": [
    {
     "name": "stderr",
     "output_type": "stream",
     "text": [
      "/Users/nicolasmakaroff/anaconda3/lib/python3.7/site-packages/numpy/lib/histograms.py:824: RuntimeWarning: invalid value encountered in greater_equal\n",
      "  keep = (tmp_a >= first_edge)\n",
      "/Users/nicolasmakaroff/anaconda3/lib/python3.7/site-packages/numpy/lib/histograms.py:825: RuntimeWarning: invalid value encountered in less_equal\n",
      "  keep &= (tmp_a <= last_edge)\n"
     ]
    },
    {
     "data": {
      "image/png": "[encoded data removed]",
      "text/plain": [
       "<Figure size 900x900 with 30 Axes>"
      ]
     },
     "metadata": {},
     "output_type": "display_data"
    }
   ],
   "source": [
    "import seaborn as sns\n",
    "g = sns.PairGrid(df, vars=[\"month\", \"hour\", \"PM2.5\", \"WSPM\", \"TEMP\"], dropna=True)\n",
    "g.map_diag(plt.hist)\n",
    "g.map_offdiag(plt.scatter);"
   ]
  },
  {
   "cell_type": "code",
   "execution_count": 41,
   "metadata": {
    "slideshow": {
     "slide_type": "slide"
    }
   },
   "outputs": [
    {
     "data": {
      "image/png": "[encoded data removed]",
      "text/plain": [
       "<Figure size 864x648 with 12 Axes>"
      ]
     },
     "metadata": {},
     "output_type": "display_data"
    }
   ],
   "source": [
    "g = sns.FacetGrid(df, col='month', col_wrap=4)\n",
    "g.map(sns.distplot, \"PM2.5\")\n",
    "plt.show()"
   ]
  },
  {
   "cell_type": "code",
   "execution_count": 42,
   "metadata": {
    "slideshow": {
     "slide_type": "slide"
    }
   },
   "outputs": [],
   "source": [
    "def change_wind_dir(df):    \n",
    "    df['WD_sin'] = np.sin(df.wd*(2.*np.pi/360))\n",
    "    df['WD_cos'] = np.cos(df.wd*(2.*np.pi/360))\n",
    "    df['WD_1_sin'] = np.sin(df.WD_1*(2.*np.pi/360))\n",
    "    df['WD_1_cos'] = np.cos(df.WD_1*(2.*np.pi/360))\n",
    "    df['WD_2_sin'] = np.sin(df.WD_2*(2.*np.pi/360))\n",
    "    df['WD_2_cos'] = np.cos(df.WD_2*(2.*np.pi/360))\n",
    "    df['WD_3_sin'] = np.sin(df.WD_3*(2.*np.pi/360))\n",
    "    df['WD_3_cos'] = np.cos(df.WD_3*(2.*np.pi/360))\n",
    "    df['WD_4_sin'] = np.sin(df.WD_4*(2.*np.pi/360))\n",
    "    df['WD_4_cos'] = np.cos(df.WD_4*(2.*np.pi/360))\n",
    "    df['WD_5_sin'] = np.sin(df.WD_5*(2.*np.pi/360))\n",
    "    df['WD_5_cos'] = np.cos(df.WD_5*(2.*np.pi/360))\n",
    "\n",
    "change_wind_dir(df)\n",
    "change_wind_dir(df1)\n",
    "change_wind_dir(df2)\n",
    "change_wind_dir(df3)\n",
    "change_wind_dir(df4)\n",
    "change_wind_dir(df5)\n",
    "change_wind_dir(df6)\n",
    "change_wind_dir(df7)\n",
    "change_wind_dir(df8)\n",
    "change_wind_dir(df9)\n",
    "change_wind_dir(df10)\n",
    "change_wind_dir(df11)"
   ]
  },
  {
   "cell_type": "code",
   "execution_count": 43,
   "metadata": {
    "slideshow": {
     "slide_type": "slide"
    }
   },
   "outputs": [
    {
     "data": {
      "image/png": "[encoded data removed]",
      "text/plain": [
       "<Figure size 1152x648 with 1 Axes>"
      ]
     },
     "metadata": {},
     "output_type": "display_data"
    }
   ],
   "source": [
    "df.plot.scatter('WD_sin','WD_cos').set_aspect('equal')\n",
    "plt.show()"
   ]
  },
  {
   "cell_type": "code",
   "execution_count": 44,
   "metadata": {
    "slideshow": {
     "slide_type": "slide"
    }
   },
   "outputs": [],
   "source": [
    "df = df.drop(['wd', 'WD_1','WD_2','WD_3','WD_4','WD_5'], axis=1)\n",
    "df1 = df1.drop(['wd', 'WD_1','WD_2','WD_3','WD_4','WD_5'], axis=1)\n",
    "df2 = df2.drop(['wd', 'WD_1','WD_2','WD_3','WD_4','WD_5'], axis=1)\n",
    "df3 = df3.drop(['wd', 'WD_1','WD_2','WD_3','WD_4','WD_5'], axis=1)\n",
    "df4 = df4.drop(['wd', 'WD_1','WD_2','WD_3','WD_4','WD_5'], axis=1)\n",
    "df5 = df5.drop(['wd', 'WD_1','WD_2','WD_3','WD_4','WD_5'], axis=1)\n",
    "df6 = df6.drop(['wd', 'WD_1','WD_2','WD_3','WD_4','WD_5'], axis=1)\n",
    "df7 = df7.drop(['wd', 'WD_1','WD_2','WD_3','WD_4','WD_5'], axis=1)\n",
    "df8 = df8.drop(['wd', 'WD_1','WD_2','WD_3','WD_4','WD_5'], axis=1)\n",
    "df9 = df9.drop(['wd', 'WD_1','WD_2','WD_3','WD_4','WD_5'], axis=1)\n",
    "df10 = df10.drop(['wd', 'WD_1','WD_2','WD_3','WD_4','WD_5'], axis=1)\n",
    "df11 = df11.drop(['wd', 'WD_1','WD_2','WD_3','WD_4','WD_5'], axis=1)"
   ]
  },
  {
   "cell_type": "code",
   "execution_count": 45,
   "metadata": {
    "slideshow": {
     "slide_type": "slide"
    }
   },
   "outputs": [],
   "source": [
    "def change_year_month(df):    \n",
    "    df['hr_sin'] = np.sin(df.hour*(2.*np.pi/24))\n",
    "    df['hr_cos'] = np.cos(df.hour*(2.*np.pi/24))\n",
    "    df['month_sin'] = np.sin((df.month-1)*(2.*np.pi/12))\n",
    "    df['month_cos'] = np.cos((df.month-1)*(2.*np.pi/12))\n",
    "    \n",
    "change_year_month(df)\n",
    "change_year_month(df1)\n",
    "change_year_month(df2)\n",
    "change_year_month(df3)\n",
    "change_year_month(df4)\n",
    "change_year_month(df5)\n",
    "change_year_month(df6)\n",
    "change_year_month(df7)\n",
    "change_year_month(df8)\n",
    "change_year_month(df9)\n",
    "change_year_month(df10)\n",
    "change_year_month(df11)"
   ]
  },
  {
   "cell_type": "code",
   "execution_count": 46,
   "metadata": {
    "slideshow": {
     "slide_type": "slide"
    }
   },
   "outputs": [
    {
     "data": {
      "image/png": "[encoded data removed]",
      "text/plain": [
       "<Figure size 1152x648 with 1 Axes>"
      ]
     },
     "metadata": {},
     "output_type": "display_data"
    },
    {
     "data": {
      "image/png": "[encoded data removed]",
      "text/plain": [
       "<Figure size 1152x648 with 1 Axes>"
      ]
     },
     "metadata": {},
     "output_type": "display_data"
    }
   ],
   "source": [
    "df.plot.scatter('hr_sin','hr_cos').set_aspect('equal')\n",
    "df.plot.scatter('month_sin','month_cos').set_aspect('equal')\n",
    "plt.show()"
   ]
  },
  {
   "cell_type": "code",
   "execution_count": 47,
   "metadata": {
    "slideshow": {
     "slide_type": "slide"
    }
   },
   "outputs": [],
   "source": [
    "df = df.drop(['month', 'hour'], axis=1)\n",
    "df1 = df1.drop(['month', 'hour'], axis=1)\n",
    "df2 = df2.drop(['month', 'hour'], axis=1)\n",
    "df3 = df3.drop(['month', 'hour'], axis=1)\n",
    "df4 = df4.drop(['month', 'hour'], axis=1)\n",
    "df5 = df5.drop(['month', 'hour'], axis=1)\n",
    "df6 = df6.drop(['month', 'hour'], axis=1)\n",
    "df7 = df7.drop(['month', 'hour'], axis=1)\n",
    "df8 = df8.drop(['month', 'hour'], axis=1)\n",
    "df9 = df9.drop(['month', 'hour'], axis=1)\n",
    "df10 = df10.drop(['month', 'hour'], axis=1)\n",
    "df11 = df11.drop(['month', 'hour'], axis=1)"
   ]
  },
  {
   "cell_type": "code",
   "execution_count": 48,
   "metadata": {
    "slideshow": {
     "slide_type": "slide"
    }
   },
   "outputs": [],
   "source": [
    "import math\n",
    "\n",
    "def create_humidity(df):\n",
    "    df['HUM'] = 100*(np.exp((17.625 * df['DEWP'])/(243.04 + df['DEWP']))/np.exp((17.625 * df['TEMP'])/(243.04 + df['TEMP'])))\n",
    "    df['HUM_1'] = 100*(np.exp((17.625 * df['DEWP_1'])/(243.04 + df['DEWP_1']))/np.exp((17.625 * df['TEMP_1'])/(243.04 + df['TEMP_1'])))\n",
    "    df['HUM_2'] = 100*(np.exp((17.625 * df['DEWP_2'])/(243.04 + df['DEWP_2']))/np.exp((17.625 * df['TEMP_2'])/(243.04 + df['TEMP_2'])))\n",
    "    df['HUM_3'] = 100*(np.exp((17.625 * df['DEWP_3'])/(243.04 + df['DEWP_3']))/np.exp((17.625 * df['TEMP_3'])/(243.04 + df['TEMP_3'])))\n",
    "    df['HUM_4'] = 100*(np.exp((17.625 * df['DEWP_4'])/(243.04 + df['DEWP_4']))/np.exp((17.625 * df['TEMP_4'])/(243.04 + df['TEMP_4'])))\n",
    "    df['HUM_5'] = 100*(np.exp((17.625 * df['DEWP_5'])/(243.04 + df['DEWP_5']))/np.exp((17.625 * df['TEMP_5'])/(243.04 + df['TEMP_5'])))"
   ]
  },
  {
   "cell_type": "code",
   "execution_count": 49,
   "metadata": {},
   "outputs": [],
   "source": [
    "create_humidity(df)\n",
    "create_humidity(df1)\n",
    "create_humidity(df2)\n",
    "create_humidity(df3)\n",
    "create_humidity(df4)\n",
    "create_humidity(df5)\n",
    "create_humidity(df6)\n",
    "create_humidity(df7)\n",
    "create_humidity(df8)\n",
    "create_humidity(df9)\n",
    "create_humidity(df10)\n",
    "create_humidity(df11)"
   ]
  },
  {
   "cell_type": "code",
   "execution_count": 50,
   "metadata": {
    "slideshow": {
     "slide_type": "slide"
    }
   },
   "outputs": [],
   "source": [
    "df = df.drop(['DEWP','DEWP_1', 'DEWP_2', 'DEWP_3', 'DEWP_4', 'DEWP_5'], axis=1)\n",
    "df1 = df1.drop(['DEWP','DEWP_1', 'DEWP_2', 'DEWP_3', 'DEWP_4', 'DEWP_5'], axis=1)\n",
    "df2 = df2.drop(['DEWP','DEWP_1', 'DEWP_2', 'DEWP_3', 'DEWP_4', 'DEWP_5'], axis=1)\n",
    "df3 = df3.drop(['DEWP','DEWP_1', 'DEWP_2', 'DEWP_3', 'DEWP_4', 'DEWP_5'], axis=1)\n",
    "df4 = df4.drop(['DEWP','DEWP_1', 'DEWP_2', 'DEWP_3', 'DEWP_4', 'DEWP_5'], axis=1)\n",
    "df5 = df5.drop(['DEWP','DEWP_1', 'DEWP_2', 'DEWP_3', 'DEWP_4', 'DEWP_5'], axis=1)\n",
    "df6 = df6.drop(['DEWP','DEWP_1', 'DEWP_2', 'DEWP_3', 'DEWP_4', 'DEWP_5'], axis=1)\n",
    "df7 = df7.drop(['DEWP','DEWP_1', 'DEWP_2', 'DEWP_3', 'DEWP_4', 'DEWP_5'], axis=1)\n",
    "df8 = df8.drop(['DEWP','DEWP_1', 'DEWP_2', 'DEWP_3', 'DEWP_4', 'DEWP_5'], axis=1)\n",
    "df9 = df9.drop(['DEWP','DEWP_1', 'DEWP_2', 'DEWP_3', 'DEWP_4', 'DEWP_5'], axis=1)\n",
    "df10 = df10.drop(['DEWP','DEWP_1', 'DEWP_2', 'DEWP_3', 'DEWP_4', 'DEWP_5'], axis=1)\n",
    "df11 = df11.drop(['DEWP','DEWP_1', 'DEWP_2', 'DEWP_3', 'DEWP_4', 'DEWP_5'], axis=1)"
   ]
  },
  {
   "cell_type": "code",
   "execution_count": 51,
   "metadata": {
    "slideshow": {
     "slide_type": "slide"
    }
   },
   "outputs": [],
   "source": [
    "import datetime as dt\n",
    "\n",
    "df['day_week'] = df['Date'].dt.weekday_name\n",
    "df['day_week_cat'] = df.day_week.astype(\"category\").cat.codes\n",
    "df1['day_week'] = df1['Date'].dt.weekday_name\n",
    "df1['day_week_cat'] = df1.day_week.astype(\"category\").cat.codes\n",
    "df2['day_week'] = df2['Date'].dt.weekday_name\n",
    "df2['day_week_cat'] = df2.day_week.astype(\"category\").cat.codes\n",
    "df3['day_week'] = df3['Date'].dt.weekday_name\n",
    "df3['day_week_cat'] = df3.day_week.astype(\"category\").cat.codes\n",
    "df4['day_week'] = df4['Date'].dt.weekday_name\n",
    "df4['day_week_cat'] = df4.day_week.astype(\"category\").cat.codes\n",
    "df5['day_week'] = df5['Date'].dt.weekday_name\n",
    "df5['day_week_cat'] = df5.day_week.astype(\"category\").cat.codes\n",
    "df6['day_week'] = df6['Date'].dt.weekday_name\n",
    "df6['day_week_cat'] = df6.day_week.astype(\"category\").cat.codes\n",
    "df7['day_week'] = df7['Date'].dt.weekday_name\n",
    "df7['day_week_cat'] = df7.day_week.astype(\"category\").cat.codes\n",
    "df8['day_week'] = df8['Date'].dt.weekday_name\n",
    "df8['day_week_cat'] = df8.day_week.astype(\"category\").cat.codes\n",
    "df9['day_week'] = df9['Date'].dt.weekday_name\n",
    "df9['day_week_cat'] = df9.day_week.astype(\"category\").cat.codes\n",
    "df10['day_week'] = df10['Date'].dt.weekday_name\n",
    "df10['day_week_cat'] = df10.day_week.astype(\"category\").cat.codes\n",
    "df11['day_week'] = df11['Date'].dt.weekday_name\n",
    "df11['day_week_cat'] = df11.day_week.astype(\"category\").cat.codes\n",
    "    "
   ]
  },
  {
   "cell_type": "code",
   "execution_count": null,
   "metadata": {
    "slideshow": {
     "slide_type": "slide"
    }
   },
   "outputs": [],
   "source": []
  },
  {
   "cell_type": "code",
   "execution_count": 52,
   "metadata": {
    "slideshow": {
     "slide_type": "slide"
    }
   },
   "outputs": [
    {
     "data": {
      "text/plain": [
       "Date            datetime64[ns]\n",
       "day                      int64\n",
       "PM2.5                  float64\n",
       "TEMP                   float64\n",
       "PRES                   float64\n",
       "WSPM                   float64\n",
       "PM2.5_1                float64\n",
       "TEMP_1                 float64\n",
       "SPD_1                  float64\n",
       "PM2.5_2                float64\n",
       "TEMP_2                 float64\n",
       "SPD_2                  float64\n",
       "PM2.5_3                float64\n",
       "TEMP_3                 float64\n",
       "SPD_3                  float64\n",
       "PM2.5_4                float64\n",
       "TEMP_4                 float64\n",
       "SPD_4                  float64\n",
       "PM2.5_5                float64\n",
       "TEMP_5                 float64\n",
       "SPD_5                  float64\n",
       "WD_sin                 float64\n",
       "WD_cos                 float64\n",
       "WD_1_sin               float64\n",
       "WD_1_cos               float64\n",
       "WD_2_sin               float64\n",
       "WD_2_cos               float64\n",
       "WD_3_sin               float64\n",
       "WD_3_cos               float64\n",
       "WD_4_sin               float64\n",
       "WD_4_cos               float64\n",
       "WD_5_sin               float64\n",
       "WD_5_cos               float64\n",
       "hr_sin                 float64\n",
       "hr_cos                 float64\n",
       "month_sin              float64\n",
       "month_cos              float64\n",
       "HUM                    float64\n",
       "HUM_1                  float64\n",
       "HUM_2                  float64\n",
       "HUM_3                  float64\n",
       "HUM_4                  float64\n",
       "HUM_5                  float64\n",
       "day_week                object\n",
       "day_week_cat              int8\n",
       "dtype: object"
      ]
     },
     "execution_count": 52,
     "metadata": {},
     "output_type": "execute_result"
    }
   ],
   "source": [
    "df5.dtypes"
   ]
  },
  {
   "cell_type": "code",
   "execution_count": 53,
   "metadata": {
    "slideshow": {
     "slide_type": "slide"
    }
   },
   "outputs": [
    {
     "data": {
      "text/plain": [
       "<matplotlib.axes._subplots.AxesSubplot at 0x1a1c964438>"
      ]
     },
     "execution_count": 53,
     "metadata": {},
     "output_type": "execute_result"
    },
    {
     "data": {
      "image/png": "[encoded data removed]",
      "text/plain": [
       "<Figure size 1152x648 with 1 Axes>"
      ]
     },
     "metadata": {},
     "output_type": "display_data"
    }
   ],
   "source": [
    "load = df[['PM2.5', 'day_week']].groupby(['day_week']).mean()\n",
    "load.plot(kind='bar')"
   ]
  },
  {
   "cell_type": "code",
   "execution_count": 54,
   "metadata": {
    "slideshow": {
     "slide_type": "slide"
    }
   },
   "outputs": [],
   "source": [
    "df = df.drop(labels='day_week', axis=1)\n",
    "df = df.drop(['Date'], axis=1)\n",
    "df1 = df1.drop(labels='day_week', axis=1)\n",
    "df1 = df1.drop(['Date'], axis=1)\n",
    "df2 = df2.drop(labels='day_week', axis=1)\n",
    "df2 = df2.drop(['Date'], axis=1)\n",
    "df3 = df3.drop(labels='day_week', axis=1)\n",
    "df3 = df3.drop(['Date'], axis=1)\n",
    "df4= df4.drop(labels='day_week', axis=1)\n",
    "df4 = df4.drop(['Date'], axis=1)\n",
    "df5 = df5.drop(labels='day_week', axis=1)\n",
    "df5 = df5.drop(['Date'], axis=1)\n",
    "df6 = df6.drop(labels='day_week', axis=1)\n",
    "df6 = df6.drop(['Date'], axis=1)\n",
    "df7 = df7.drop(labels='day_week', axis=1)\n",
    "df7 = df7.drop(['Date'], axis=1)\n",
    "df8 = df8.drop(labels='day_week', axis=1)\n",
    "df8 = df8.drop(['Date'], axis=1)\n",
    "df9 = df9.drop(labels='day_week', axis=1)\n",
    "df9 = df9.drop(['Date'], axis=1)\n",
    "df10 = df10.drop(labels='day_week', axis=1)\n",
    "df10 = df10.drop(['Date'], axis=1)\n",
    "df11 = df11.drop(labels='day_week', axis=1)\n",
    "df11 = df11.drop(['Date'], axis=1)"
   ]
  },
  {
   "cell_type": "code",
   "execution_count": 55,
   "metadata": {
    "slideshow": {
     "slide_type": "slide"
    }
   },
   "outputs": [
    {
     "data": {
      "text/plain": [
       "Index(['day', 'PM2.5', 'TEMP', 'PRES', 'WSPM', 'PM2.5_1', 'TEMP_1', 'SPD_1',\n",
       "       'PM2.5_2', 'TEMP_2', 'SPD_2', 'PM2.5_3', 'TEMP_3', 'SPD_3', 'PM2.5_4',\n",
       "       'TEMP_4', 'SPD_4', 'PM2.5_5', 'TEMP_5', 'SPD_5', 'WD_sin', 'WD_cos',\n",
       "       'WD_1_sin', 'WD_1_cos', 'WD_2_sin', 'WD_2_cos', 'WD_3_sin', 'WD_3_cos',\n",
       "       'WD_4_sin', 'WD_4_cos', 'WD_5_sin', 'WD_5_cos', 'hr_sin', 'hr_cos',\n",
       "       'month_sin', 'month_cos', 'HUM', 'HUM_1', 'HUM_2', 'HUM_3', 'HUM_4',\n",
       "       'HUM_5', 'day_week_cat'],\n",
       "      dtype='object')"
      ]
     },
     "execution_count": 55,
     "metadata": {},
     "output_type": "execute_result"
    }
   ],
   "source": [
    "df.columns"
   ]
  },
  {
   "cell_type": "code",
   "execution_count": 56,
   "metadata": {
    "slideshow": {
     "slide_type": "slide"
    }
   },
   "outputs": [],
   "source": [
    "cols = df.columns.tolist()\n",
    "cols1 = df1.columns.tolist()\n",
    "cols2 = df2.columns.tolist()\n",
    "cols3 = df3.columns.tolist()\n",
    "cols4 = df4.columns.tolist()\n",
    "cols5 = df5.columns.tolist()\n",
    "cols6 = df6.columns.tolist()\n",
    "cols7 = df7.columns.tolist()\n",
    "cols8 = df8.columns.tolist()\n",
    "cols9 = df9.columns.tolist()\n",
    "cols10 = df10.columns.tolist()\n",
    "cols11 = df11.columns.tolist()"
   ]
  },
  {
   "cell_type": "code",
   "execution_count": 57,
   "metadata": {},
   "outputs": [],
   "source": [
    "df.to_csv('aotizhonzing-cleaned.csv')\n",
    "df1.to_csv('changping-cleaned.csv')\n",
    "df2.to_csv('dingling-cleaned.csv')\n",
    "df3.to_csv('dongsi-cleaned.csv')\n",
    "df4.to_csv('guanyuan-cleaned.csv')\n",
    "df5.to_csv('gucheng-cleaned.csv')\n",
    "df6.to_csv('huairou-cleaned.csv')\n",
    "df7.to_csv('nongzhanguan-cleaned.csv')\n",
    "df8.to_csv('shunyi-cleaned.csv')\n",
    "df9.to_csv('tiantan-cleaned.csv')\n",
    "df10.to_csv('wanliu-cleaned.csv')\n",
    "df11.to_csv('wanshouxigong-cleaned.csv')"
   ]
  },
  {
   "cell_type": "code",
   "execution_count": 58,
   "metadata": {},
   "outputs": [],
   "source": [
    "central = {'aotizhonxin', 'changping', 'guanyuan', 'gucheng', 'wanliu', \n",
    "           'dongsi', 'nongzhanguan', 'shunyi', 'wanshouxigong', 'tiantan'}\n",
    "north = {'dingling', 'huairou'}"
   ]
  },
  {
   "cell_type": "code",
   "execution_count": 59,
   "metadata": {},
   "outputs": [
    {
     "data": {
      "text/plain": [
       "(35064, 43)"
      ]
     },
     "execution_count": 59,
     "metadata": {},
     "output_type": "execute_result"
    }
   ],
   "source": [
    "center = pd.DataFrame()\n",
    "\n",
    "\n",
    "name = ['day', 'PM2.5', 'TEMP', 'PRES', 'WSPM', 'PM2.5_1', 'TEMP_1', 'SPD_1',\n",
    "       'PM2.5_2', 'TEMP_2', 'SPD_2', 'PM2.5_3', 'TEMP_3', 'SPD_3', 'PM2.5_4',\n",
    "       'TEMP_4', 'SPD_4', 'PM2.5_5', 'TEMP_5', 'SPD_5', 'WD_sin', 'WD_cos',\n",
    "       'WD_1_sin', 'WD_1_cos', 'WD_2_sin', 'WD_2_cos', 'WD_3_sin', 'WD_3_cos',\n",
    "       'WD_4_sin', 'WD_4_cos', 'WD_5_sin', 'WD_5_cos', 'hr_sin', 'hr_cos',\n",
    "       'month_sin', 'month_cos', 'HUM', 'HUM_1', 'HUM_2', 'HUM_3', 'HUM_4',\n",
    "       'HUM_5', 'day_week_cat']\n",
    "for i in range(0,43):\n",
    "    center.insert(0, name[i],(df[name[i]] + df1[name[i]] + df3[name[i]]+ df4[name[i]]+ df5[name[i]]+ df7[name[i]]+ df8[name[i]]+ df9[name[i]] + df10[name[i]] + df11[name[i]])/10)\n",
    "center.shape"
   ]
  },
  {
   "cell_type": "code",
   "execution_count": 60,
   "metadata": {},
   "outputs": [
    {
     "data": {
      "text/plain": [
       "(35064, 43)"
      ]
     },
     "execution_count": 60,
     "metadata": {},
     "output_type": "execute_result"
    }
   ],
   "source": [
    "north = pd.DataFrame()\n",
    "name= ['day', 'PM2.5', 'TEMP', 'PRES', 'WSPM', 'PM2.5_1', 'TEMP_1', 'SPD_1',\n",
    "       'PM2.5_2', 'TEMP_2', 'SPD_2', 'PM2.5_3', 'TEMP_3', 'SPD_3', 'PM2.5_4',\n",
    "       'TEMP_4', 'SPD_4', 'PM2.5_5', 'TEMP_5', 'SPD_5', 'WD_sin', 'WD_cos',\n",
    "       'WD_1_sin', 'WD_1_cos', 'WD_2_sin', 'WD_2_cos', 'WD_3_sin', 'WD_3_cos',\n",
    "       'WD_4_sin', 'WD_4_cos', 'WD_5_sin', 'WD_5_cos', 'hr_sin', 'hr_cos',\n",
    "       'month_sin', 'month_cos', 'HUM', 'HUM_1', 'HUM_2', 'HUM_3', 'HUM_4',\n",
    "       'HUM_5', 'day_week_cat']\n",
    "\n",
    "for i in range(0,43):\n",
    "    north.insert(0, name[i],(df2[name[i]] + df6[name[i]])/2)\n",
    "north.shape"
   ]
  },
  {
   "cell_type": "code",
   "execution_count": 61,
   "metadata": {},
   "outputs": [],
   "source": [
    "beijing = pd.DataFrame()\n",
    "\n",
    "for i in range(0,43):\n",
    "    beijing.insert(0,name[i],(center[name[i]] + north[name[i]]))"
   ]
  },
  {
   "cell_type": "code",
   "execution_count": 62,
   "metadata": {},
   "outputs": [
    {
     "data": {
      "text/html": [
       "<div>\n",
       "<style scoped>\n",
       "    .dataframe tbody tr th:only-of-type {\n",
       "        vertical-align: middle;\n",
       "    }\n",
       "\n",
       "    .dataframe tbody tr th {\n",
       "        vertical-align: top;\n",
       "    }\n",
       "\n",
       "    .dataframe thead th {\n",
       "        text-align: right;\n",
       "    }\n",
       "</style>\n",
       "<table border=\"1\" class=\"dataframe\">\n",
       "  <thead>\n",
       "    <tr style=\"text-align: right;\">\n",
       "      <th></th>\n",
       "      <th>day_week_cat</th>\n",
       "      <th>HUM_5</th>\n",
       "      <th>HUM_4</th>\n",
       "      <th>HUM_3</th>\n",
       "      <th>HUM_2</th>\n",
       "      <th>HUM_1</th>\n",
       "      <th>HUM</th>\n",
       "      <th>month_cos</th>\n",
       "      <th>month_sin</th>\n",
       "      <th>hr_cos</th>\n",
       "      <th>...</th>\n",
       "      <th>TEMP_2</th>\n",
       "      <th>PM2.5_2</th>\n",
       "      <th>SPD_1</th>\n",
       "      <th>TEMP_1</th>\n",
       "      <th>PM2.5_1</th>\n",
       "      <th>WSPM</th>\n",
       "      <th>PRES</th>\n",
       "      <th>TEMP</th>\n",
       "      <th>PM2.5</th>\n",
       "      <th>day</th>\n",
       "    </tr>\n",
       "  </thead>\n",
       "  <tbody>\n",
       "    <tr>\n",
       "      <th>0</th>\n",
       "      <td>0.0</td>\n",
       "      <td>NaN</td>\n",
       "      <td>NaN</td>\n",
       "      <td>NaN</td>\n",
       "      <td>NaN</td>\n",
       "      <td>NaN</td>\n",
       "      <td>21.980602</td>\n",
       "      <td>0.5</td>\n",
       "      <td>0.866025</td>\n",
       "      <td>1.000000</td>\n",
       "      <td>...</td>\n",
       "      <td>NaN</td>\n",
       "      <td>NaN</td>\n",
       "      <td>NaN</td>\n",
       "      <td>NaN</td>\n",
       "      <td>NaN</td>\n",
       "      <td>4.65</td>\n",
       "      <td>1023.21</td>\n",
       "      <td>-0.64</td>\n",
       "      <td>5.7</td>\n",
       "      <td>1.0</td>\n",
       "    </tr>\n",
       "    <tr>\n",
       "      <th>1</th>\n",
       "      <td>0.0</td>\n",
       "      <td>NaN</td>\n",
       "      <td>NaN</td>\n",
       "      <td>NaN</td>\n",
       "      <td>NaN</td>\n",
       "      <td>21.980602</td>\n",
       "      <td>22.400847</td>\n",
       "      <td>0.5</td>\n",
       "      <td>0.866025</td>\n",
       "      <td>0.965926</td>\n",
       "      <td>...</td>\n",
       "      <td>NaN</td>\n",
       "      <td>NaN</td>\n",
       "      <td>4.65</td>\n",
       "      <td>-0.64</td>\n",
       "      <td>5.7</td>\n",
       "      <td>4.43</td>\n",
       "      <td>1023.62</td>\n",
       "      <td>-0.94</td>\n",
       "      <td>7.1</td>\n",
       "      <td>1.0</td>\n",
       "    </tr>\n",
       "    <tr>\n",
       "      <th>2</th>\n",
       "      <td>0.0</td>\n",
       "      <td>NaN</td>\n",
       "      <td>NaN</td>\n",
       "      <td>NaN</td>\n",
       "      <td>21.980602</td>\n",
       "      <td>22.400847</td>\n",
       "      <td>21.096013</td>\n",
       "      <td>0.5</td>\n",
       "      <td>0.866025</td>\n",
       "      <td>0.866025</td>\n",
       "      <td>...</td>\n",
       "      <td>-0.64</td>\n",
       "      <td>5.7</td>\n",
       "      <td>4.43</td>\n",
       "      <td>-0.94</td>\n",
       "      <td>7.1</td>\n",
       "      <td>5.08</td>\n",
       "      <td>1023.80</td>\n",
       "      <td>-1.29</td>\n",
       "      <td>5.9</td>\n",
       "      <td>1.0</td>\n",
       "    </tr>\n",
       "    <tr>\n",
       "      <th>3</th>\n",
       "      <td>0.0</td>\n",
       "      <td>NaN</td>\n",
       "      <td>NaN</td>\n",
       "      <td>21.980602</td>\n",
       "      <td>22.400847</td>\n",
       "      <td>21.096013</td>\n",
       "      <td>20.109880</td>\n",
       "      <td>0.5</td>\n",
       "      <td>0.866025</td>\n",
       "      <td>0.707107</td>\n",
       "      <td>...</td>\n",
       "      <td>-0.94</td>\n",
       "      <td>7.1</td>\n",
       "      <td>5.08</td>\n",
       "      <td>-1.29</td>\n",
       "      <td>5.9</td>\n",
       "      <td>3.70</td>\n",
       "      <td>1024.74</td>\n",
       "      <td>-1.58</td>\n",
       "      <td>6.3</td>\n",
       "      <td>1.0</td>\n",
       "    </tr>\n",
       "    <tr>\n",
       "      <th>4</th>\n",
       "      <td>0.0</td>\n",
       "      <td>NaN</td>\n",
       "      <td>21.980602</td>\n",
       "      <td>22.400847</td>\n",
       "      <td>21.096013</td>\n",
       "      <td>20.109880</td>\n",
       "      <td>20.853767</td>\n",
       "      <td>0.5</td>\n",
       "      <td>0.866025</td>\n",
       "      <td>0.500000</td>\n",
       "      <td>...</td>\n",
       "      <td>-1.29</td>\n",
       "      <td>5.9</td>\n",
       "      <td>3.70</td>\n",
       "      <td>-1.58</td>\n",
       "      <td>6.3</td>\n",
       "      <td>2.83</td>\n",
       "      <td>1025.40</td>\n",
       "      <td>-1.98</td>\n",
       "      <td>5.0</td>\n",
       "      <td>1.0</td>\n",
       "    </tr>\n",
       "  </tbody>\n",
       "</table>\n",
       "<p>5 rows × 43 columns</p>\n",
       "</div>"
      ],
      "text/plain": [
       "   day_week_cat  HUM_5      HUM_4      HUM_3      HUM_2      HUM_1        HUM  \\\n",
       "0           0.0    NaN        NaN        NaN        NaN        NaN  21.980602   \n",
       "1           0.0    NaN        NaN        NaN        NaN  21.980602  22.400847   \n",
       "2           0.0    NaN        NaN        NaN  21.980602  22.400847  21.096013   \n",
       "3           0.0    NaN        NaN  21.980602  22.400847  21.096013  20.109880   \n",
       "4           0.0    NaN  21.980602  22.400847  21.096013  20.109880  20.853767   \n",
       "\n",
       "   month_cos  month_sin    hr_cos  ...  TEMP_2  PM2.5_2  SPD_1  TEMP_1  \\\n",
       "0        0.5   0.866025  1.000000  ...     NaN      NaN    NaN     NaN   \n",
       "1        0.5   0.866025  0.965926  ...     NaN      NaN   4.65   -0.64   \n",
       "2        0.5   0.866025  0.866025  ...   -0.64      5.7   4.43   -0.94   \n",
       "3        0.5   0.866025  0.707107  ...   -0.94      7.1   5.08   -1.29   \n",
       "4        0.5   0.866025  0.500000  ...   -1.29      5.9   3.70   -1.58   \n",
       "\n",
       "   PM2.5_1  WSPM     PRES  TEMP  PM2.5  day  \n",
       "0      NaN  4.65  1023.21 -0.64    5.7  1.0  \n",
       "1      5.7  4.43  1023.62 -0.94    7.1  1.0  \n",
       "2      7.1  5.08  1023.80 -1.29    5.9  1.0  \n",
       "3      5.9  3.70  1024.74 -1.58    6.3  1.0  \n",
       "4      6.3  2.83  1025.40 -1.98    5.0  1.0  \n",
       "\n",
       "[5 rows x 43 columns]"
      ]
     },
     "execution_count": 62,
     "metadata": {},
     "output_type": "execute_result"
    }
   ],
   "source": [
    "center.head()"
   ]
  },
  {
   "cell_type": "code",
   "execution_count": 63,
   "metadata": {},
   "outputs": [
    {
     "data": {
      "text/html": [
       "<div>\n",
       "<style scoped>\n",
       "    .dataframe tbody tr th:only-of-type {\n",
       "        vertical-align: middle;\n",
       "    }\n",
       "\n",
       "    .dataframe tbody tr th {\n",
       "        vertical-align: top;\n",
       "    }\n",
       "\n",
       "    .dataframe thead th {\n",
       "        text-align: right;\n",
       "    }\n",
       "</style>\n",
       "<table border=\"1\" class=\"dataframe\">\n",
       "  <thead>\n",
       "    <tr style=\"text-align: right;\">\n",
       "      <th></th>\n",
       "      <th>day</th>\n",
       "      <th>PM2.5</th>\n",
       "      <th>TEMP</th>\n",
       "      <th>PRES</th>\n",
       "      <th>WSPM</th>\n",
       "      <th>PM2.5_1</th>\n",
       "      <th>TEMP_1</th>\n",
       "      <th>SPD_1</th>\n",
       "      <th>PM2.5_2</th>\n",
       "      <th>TEMP_2</th>\n",
       "      <th>...</th>\n",
       "      <th>hr_cos</th>\n",
       "      <th>month_sin</th>\n",
       "      <th>month_cos</th>\n",
       "      <th>HUM</th>\n",
       "      <th>HUM_1</th>\n",
       "      <th>HUM_2</th>\n",
       "      <th>HUM_3</th>\n",
       "      <th>HUM_4</th>\n",
       "      <th>HUM_5</th>\n",
       "      <th>day_week_cat</th>\n",
       "    </tr>\n",
       "  </thead>\n",
       "  <tbody>\n",
       "    <tr>\n",
       "      <th>0</th>\n",
       "      <td>1</td>\n",
       "      <td>4.0</td>\n",
       "      <td>-0.7</td>\n",
       "      <td>1023.0</td>\n",
       "      <td>4.4</td>\n",
       "      <td>NaN</td>\n",
       "      <td>NaN</td>\n",
       "      <td>NaN</td>\n",
       "      <td>NaN</td>\n",
       "      <td>NaN</td>\n",
       "      <td>...</td>\n",
       "      <td>1.000000</td>\n",
       "      <td>0.866025</td>\n",
       "      <td>0.5</td>\n",
       "      <td>24.008842</td>\n",
       "      <td>NaN</td>\n",
       "      <td>NaN</td>\n",
       "      <td>NaN</td>\n",
       "      <td>NaN</td>\n",
       "      <td>NaN</td>\n",
       "      <td>0</td>\n",
       "    </tr>\n",
       "    <tr>\n",
       "      <th>1</th>\n",
       "      <td>1</td>\n",
       "      <td>8.0</td>\n",
       "      <td>-1.1</td>\n",
       "      <td>1023.2</td>\n",
       "      <td>4.7</td>\n",
       "      <td>4.0</td>\n",
       "      <td>-0.7</td>\n",
       "      <td>4.4</td>\n",
       "      <td>NaN</td>\n",
       "      <td>NaN</td>\n",
       "      <td>...</td>\n",
       "      <td>0.965926</td>\n",
       "      <td>0.866025</td>\n",
       "      <td>0.5</td>\n",
       "      <td>26.013678</td>\n",
       "      <td>24.008842</td>\n",
       "      <td>NaN</td>\n",
       "      <td>NaN</td>\n",
       "      <td>NaN</td>\n",
       "      <td>NaN</td>\n",
       "      <td>0</td>\n",
       "    </tr>\n",
       "    <tr>\n",
       "      <th>2</th>\n",
       "      <td>1</td>\n",
       "      <td>7.0</td>\n",
       "      <td>-1.1</td>\n",
       "      <td>1023.5</td>\n",
       "      <td>5.6</td>\n",
       "      <td>8.0</td>\n",
       "      <td>-1.1</td>\n",
       "      <td>4.7</td>\n",
       "      <td>4.0</td>\n",
       "      <td>-0.7</td>\n",
       "      <td>...</td>\n",
       "      <td>0.866025</td>\n",
       "      <td>0.866025</td>\n",
       "      <td>0.5</td>\n",
       "      <td>26.013678</td>\n",
       "      <td>26.013678</td>\n",
       "      <td>24.008842</td>\n",
       "      <td>NaN</td>\n",
       "      <td>NaN</td>\n",
       "      <td>NaN</td>\n",
       "      <td>0</td>\n",
       "    </tr>\n",
       "    <tr>\n",
       "      <th>3</th>\n",
       "      <td>1</td>\n",
       "      <td>6.0</td>\n",
       "      <td>-1.4</td>\n",
       "      <td>1024.5</td>\n",
       "      <td>3.1</td>\n",
       "      <td>7.0</td>\n",
       "      <td>-1.1</td>\n",
       "      <td>5.6</td>\n",
       "      <td>8.0</td>\n",
       "      <td>-1.1</td>\n",
       "      <td>...</td>\n",
       "      <td>0.707107</td>\n",
       "      <td>0.866025</td>\n",
       "      <td>0.5</td>\n",
       "      <td>24.007753</td>\n",
       "      <td>26.013678</td>\n",
       "      <td>26.013678</td>\n",
       "      <td>24.008842</td>\n",
       "      <td>NaN</td>\n",
       "      <td>NaN</td>\n",
       "      <td>0</td>\n",
       "    </tr>\n",
       "    <tr>\n",
       "      <th>4</th>\n",
       "      <td>1</td>\n",
       "      <td>3.0</td>\n",
       "      <td>-2.0</td>\n",
       "      <td>1025.2</td>\n",
       "      <td>2.0</td>\n",
       "      <td>6.0</td>\n",
       "      <td>-1.4</td>\n",
       "      <td>3.1</td>\n",
       "      <td>7.0</td>\n",
       "      <td>-1.1</td>\n",
       "      <td>...</td>\n",
       "      <td>0.500000</td>\n",
       "      <td>0.866025</td>\n",
       "      <td>0.5</td>\n",
       "      <td>24.876783</td>\n",
       "      <td>24.007753</td>\n",
       "      <td>26.013678</td>\n",
       "      <td>26.013678</td>\n",
       "      <td>24.008842</td>\n",
       "      <td>NaN</td>\n",
       "      <td>0</td>\n",
       "    </tr>\n",
       "  </tbody>\n",
       "</table>\n",
       "<p>5 rows × 43 columns</p>\n",
       "</div>"
      ],
      "text/plain": [
       "   day  PM2.5  TEMP    PRES  WSPM  PM2.5_1  TEMP_1  SPD_1  PM2.5_2  TEMP_2  \\\n",
       "0    1    4.0  -0.7  1023.0   4.4      NaN     NaN    NaN      NaN     NaN   \n",
       "1    1    8.0  -1.1  1023.2   4.7      4.0    -0.7    4.4      NaN     NaN   \n",
       "2    1    7.0  -1.1  1023.5   5.6      8.0    -1.1    4.7      4.0    -0.7   \n",
       "3    1    6.0  -1.4  1024.5   3.1      7.0    -1.1    5.6      8.0    -1.1   \n",
       "4    1    3.0  -2.0  1025.2   2.0      6.0    -1.4    3.1      7.0    -1.1   \n",
       "\n",
       "   ...    hr_cos  month_sin  month_cos        HUM      HUM_1      HUM_2  \\\n",
       "0  ...  1.000000   0.866025        0.5  24.008842        NaN        NaN   \n",
       "1  ...  0.965926   0.866025        0.5  26.013678  24.008842        NaN   \n",
       "2  ...  0.866025   0.866025        0.5  26.013678  26.013678  24.008842   \n",
       "3  ...  0.707107   0.866025        0.5  24.007753  26.013678  26.013678   \n",
       "4  ...  0.500000   0.866025        0.5  24.876783  24.007753  26.013678   \n",
       "\n",
       "       HUM_3      HUM_4  HUM_5  day_week_cat  \n",
       "0        NaN        NaN    NaN             0  \n",
       "1        NaN        NaN    NaN             0  \n",
       "2        NaN        NaN    NaN             0  \n",
       "3  24.008842        NaN    NaN             0  \n",
       "4  26.013678  24.008842    NaN             0  \n",
       "\n",
       "[5 rows x 43 columns]"
      ]
     },
     "execution_count": 63,
     "metadata": {},
     "output_type": "execute_result"
    }
   ],
   "source": [
    "df.head()"
   ]
  },
  {
   "cell_type": "code",
   "execution_count": 64,
   "metadata": {},
   "outputs": [],
   "source": [
    "center = center.dropna(axis=0)\n",
    "beijing = beijing.dropna(axis=0)\n",
    "north = north.dropna(axis=0)"
   ]
  },
  {
   "cell_type": "code",
   "execution_count": 65,
   "metadata": {},
   "outputs": [],
   "source": [
    "y = center['PM2.5']"
   ]
  },
  {
   "cell_type": "code",
   "execution_count": 66,
   "metadata": {},
   "outputs": [],
   "source": [
    "X = center.drop(['PM2.5'], axis=1)\n",
    "\n"
   ]
  },
  {
   "cell_type": "code",
   "execution_count": 67,
   "metadata": {},
   "outputs": [],
   "source": [
    "def norm(x):\n",
    "        \"\"\" Standardization of a dataset \n",
    "                Arguments :\n",
    "                        x : pandas Dataframe contening the data to standardize\n",
    "                Output :\n",
    "                        a pandas DataFrame with standardize values\n",
    "        \"\"\"\n",
    "        x_stats = x.describe().transpose()\n",
    "        return((x - x_stats['mean'])/x_stats['std'])"
   ]
  },
  {
   "cell_type": "code",
   "execution_count": 68,
   "metadata": {},
   "outputs": [],
   "source": [
    "X = norm(X)"
   ]
  },
  {
   "cell_type": "code",
   "execution_count": 69,
   "metadata": {},
   "outputs": [],
   "source": [
    "from sklearn.decomposition import PCA, KernelPCA\n",
    "\n"
   ]
  },
  {
   "cell_type": "code",
   "execution_count": 70,
   "metadata": {},
   "outputs": [],
   "source": [
    "from scipy.signal import savgol_filter\n",
    "from sklearn.decomposition import PCA, KernelPCA\n",
    "from sklearn.preprocessing import StandardScaler\n",
    "from sklearn import linear_model\n",
    "from sklearn.model_selection import cross_val_predict\n",
    "from sklearn.metrics import mean_squared_error, r2_score\n",
    "\n",
    "def pcr(X,y,pc):\n",
    "    ''' Principal Component Regression in Python'''\n",
    "    ''' Step 1: PCA on input data'''\n",
    "    # Define the PCA object\n",
    "    #pca = kernelPCA(n_components= pc,kernel='rbf')\n",
    "    \n",
    "    pca = KernelPCA(n_components=4, kernel='rbf')\n",
    "    # Run PCA producing the reduced variable Xred and select the first pc components\n",
    "    Xreg = pca.fit_transform(X)[:,:pc]\n",
    "    ''' Step 2: regression on selected principal components'''\n",
    "    # Create linear regression object\n",
    "    regr = linear_model.LinearRegression()\n",
    "    # Fit\n",
    "    regr.fit(Xreg, y)\n",
    "    # Calibration\n",
    "    y_c = regr.predict(Xreg)\n",
    "    # Cross-validation\n",
    "    y_cv = cross_val_predict(regr, Xreg, y, cv=10)\n",
    "    # Calculate scores for calibration and cross-validation\n",
    "    score_c = r2_score(y, y_c)\n",
    "    score_cv = r2_score(y, y_cv)\n",
    "    # Calculate mean square error for calibration and cross validation\n",
    "    mse_c = mean_squared_error(y, y_c)\n",
    "    mse_cv = mean_squared_error(y, y_cv)\n",
    "    print(\"R2: %0.2f \" % score_c)\n",
    "    print(\"R2_cv: %0.2f \" % score_cv)\n",
    "    print(\"RMSE: %0.2f \" % np.sqrt(mse_c))\n",
    "    print(\"RMSE_cv: %0.2f \" % np.sqrt(mse_cv))"
   ]
  },
  {
   "cell_type": "code",
   "execution_count": null,
   "metadata": {},
   "outputs": [],
   "source": []
  },
  {
   "cell_type": "code",
   "execution_count": null,
   "metadata": {},
   "outputs": [],
   "source": []
  },
  {
   "cell_type": "code",
   "execution_count": null,
   "metadata": {},
   "outputs": [],
   "source": []
  },
  {
   "cell_type": "code",
   "execution_count": null,
   "metadata": {},
   "outputs": [],
   "source": []
  },
  {
   "cell_type": "code",
   "execution_count": null,
   "metadata": {},
   "outputs": [],
   "source": []
  },
  {
   "cell_type": "code",
   "execution_count": null,
   "metadata": {},
   "outputs": [],
   "source": []
  },
  {
   "cell_type": "code",
   "execution_count": 71,
   "metadata": {},
   "outputs": [],
   "source": [
    "from sklearn.model_selection import train_test_split\n",
    "\n",
    "X_train, X_test, y_train, y_test = train_test_split(X, y, test_size=.3, random_state=1234)"
   ]
  },
  {
   "cell_type": "code",
   "execution_count": 72,
   "metadata": {},
   "outputs": [
    {
     "data": {
      "text/plain": [
       "((15632, 42), (15632,))"
      ]
     },
     "execution_count": 72,
     "metadata": {},
     "output_type": "execute_result"
    }
   ],
   "source": [
    "X_train.shape, y_train.shape"
   ]
  },
  {
   "cell_type": "code",
   "execution_count": 73,
   "metadata": {},
   "outputs": [
    {
     "data": {
      "text/plain": [
       "((6700, 42), (6700,))"
      ]
     },
     "execution_count": 73,
     "metadata": {},
     "output_type": "execute_result"
    }
   ],
   "source": [
    "X_test.shape, y_test.shape"
   ]
  },
  {
   "cell_type": "code",
   "execution_count": 74,
   "metadata": {},
   "outputs": [
    {
     "name": "stdout",
     "output_type": "stream",
     "text": [
      "167050.8773576569\n"
     ]
    },
    {
     "name": "stderr",
     "output_type": "stream",
     "text": [
      "/Users/nicolasmakaroff/anaconda3/lib/python3.7/site-packages/numpy/core/fromnumeric.py:2389: FutureWarning: Method .ptp is deprecated and will be removed in a future version. Use numpy.ptp instead.\n",
      "  return ptp(axis=axis, out=out, **kwargs)\n"
     ]
    }
   ],
   "source": [
    "from statsmodels.regression.linear_model import OLS\n",
    "from statsmodels.tools import add_constant\n",
    "\n",
    "regr = OLS(y, add_constant(X)).fit()\n",
    "print(regr.aic)"
   ]
  },
  {
   "cell_type": "code",
   "execution_count": 75,
   "metadata": {},
   "outputs": [
    {
     "name": "stderr",
     "output_type": "stream",
     "text": [
      "/Users/nicolasmakaroff/anaconda3/lib/python3.7/site-packages/numpy/core/fromnumeric.py:2389: FutureWarning: Method .ptp is deprecated and will be removed in a future version. Use numpy.ptp instead.\n",
      "  return ptp(axis=axis, out=out, **kwargs)\n",
      "/Users/nicolasmakaroff/anaconda3/lib/python3.7/site-packages/ipykernel_launcher.py:31: FutureWarning: \n",
      "The current behaviour of 'Series.argmin' is deprecated, use 'idxmin'\n",
      "instead.\n",
      "The behavior of 'argmin' will be corrected to return the positional\n",
      "minimum in the future. For now, use 'series.values.argmin' or\n",
      "'np.argmin(np.array(values))' to get the position of the minimum\n",
      "row.\n"
     ]
    },
    {
     "name": "stdout",
     "output_type": "stream",
     "text": [
      "Add  HUM_3                          with p-value 0.0\n",
      "Add  month_cos                      with p-value 0.0\n",
      "Add  WD_1_sin                       with p-value 0.0\n",
      "Add  PRES                           with p-value 0.0\n",
      "Add  PM2.5_3                        with p-value 0.0\n",
      "Add  PM2.5_2                        with p-value 0.0\n",
      "Add  PM2.5_1                        with p-value 0.0\n",
      "Add  HUM                            with p-value 1.25091e-117\n",
      "Add  hr_cos                         with p-value 3.76325e-82\n",
      "Add  WSPM                           with p-value 8.91588e-59\n",
      "Add  WD_sin                         with p-value 9.74658e-09\n",
      "Drop WD_1_sin                       with p-value 0.941707\n"
     ]
    },
    {
     "name": "stderr",
     "output_type": "stream",
     "text": [
      "/Users/nicolasmakaroff/anaconda3/lib/python3.7/site-packages/ipykernel_launcher.py:44: FutureWarning: \n",
      "The current behaviour of 'Series.argmax' is deprecated, use 'idxmax'\n",
      "instead.\n",
      "The behavior of 'argmax' will be corrected to return the positional\n",
      "maximum in the future. For now, use 'series.values.argmax' or\n",
      "'np.argmax(np.array(values))' to get the position of the maximum\n",
      "row.\n"
     ]
    },
    {
     "name": "stdout",
     "output_type": "stream",
     "text": [
      "Add  month_sin                      with p-value 2.44393e-06\n",
      "Add  hr_sin                         with p-value 2.45672e-09\n",
      "Drop PRES                           with p-value 0.0652554\n",
      "Add  SPD_1                          with p-value 1.33615e-07\n",
      "Add  WD_cos                         with p-value 3.70972e-05\n",
      "Add  WD_4_cos                       with p-value 0.000115858\n",
      "Add  SPD_4                          with p-value 0.00213793\n",
      "Add  TEMP                           with p-value 0.00143767\n",
      "Add  TEMP_3                         with p-value 3.23579e-66\n",
      "Add  TEMP_4                         with p-value 7.75157e-16\n",
      "Add  HUM_4                          with p-value 8.53989e-37\n",
      "Add  HUM_2                          with p-value 1.01265e-07\n",
      "Add  HUM_1                          with p-value 0.00229078\n",
      "Add  TEMP_1                         with p-value 0.00111822\n",
      "Add  TEMP_2                         with p-value 0.000430324\n",
      "resulting features:\n",
      "['HUM_3', 'month_cos', 'PM2.5_3', 'PM2.5_2', 'PM2.5_1', 'HUM', 'hr_cos', 'WSPM', 'WD_sin', 'month_sin', 'hr_sin', 'SPD_1', 'WD_cos', 'WD_4_cos', 'SPD_4', 'TEMP', 'TEMP_3', 'TEMP_4', 'HUM_4', 'HUM_2', 'HUM_1', 'TEMP_1', 'TEMP_2']\n"
     ]
    }
   ],
   "source": [
    "import statsmodels.api as sm\n",
    "\n",
    "def stepwise_selection(X, y, \n",
    "                       initial_list=[], \n",
    "                       threshold_in=0.01, \n",
    "                       threshold_out = 0.05, \n",
    "                       verbose=True):\n",
    "    \"\"\" Perform a forward-backward feature selection \n",
    "    based on p-value from statsmodels.api.OLS\n",
    "    Arguments:\n",
    "        X - pandas.DataFrame with candidate features\n",
    "        y - list-like with the target\n",
    "        initial_list - list of features to start with (column names of X)\n",
    "        threshold_in - include a feature if its p-value < threshold_in\n",
    "        threshold_out - exclude a feature if its p-value > threshold_out\n",
    "        verbose - whether to print the sequence of inclusions and exclusions\n",
    "    Returns: list of selected features \n",
    "    Always set threshold_in < threshold_out to avoid infinite looping.\n",
    "    \"\"\"\n",
    "    included = list(initial_list)\n",
    "    while True:\n",
    "        changed=False\n",
    "        # forward step\n",
    "        excluded = list(set(X.columns)-set(included))\n",
    "        new_pval = pd.Series(index=excluded)\n",
    "        for new_column in excluded:\n",
    "            model = sm.OLS(y, sm.add_constant(pd.DataFrame(X[included+[new_column]]))).fit()\n",
    "            new_pval[new_column] = model.pvalues[new_column]\n",
    "        best_pval = new_pval.min()\n",
    "        if best_pval < threshold_in:\n",
    "            best_feature = new_pval.argmin()\n",
    "            included.append(best_feature)\n",
    "            changed=True\n",
    "            if verbose:\n",
    "                print('Add  {:30} with p-value {:.6}'.format(best_feature, best_pval))\n",
    "\n",
    "        # backward step\n",
    "        model = sm.OLS(y, sm.add_constant(pd.DataFrame(X[included]))).fit()\n",
    "        # use all coefs except intercept\n",
    "        pvalues = model.pvalues.iloc[1:]\n",
    "        worst_pval = pvalues.max() # null if pvalues is empty\n",
    "        if worst_pval > threshold_out:\n",
    "            changed=True\n",
    "            worst_feature = pvalues.argmax()\n",
    "            included.remove(worst_feature)\n",
    "            if verbose:\n",
    "                print('Drop {:30} with p-value {:.6}'.format(worst_feature, worst_pval))\n",
    "        if not changed:\n",
    "            break\n",
    "    return included\n",
    "\n",
    "result = stepwise_selection(X, y)\n",
    "\n",
    "print('resulting features:')\n",
    "print(result)"
   ]
  },
  {
   "cell_type": "code",
   "execution_count": 76,
   "metadata": {},
   "outputs": [],
   "source": [
    "new_X = X#.drop(['PM2.5_4', 'HUM_5','WD_2_sin', 'PM2.5_3'],axis=1)"
   ]
  },
  {
   "cell_type": "code",
   "execution_count": 77,
   "metadata": {},
   "outputs": [
    {
     "name": "stdout",
     "output_type": "stream",
     "text": [
      "167050.8773576569\n"
     ]
    }
   ],
   "source": [
    "regr_new = OLS(y, add_constant(new_X)).fit()\n",
    "print(regr_new.aic)"
   ]
  },
  {
   "cell_type": "code",
   "execution_count": 78,
   "metadata": {
    "slideshow": {
     "slide_type": "slide"
    }
   },
   "outputs": [],
   "source": [
    "from sklearn.linear_model import LinearRegression\n",
    "from sklearn.metrics import mean_squared_error, mean_absolute_error, r2_score\n",
    "\n",
    "# Create linear regression object\n",
    "regr = LinearRegression()"
   ]
  },
  {
   "cell_type": "code",
   "execution_count": 79,
   "metadata": {
    "scrolled": true
   },
   "outputs": [
    {
     "name": "stdout",
     "output_type": "stream",
     "text": [
      "Root Mean Squared Error: 10.29 (+/- 1.67) ug/m^3\n",
      "R2: 0.98 (+/- 0.00)\n"
     ]
    }
   ],
   "source": [
    "from sklearn.model_selection import cross_validate\n",
    "scores = cross_validate(regr, X_train, y_train, cv=10, scoring=['neg_mean_squared_error','r2'],return_train_score=True)\n",
    "scores['test_neg_mean_squared_error'] = -scores['test_neg_mean_squared_error']\n",
    "scores['test_neg_mean_squared_error'] = np.sqrt(scores['test_neg_mean_squared_error'])\n",
    "print(\"Root Mean Squared Error: %0.2f (+/- %0.2f) ug/m^3\" % (scores['test_neg_mean_squared_error'].mean(), scores['test_neg_mean_squared_error'].std() * 2))\n",
    "print(\"R2: %0.2f (+/- %0.2f)\" % (scores['train_r2'].mean(), scores['train_r2'].std() * 2))"
   ]
  },
  {
   "cell_type": "code",
   "execution_count": 80,
   "metadata": {},
   "outputs": [
    {
     "data": {
      "text/plain": [
       "LinearRegression(copy_X=True, fit_intercept=True, n_jobs=None,\n",
       "         normalize=False)"
      ]
     },
     "execution_count": 80,
     "metadata": {},
     "output_type": "execute_result"
    }
   ],
   "source": [
    "# Train the model using the training sets\n",
    "regr.fit(X_train, y_train)"
   ]
  },
  {
   "cell_type": "code",
   "execution_count": 81,
   "metadata": {},
   "outputs": [],
   "source": [
    "# Make predictions using the testing set\n",
    "lin_pred = regr.predict(X_test)"
   ]
  },
  {
   "cell_type": "code",
   "execution_count": 82,
   "metadata": {},
   "outputs": [
    {
     "name": "stdout",
     "output_type": "stream",
     "text": [
      "0.9828593526060561\n"
     ]
    }
   ],
   "source": [
    "linear_regression_score = regr.score(X_test, y_test)\n",
    "R2 = linear_regression_score\n",
    "p = 42\n",
    "n = 15632\n",
    "print(1-(1-R2)*(n-1)/(n-p-1))"
   ]
  },
  {
   "cell_type": "code",
   "execution_count": 83,
   "metadata": {
    "slideshow": {
     "slide_type": "slide"
    }
   },
   "outputs": [
    {
     "name": "stdout",
     "output_type": "stream",
     "text": [
      "Coefficients: \n",
      " [ 1.10328229e-01 -1.43237047e+00  9.37603475e+00 -1.37395741e+01\n",
      " -7.91765514e+00  7.17769167e+00  7.50748139e+00  1.54201584e+00\n",
      "  3.67165206e-01 -1.35856920e+00 -9.12498994e-01  6.61396173e-02\n",
      " -3.40169916e-01 -2.98837731e-01  3.24527310e-01 -7.09400740e-02\n",
      " -3.65667280e-01  2.39721739e-01 -1.48525360e-01 -3.79313139e-02\n",
      "  2.34316723e-01  3.58028467e-01 -5.02486668e-01 -2.65829188e-02\n",
      " -1.98144304e+00  5.94423600e-01  3.82260635e-01  2.65543307e+01\n",
      " -5.07912403e-01  6.77594096e-01 -3.63681397e+01  6.73273135e+00\n",
      " -6.34129335e-01 -1.36258266e+01 -4.77613422e+01 -5.67351272e-01\n",
      "  1.74244408e+01  1.13831042e+02 -9.13530346e-01 -2.94160380e-01\n",
      "  8.33099808e+00 -1.17189330e-02]\n",
      "Root mean squared error: 9.97 ug/m^3\n",
      "Mean absolute error: 5.91 ug/m^3\n",
      "R-squared: 0.98\n"
     ]
    }
   ],
   "source": [
    "from math import sqrt\n",
    "# The coefficients\n",
    "print('Coefficients: \\n', regr.coef_)\n",
    "# The mean squared error\n",
    "print(\"Root mean squared error: %.2f ug/m^3\"\n",
    "      % sqrt(mean_squared_error(y_test, lin_pred)))\n",
    "# The absolute squared error\n",
    "print(\"Mean absolute error: %.2f ug/m^3\"\n",
    "      % mean_absolute_error(y_test, lin_pred))\n",
    "# Explained variance score: 1 is perfect prediction\n",
    "print('R-squared: %.2f' % r2_score(y_test, lin_pred))"
   ]
  },
  {
   "cell_type": "code",
   "execution_count": 84,
   "metadata": {
    "slideshow": {
     "slide_type": "slide"
    }
   },
   "outputs": [
    {
     "data": {
      "image/png": "[encoded data removed]",
      "text/plain": [
       "<Figure size 1152x648 with 1 Axes>"
      ]
     },
     "metadata": {},
     "output_type": "display_data"
    }
   ],
   "source": [
    "plt.scatter(y_test, lin_pred)\n",
    "plt.xlabel('Measured')\n",
    "plt.ylabel('Predicted')\n",
    "plt.title('Linear Regression Predicted vs Actual')\n",
    "plt.show()"
   ]
  },
  {
   "cell_type": "code",
   "execution_count": 85,
   "metadata": {
    "slideshow": {
     "slide_type": "slide"
    }
   },
   "outputs": [
    {
     "name": "stdout",
     "output_type": "stream",
     "text": [
      "Root Mean Squared Error: 12.81 (+/- 1.33) ug/m^3\n",
      "R2: 0.97 (+/- 0.00) ug/m^3\n"
     ]
    }
   ],
   "source": [
    "from sklearn.linear_model import Lasso\n",
    "\n",
    "lasso = Lasso()\n",
    "\n",
    "from sklearn.model_selection import cross_validate\n",
    "scores = cross_validate(lasso, X_train, y_train, cv=10, scoring=['neg_mean_squared_error','r2'],return_train_score=True)\n",
    "scores['test_neg_mean_squared_error'] = -scores['test_neg_mean_squared_error']\n",
    "scores['test_neg_mean_squared_error'] = np.sqrt(scores['test_neg_mean_squared_error'])\n",
    "print(\"Root Mean Squared Error: %0.2f (+/- %0.2f) ug/m^3\" % (scores['test_neg_mean_squared_error'].mean(), scores['test_neg_mean_squared_error'].std() * 2))\n",
    "print(\"R2: %0.2f (+/- %0.2f) ug/m^3\" % (scores['train_r2'].mean(), scores['train_r2'].std() * 2))"
   ]
  },
  {
   "cell_type": "code",
   "execution_count": 86,
   "metadata": {},
   "outputs": [
    {
     "data": {
      "text/plain": [
       "Lasso(alpha=1.0, copy_X=True, fit_intercept=True, max_iter=1000,\n",
       "   normalize=False, positive=False, precompute=False, random_state=None,\n",
       "   selection='cyclic', tol=0.0001, warm_start=False)"
      ]
     },
     "execution_count": 86,
     "metadata": {},
     "output_type": "execute_result"
    }
   ],
   "source": [
    "lasso.fit(X_train, y_train)"
   ]
  },
  {
   "cell_type": "code",
   "execution_count": 87,
   "metadata": {},
   "outputs": [
    {
     "data": {
      "text/plain": [
       "0.9733366116772912"
      ]
     },
     "execution_count": 87,
     "metadata": {},
     "output_type": "execute_result"
    }
   ],
   "source": [
    "# Score the model\n",
    "lasso_score = lasso.score(X_test, y_test)\n",
    "lasso_score"
   ]
  },
  {
   "cell_type": "code",
   "execution_count": 88,
   "metadata": {},
   "outputs": [],
   "source": [
    "# Make predictions using the testing set\n",
    "lasso_pred = lasso.predict(X_test)"
   ]
  },
  {
   "cell_type": "code",
   "execution_count": 89,
   "metadata": {},
   "outputs": [
    {
     "name": "stdout",
     "output_type": "stream",
     "text": [
      "Root mean squared error: 12.45 ug/m^3\n",
      "Mean absolute error: 7.11 ug/m^3\n"
     ]
    }
   ],
   "source": [
    "print(\"Root mean squared error: %.2f ug/m^3\"\n",
    "      % sqrt(mean_squared_error(y_test, lasso_pred)))\n",
    "print(\"Mean absolute error: %.2f ug/m^3\"\n",
    "      % mean_absolute_error(y_test, lasso_pred))"
   ]
  },
  {
   "cell_type": "code",
   "execution_count": 90,
   "metadata": {
    "slideshow": {
     "slide_type": "slide"
    }
   },
   "outputs": [
    {
     "data": {
      "image/png": "[encoded data removed]",
      "text/plain": [
       "<Figure size 1152x648 with 1 Axes>"
      ]
     },
     "metadata": {},
     "output_type": "display_data"
    }
   ],
   "source": [
    "plt.scatter(y_test, lasso_pred)\n",
    "plt.xlabel('Measured')\n",
    "plt.ylabel('Predicted')\n",
    "plt.title('Lasso Predicted vs Actual')\n",
    "plt.show()"
   ]
  },
  {
   "cell_type": "code",
   "execution_count": 91,
   "metadata": {},
   "outputs": [
    {
     "name": "stdout",
     "output_type": "stream",
     "text": [
      "Root Mean Squared Error: 10.29 (+/- 1.65) ug/m^3\n",
      "R2: 0.98 (+/- 0.00) ug/m^3\n"
     ]
    }
   ],
   "source": [
    "from sklearn.linear_model import Ridge\n",
    "\n",
    "ridge = Ridge()\n",
    "\n",
    "from sklearn.model_selection import cross_validate\n",
    "scores = cross_validate(ridge, X_train, y_train, cv=10, scoring=['neg_mean_squared_error','r2'],return_train_score=True)\n",
    "scores['test_neg_mean_squared_error'] = -scores['test_neg_mean_squared_error']\n",
    "scores['test_neg_mean_squared_error'] = np.sqrt(scores['test_neg_mean_squared_error'])\n",
    "print(\"Root Mean Squared Error: %0.2f (+/- %0.2f) ug/m^3\" % (scores['test_neg_mean_squared_error'].mean(), scores['test_neg_mean_squared_error'].std() * 2))\n",
    "print(\"R2: %0.2f (+/- %0.2f) ug/m^3\" % (scores['train_r2'].mean(), scores['train_r2'].std() * 2))"
   ]
  },
  {
   "cell_type": "code",
   "execution_count": 92,
   "metadata": {},
   "outputs": [
    {
     "data": {
      "text/plain": [
       "Ridge(alpha=1.0, copy_X=True, fit_intercept=True, max_iter=None,\n",
       "   normalize=False, random_state=None, solver='auto', tol=0.001)"
      ]
     },
     "execution_count": 92,
     "metadata": {},
     "output_type": "execute_result"
    }
   ],
   "source": [
    "ridge.fit(X_train, y_train)"
   ]
  },
  {
   "cell_type": "code",
   "execution_count": 93,
   "metadata": {},
   "outputs": [
    {
     "data": {
      "text/plain": [
       "0.9828972474739774"
      ]
     },
     "execution_count": 93,
     "metadata": {},
     "output_type": "execute_result"
    }
   ],
   "source": [
    "ridge_score = ridge.score(X_test, y_test)\n",
    "ridge_score"
   ]
  },
  {
   "cell_type": "code",
   "execution_count": 94,
   "metadata": {},
   "outputs": [],
   "source": [
    "ridge_pred = ridge.predict(X_test)"
   ]
  },
  {
   "cell_type": "code",
   "execution_count": 95,
   "metadata": {},
   "outputs": [
    {
     "name": "stdout",
     "output_type": "stream",
     "text": [
      "Root mean squared error: 9.97 ug/m^3\n",
      "Mean absolute error: 5.90 ug/m^3\n"
     ]
    }
   ],
   "source": [
    "print(\"Root mean squared error: %.2f ug/m^3\"\n",
    "      % sqrt(mean_squared_error(y_test, ridge_pred)))\n",
    "print(\"Mean absolute error: %.2f ug/m^3\"\n",
    "      % mean_absolute_error(y_test, ridge_pred))"
   ]
  },
  {
   "cell_type": "code",
   "execution_count": 96,
   "metadata": {},
   "outputs": [
    {
     "data": {
      "image/png": "[encoded data removed]",
      "text/plain": [
       "<Figure size 1152x648 with 1 Axes>"
      ]
     },
     "metadata": {},
     "output_type": "display_data"
    }
   ],
   "source": [
    "plt.scatter(y_test, lasso_pred)\n",
    "plt.xlabel('Measured')\n",
    "plt.ylabel('Predicted')\n",
    "plt.title('Ridge Predicted vs Actual')\n",
    "plt.show()"
   ]
  },
  {
   "cell_type": "code",
   "execution_count": 97,
   "metadata": {},
   "outputs": [
    {
     "name": "stdout",
     "output_type": "stream",
     "text": [
      "Root Mean Squared Error: 22.97 (+/- 2.05) ug/m^3\n",
      "R2: 0.91 (+/- 0.00) ug/m^3\n"
     ]
    }
   ],
   "source": [
    "from sklearn.linear_model import ElasticNet\n",
    "\n",
    "elasticnet = ElasticNet()\n",
    "\n",
    "from sklearn.model_selection import cross_validate\n",
    "scores = cross_validate(elasticnet, X_train, y_train, cv=10, scoring=['neg_mean_squared_error','r2'],return_train_score=True)\n",
    "scores['test_neg_mean_squared_error'] = -scores['test_neg_mean_squared_error']\n",
    "scores['test_neg_mean_squared_error'] = np.sqrt(scores['test_neg_mean_squared_error'])\n",
    "print(\"Root Mean Squared Error: %0.2f (+/- %0.2f) ug/m^3\" % (scores['test_neg_mean_squared_error'].mean(), scores['test_neg_mean_squared_error'].std() * 2))\n",
    "print(\"R2: %0.2f (+/- %0.2f) ug/m^3\" % (scores['train_r2'].mean(), scores['train_r2'].std() * 2))"
   ]
  },
  {
   "cell_type": "code",
   "execution_count": 98,
   "metadata": {},
   "outputs": [
    {
     "data": {
      "text/plain": [
       "ElasticNet(alpha=1.0, copy_X=True, fit_intercept=True, l1_ratio=0.5,\n",
       "      max_iter=1000, normalize=False, positive=False, precompute=False,\n",
       "      random_state=None, selection='cyclic', tol=0.0001, warm_start=False)"
      ]
     },
     "execution_count": 98,
     "metadata": {},
     "output_type": "execute_result"
    }
   ],
   "source": [
    "elasticnet.fit(X_train, y_train)"
   ]
  },
  {
   "cell_type": "code",
   "execution_count": 99,
   "metadata": {},
   "outputs": [
    {
     "data": {
      "text/plain": [
       "0.9097327072902314"
      ]
     },
     "execution_count": 99,
     "metadata": {},
     "output_type": "execute_result"
    }
   ],
   "source": [
    "elasticnet_score = elasticnet.score(X_test, y_test)\n",
    "elasticnet_score"
   ]
  },
  {
   "cell_type": "code",
   "execution_count": 100,
   "metadata": {},
   "outputs": [],
   "source": [
    "elasticnet_pred = elasticnet.predict(X_test)"
   ]
  },
  {
   "cell_type": "code",
   "execution_count": 101,
   "metadata": {},
   "outputs": [
    {
     "name": "stdout",
     "output_type": "stream",
     "text": [
      "Root mean squared error: 22.90 ug/m^3\n"
     ]
    }
   ],
   "source": [
    "# The mean squared error\n",
    "print(\"Root mean squared error: %.2f ug/m^3\"\n",
    "      % sqrt(mean_squared_error(y_test, elasticnet_pred)))\n"
   ]
  },
  {
   "cell_type": "code",
   "execution_count": 102,
   "metadata": {},
   "outputs": [
    {
     "name": "stdout",
     "output_type": "stream",
     "text": [
      "RMSE value for k=  1 is: 19.670836144578747\n",
      "RMSE value for k=  2 is: 17.26784038472208\n",
      "RMSE value for k=  3 is: 17.634664290213298\n",
      "RMSE value for k=  4 is: 18.207984790563607\n",
      "RMSE value for k=  5 is: 18.855710796783566\n",
      "RMSE value for k=  6 is: 19.21484186021579\n",
      "RMSE value for k=  7 is: 19.658711216147054\n",
      "RMSE value for k=  8 is: 20.07804784063808\n",
      "RMSE value for k=  9 is: 20.294376721221475\n",
      "RMSE value for k=  10 is: 20.59858635126323\n",
      "RMSE value for k=  11 is: 20.76413172762697\n",
      "RMSE value for k=  12 is: 20.966609504940706\n",
      "RMSE value for k=  13 is: 21.18058425813673\n",
      "RMSE value for k=  14 is: 21.2913173431399\n",
      "RMSE value for k=  15 is: 21.38949186163086\n",
      "RMSE value for k=  16 is: 21.504759735622414\n",
      "RMSE value for k=  17 is: 21.59249061008908\n",
      "RMSE value for k=  18 is: 21.70987921829972\n",
      "RMSE value for k=  19 is: 21.799716817128225\n",
      "RMSE value for k=  20 is: 21.89018963352997\n"
     ]
    }
   ],
   "source": [
    "\"\"\"from sklearn import neighbors\n",
    "from sklearn.metrics import mean_squared_error \n",
    "from math import sqrt\n",
    "import matplotlib.pyplot as plt\n",
    "%matplotlib inline\n",
    "\n",
    "rmse_val = [] #to store rmse values for different k\n",
    "for K in range(20):\n",
    "    K = K+1\n",
    "    model = neighbors.KNeighborsRegressor(n_neighbors = K)\n",
    "\n",
    "    model.fit(X_train, y_train)  #fit the model\n",
    "    pred=model.predict(X_test) #make prediction on test set\n",
    "    error = sqrt(mean_squared_error(y_test,pred)) #calculate rmse\n",
    "    rmse_val.append(error) #store rmse values\n",
    "    print('RMSE value for k= ' , K , 'is:', error)\"\"\""
   ]
  },
  {
   "cell_type": "code",
   "execution_count": 103,
   "metadata": {},
   "outputs": [
    {
     "data": {
      "text/plain": [
       "<matplotlib.axes._subplots.AxesSubplot at 0x1a191a4390>"
      ]
     },
     "execution_count": 103,
     "metadata": {},
     "output_type": "execute_result"
    },
    {
     "data": {
      "image/png": "[encoded data removed]",
      "text/plain": [
       "<Figure size 432x288 with 1 Axes>"
      ]
     },
     "metadata": {
      "needs_background": "light"
     },
     "output_type": "display_data"
    }
   ],
   "source": [
    "\"\"\"curve = pd.DataFrame(rmse_val) #elbow curve \n",
    "curve.plot()\"\"\""
   ]
  },
  {
   "cell_type": "code",
   "execution_count": 105,
   "metadata": {},
   "outputs": [
    {
     "data": {
      "text/plain": [
       "{'n_neighbors': 2}"
      ]
     },
     "execution_count": 105,
     "metadata": {},
     "output_type": "execute_result"
    }
   ],
   "source": [
    "\"\"\"from sklearn.model_selection import GridSearchCV\n",
    "params = {'n_neighbors':[2,3]}\n",
    "\n",
    "knn = neighbors.KNeighborsRegressor()\n",
    "\n",
    "model = GridSearchCV(knn, params, cv=5)\n",
    "model.fit(X_train,y_train)\n",
    "model.best_params_\n",
    "\"\"\""
   ]
  },
  {
   "cell_type": "code",
   "execution_count": 108,
   "metadata": {},
   "outputs": [
    {
     "name": "stdout",
     "output_type": "stream",
     "text": [
      "Root Mean Squared Error: 20.78 (+/- 0.26) ug/m^3\n",
      "R2: 0.98 (+/- 0.00) ug/m^3\n"
     ]
    }
   ],
   "source": [
    "\"\"\"model = neighbors.KNeighborsRegressor(n_neighbors = 2,p=1) #manhattan distance\n",
    "\n",
    "from sklearn.model_selection import cross_validate\n",
    "scores = cross_validate(model, X_train, y_train, cv=2, scoring=['neg_mean_squared_error','r2'],return_train_score=True)\n",
    "scores['test_neg_mean_squared_error'] = -scores['test_neg_mean_squared_error']\n",
    "scores['test_neg_mean_squared_error'] = np.sqrt(scores['test_neg_mean_squared_error'])\n",
    "print(\"Root Mean Squared Error: %0.2f (+/- %0.2f) ug/m^3\" % (scores['test_neg_mean_squared_error'].mean(), scores['test_neg_mean_squared_error'].std() * 2))\n",
    "print(\"R2: %0.2f (+/- %0.2f) ug/m^3\" % (scores['train_r2'].mean(), scores['train_r2'].std() * 2))\"\"\""
   ]
  },
  {
   "cell_type": "code",
   "execution_count": 109,
   "metadata": {},
   "outputs": [
    {
     "data": {
      "text/plain": [
       "KNeighborsRegressor(algorithm='auto', leaf_size=30, metric='minkowski',\n",
       "          metric_params=None, n_jobs=None, n_neighbors=5, p=2,\n",
       "          weights='uniform')"
      ]
     },
     "execution_count": 109,
     "metadata": {},
     "output_type": "execute_result"
    }
   ],
   "source": [
    "\"\"\"knn.fit(X_train,y_train)\"\"\""
   ]
  },
  {
   "cell_type": "code",
   "execution_count": 110,
   "metadata": {},
   "outputs": [
    {
     "data": {
      "text/plain": [
       "0.9388244936124438"
      ]
     },
     "execution_count": 110,
     "metadata": {},
     "output_type": "execute_result"
    }
   ],
   "source": [
    "\"\"\"knn_score = knn.score(X_test, y_test)\n",
    "knn_score\"\"\""
   ]
  },
  {
   "cell_type": "code",
   "execution_count": 111,
   "metadata": {},
   "outputs": [],
   "source": [
    "\"\"\"knn_pred = knn.predict(X_test)\"\"\""
   ]
  },
  {
   "cell_type": "code",
   "execution_count": 112,
   "metadata": {},
   "outputs": [
    {
     "name": "stdout",
     "output_type": "stream",
     "text": [
      "Root mean squared error: 18.86 ug/m^3\n",
      "Mean absolute error: 12.37 ug/m^3\n"
     ]
    }
   ],
   "source": [
    "\"\"\"print(\"Root mean squared error: %.2f ug/m^3\"\n",
    "      % sqrt(mean_squared_error(y_test, knn_pred)))\n",
    "print(\"Mean absolute error: %.2f ug/m^3\"\n",
    "      % mean_absolute_error(y_test, knn_pred))\"\"\""
   ]
  },
  {
   "cell_type": "code",
   "execution_count": 114,
   "metadata": {},
   "outputs": [],
   "source": [
    "df = pd.read_csv('PRSA_Data_20130301-20170228/PRSA_Data_Aotizhongxin_20130301-20170228.csv')\n",
    "regr.fit(X_train, y_train)\n",
    "center = center.drop(['PM2.5'], axis=1)\n",
    "lin_pred = regr.predict(center)\n",
    "prediction = pd.DataFrame()"
   ]
  },
  {
   "cell_type": "code",
   "execution_count": 115,
   "metadata": {},
   "outputs": [
    {
     "data": {
      "image/png": "[encoded data removed]",
      "text/plain": [
       "<Figure size 432x288 with 1 Axes>"
      ]
     },
     "metadata": {
      "needs_background": "light"
     },
     "output_type": "display_data"
    }
   ],
   "source": [
    "plt.plot(lin_pred[-340:-1])\n",
    "\n",
    "plt.show()"
   ]
  },
  {
   "cell_type": "code",
   "execution_count": 116,
   "metadata": {},
   "outputs": [
    {
     "data": {
      "text/plain": [
       "[<matplotlib.lines.Line2D at 0x1a1a8a6668>]"
      ]
     },
     "execution_count": 116,
     "metadata": {},
     "output_type": "execute_result"
    },
    {
     "data": {
      "image/png": "[encoded data removed]",
      "text/plain": [
       "<Figure size 432x288 with 1 Axes>"
      ]
     },
     "metadata": {
      "needs_background": "light"
     },
     "output_type": "display_data"
    }
   ],
   "source": [
    "plt.plot(y[-340:-1])"
   ]
  }
 ],
 "metadata": {
  "celltoolbar": "Diaporama",
  "kernelspec": {
   "display_name": "Python 3",
   "language": "python",
   "name": "python3"
  },
  "language_info": {
   "codemirror_mode": {
    "name": "ipython",
    "version": 3
   },
   "file_extension": ".py",
   "mimetype": "text/x-python",
   "name": "python",
   "nbconvert_exporter": "python",
   "pygments_lexer": "ipython3",
   "version": "3.7.3"
  }
 },
 "nbformat": 4,
 "nbformat_minor": 2
}
